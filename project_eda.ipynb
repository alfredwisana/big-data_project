{
 "cells": [
  {
   "cell_type": "markdown",
   "metadata": {
    "colab_type": "text",
    "id": "view-in-github"
   },
   "source": [
    "<a href=\"https://colab.research.google.com/github/alfredwisana/big-data_project/blob/main/project.ipynb\" target=\"_parent\"><img src=\"https://colab.research.google.com/assets/colab-badge.svg\" alt=\"Open In Colab\"/></a>"
   ]
  },
  {
   "cell_type": "code",
   "execution_count": 1,
   "metadata": {
    "id": "CIgA6eSIzvf8"
   },
   "outputs": [],
   "source": [
    "from pyspark.sql import SparkSession\n",
    "\n",
    "spark = SparkSession.builder.appName('local[2]').appName('myApp').getOrCreate()\n",
    "import matplotlib.pyplot as plt\n",
    "import seaborn"
   ]
  },
  {
   "cell_type": "code",
   "execution_count": 2,
   "metadata": {
    "id": "tU7KPimfzvf-",
    "outputId": "5cacbca3-6f6f-46c8-c928-35ca98833b17"
   },
   "outputs": [
    {
     "name": "stdout",
     "output_type": "stream",
     "text": [
      "+---+---------+-------+-----------+--------------+-----+-------------+----------------+-------+--------+---------+-----+\n",
      "|_c0|  airline| flight|source_city|departure_time|stops| arrival_time|destination_city|  class|duration|days_left|price|\n",
      "+---+---------+-------+-----------+--------------+-----+-------------+----------------+-------+--------+---------+-----+\n",
      "|  0| SpiceJet|SG-8709|      Delhi|       Evening| zero|        Night|          Mumbai|Economy|    2.17|        1| 5953|\n",
      "|  1| SpiceJet|SG-8157|      Delhi| Early_Morning| zero|      Morning|          Mumbai|Economy|    2.33|        1| 5953|\n",
      "|  2|  AirAsia| I5-764|      Delhi| Early_Morning| zero|Early_Morning|          Mumbai|Economy|    2.17|        1| 5956|\n",
      "|  3|  Vistara| UK-995|      Delhi|       Morning| zero|    Afternoon|          Mumbai|Economy|    2.25|        1| 5955|\n",
      "|  4|  Vistara| UK-963|      Delhi|       Morning| zero|      Morning|          Mumbai|Economy|    2.33|        1| 5955|\n",
      "|  5|  Vistara| UK-945|      Delhi|       Morning| zero|    Afternoon|          Mumbai|Economy|    2.33|        1| 5955|\n",
      "|  6|  Vistara| UK-927|      Delhi|       Morning| zero|      Morning|          Mumbai|Economy|    2.08|        1| 6060|\n",
      "|  7|  Vistara| UK-951|      Delhi|     Afternoon| zero|      Evening|          Mumbai|Economy|    2.17|        1| 6060|\n",
      "|  8| GO_FIRST| G8-334|      Delhi| Early_Morning| zero|      Morning|          Mumbai|Economy|    2.17|        1| 5954|\n",
      "|  9| GO_FIRST| G8-336|      Delhi|     Afternoon| zero|      Evening|          Mumbai|Economy|    2.25|        1| 5954|\n",
      "| 10| GO_FIRST| G8-392|      Delhi|     Afternoon| zero|      Evening|          Mumbai|Economy|    2.25|        1| 5954|\n",
      "| 11| GO_FIRST| G8-338|      Delhi|       Morning| zero|    Afternoon|          Mumbai|Economy|    2.33|        1| 5954|\n",
      "| 12|   Indigo|6E-5001|      Delhi| Early_Morning| zero|      Morning|          Mumbai|Economy|    2.17|        1| 5955|\n",
      "| 13|   Indigo|6E-6202|      Delhi|       Morning| zero|    Afternoon|          Mumbai|Economy|    2.17|        1| 5955|\n",
      "| 14|   Indigo| 6E-549|      Delhi|     Afternoon| zero|      Evening|          Mumbai|Economy|    2.25|        1| 5955|\n",
      "| 15|   Indigo|6E-6278|      Delhi|       Morning| zero|      Morning|          Mumbai|Economy|    2.33|        1| 5955|\n",
      "| 16|Air_India| AI-887|      Delhi| Early_Morning| zero|      Morning|          Mumbai|Economy|    2.08|        1| 5955|\n",
      "| 17|Air_India| AI-665|      Delhi| Early_Morning| zero|      Morning|          Mumbai|Economy|    2.17|        1| 5955|\n",
      "| 18|  AirAsia| I5-747|      Delhi|       Evening|  one|Early_Morning|          Mumbai|Economy|   12.25|        1| 5949|\n",
      "| 19|  AirAsia| I5-747|      Delhi|       Evening|  one|      Morning|          Mumbai|Economy|   16.33|        1| 5949|\n",
      "| 20| GO_FIRST| G8-266|      Delhi| Early_Morning|  one|      Evening|          Mumbai|Economy|   11.75|        1| 5954|\n",
      "| 21| GO_FIRST| G8-101|      Delhi| Early_Morning|  one|        Night|          Mumbai|Economy|    14.5|        1| 5954|\n",
      "| 22| GO_FIRST| G8-103|      Delhi|       Evening|  one|      Morning|          Mumbai|Economy|   15.67|        1| 5954|\n",
      "| 23|Air_India| AI-441|      Delhi|       Evening|  one|        Night|          Mumbai|Economy|    3.75|        1| 5955|\n",
      "| 24|   Indigo|6E-5328|      Delhi|       Morning| zero|      Morning|          Mumbai|Economy|     2.5|        1| 6165|\n",
      "| 25|  Vistara| UK-933|      Delhi|     Afternoon| zero|      Evening|          Mumbai|Economy|    2.17|        1| 6690|\n",
      "| 26|   Indigo|6E-2046|      Delhi|       Evening| zero|      Evening|          Mumbai|Economy|    2.17|        1| 6585|\n",
      "| 27|  AirAsia| I5-744|      Delhi|       Morning|  one|    Afternoon|          Mumbai|Economy|    5.83|        1| 8869|\n",
      "| 28| SpiceJet|SG-8169|      Delhi|       Evening| zero|        Night|          Mumbai|Economy|    2.33|        1|10260|\n",
      "| 29|   Indigo|6E-5041|      Delhi|       Evening| zero|        Night|          Mumbai|Economy|    2.17|        1|10470|\n",
      "+---+---------+-------+-----------+--------------+-----+-------------+----------------+-------+--------+---------+-----+\n",
      "only showing top 30 rows\n",
      "\n"
     ]
    }
   ],
   "source": [
    "# Read the CSV file containing Titanic dataset into Spark's DataFrame and show it\n",
    "\n",
    "df = spark.read.format('csv').options(header=True, inferSchema=True).load('Clean_Dataset.csv')\n",
    "df.show(30,truncate=50)\n"
   ]
  },
  {
   "cell_type": "code",
   "execution_count": 3,
   "metadata": {},
   "outputs": [
    {
     "name": "stdout",
     "output_type": "stream",
     "text": [
      "root\n",
      " |-- _c0: integer (nullable = true)\n",
      " |-- airline: string (nullable = true)\n",
      " |-- flight: string (nullable = true)\n",
      " |-- source_city: string (nullable = true)\n",
      " |-- departure_time: string (nullable = true)\n",
      " |-- stops: string (nullable = true)\n",
      " |-- arrival_time: string (nullable = true)\n",
      " |-- destination_city: string (nullable = true)\n",
      " |-- class: string (nullable = true)\n",
      " |-- duration: double (nullable = true)\n",
      " |-- days_left: integer (nullable = true)\n",
      " |-- price: integer (nullable = true)\n",
      "\n"
     ]
    }
   ],
   "source": [
    "# Try to print the schema\n",
    "\n",
    "df.printSchema()"
   ]
  },
  {
   "cell_type": "markdown",
   "metadata": {},
   "source": [
    "| Field         | Description                                              |\n",
    "|---------------|----------------------------------------------------------|\n",
    "| *Airline*     | Airline                                                  |\n",
    "| *Flight*      | Unique flight id                                         |\n",
    "| *Source_city* | Departure city                                           |\n",
    "| *Departure_time*| Departure time                                         |\n",
    "| *Stops*         | Number of stops along the way                          |\n",
    "| *Arrival_time*| Arrival time                                             |\n",
    "| *Destination_city*| Flight destination                                   |\n",
    "| *Class*       | Seating class                                            |\n",
    "| *Duration*    | Overall amount of time it takes to travel between cities in hours                                |\n",
    "| *Days_left*   | The number of days between the booking date and the trip date                                             |\n",
    "| *Price*    | Price |"
   ]
  },
  {
   "cell_type": "code",
   "execution_count": 4,
   "metadata": {},
   "outputs": [
    {
     "name": "stdout",
     "output_type": "stream",
     "text": [
      "+-------+-----------------+-------+--------------------+-----------+--------------+------+------------+----------------+--------+------------------+------------------+------------------+\n",
      "|summary|              _c0|airline|              flight|source_city|departure_time| stops|arrival_time|destination_city|   class|          duration|         days_left|             price|\n",
      "+-------+-----------------+-------+--------------------+-----------+--------------+------+------------+----------------+--------+------------------+------------------+------------------+\n",
      "|  count|           300153| 300153|              300153|     300153|        300153|300153|      300153|          300153|  300153|            300153|            300153|            300153|\n",
      "|   mean|         150076.0|   NULL|5.427411873908628...|       NULL|          NULL|  NULL|        NULL|            NULL|    NULL|12.221020812718933|26.004750910369044|20889.660523133203|\n",
      "| stddev|86646.85201148395|   NULL|1.803651814074489...|       NULL|          NULL|  NULL|        NULL|            NULL|    NULL| 7.191997238119034|13.561003687093626| 22697.76736607441|\n",
      "|    min|                0|AirAsia|              6E-102|  Bangalore|     Afternoon|   one|   Afternoon|       Bangalore|Business|              0.83|                 1|              1105|\n",
      "|    25%|            75037|   NULL|                 0.0|       NULL|          NULL|  NULL|        NULL|            NULL|    NULL|              6.83|                15|              4783|\n",
      "|    50%|           150058|   NULL|                 0.0|       NULL|          NULL|  NULL|        NULL|            NULL|    NULL|             11.25|                26|              7425|\n",
      "|    75%|           225093|   NULL|                 0.0|       NULL|          NULL|  NULL|        NULL|            NULL|    NULL|             16.17|                38|             42521|\n",
      "|    max|           300152|Vistara|              UK-996|     Mumbai|         Night|  zero|       Night|          Mumbai| Economy|             49.83|                49|            123071|\n",
      "+-------+-----------------+-------+--------------------+-----------+--------------+------+------------+----------------+--------+------------------+------------------+------------------+\n",
      "\n"
     ]
    }
   ],
   "source": [
    "df.summary().show()"
   ]
  },
  {
   "cell_type": "code",
   "execution_count": 5,
   "metadata": {},
   "outputs": [
    {
     "name": "stdout",
     "output_type": "stream",
     "text": [
      "+---------+------+\n",
      "|  airline| count|\n",
      "+---------+------+\n",
      "| SpiceJet|  9011|\n",
      "|  AirAsia| 16098|\n",
      "| GO_FIRST| 23173|\n",
      "|   Indigo| 43120|\n",
      "|Air_India| 80892|\n",
      "|  Vistara|127859|\n",
      "+---------+------+\n",
      "\n"
     ]
    }
   ],
   "source": [
    "df.select(['airline']).groupby(['airline']).count().orderBy('count').show()"
   ]
  },
  {
   "cell_type": "code",
   "execution_count": 6,
   "metadata": {},
   "outputs": [],
   "source": [
    "from pyspark.sql.types import *\n",
    "from pyspark.sql.functions import *"
   ]
  },
  {
   "cell_type": "code",
   "execution_count": 7,
   "metadata": {},
   "outputs": [
    {
     "data": {
      "image/png": "[encoded data removed]",
      "text/plain": [
       "<Figure size 640x480 with 1 Axes>"
      ]
     },
     "metadata": {},
     "output_type": "display_data"
    }
   ],
   "source": [
    "import matplotlib.pyplot as plt \n",
    "import seaborn as sns\n",
    "\n",
    "#showing percentage of airlines, imbalanced!\n",
    "labels = ['SpiceJet','AirAsia','GO_FIRST','Indigo','Air_India','Vistara']\n",
    "total = df.select(['airline']).groupby(['airline']).count().orderBy('count').toPandas()\n",
    "plt.pie(data=total,labels=labels,autopct='%.0f%%',x='count')\n",
    "plt.show()"
   ]
  },
  {
   "cell_type": "code",
   "execution_count": 8,
   "metadata": {},
   "outputs": [
    {
     "name": "stdout",
     "output_type": "stream",
     "text": [
      "+----------------+-----+\n",
      "|destination_city|count|\n",
      "+----------------+-----+\n",
      "|         Chennai|40368|\n",
      "|       Hyderabad|42726|\n",
      "|         Kolkata|49534|\n",
      "|       Bangalore|51068|\n",
      "|           Delhi|57360|\n",
      "|          Mumbai|59097|\n",
      "+----------------+-----+\n",
      "\n"
     ]
    }
   ],
   "source": [
    "df.select(['destination_city']).groupby(['destination_city']).count().orderBy('count').show()"
   ]
  },
  {
   "cell_type": "code",
   "execution_count": 9,
   "metadata": {},
   "outputs": [
    {
     "data": {
      "image/png": "[encoded data removed]",
      "text/plain": [
       "<Figure size 640x480 with 1 Axes>"
      ]
     },
     "metadata": {},
     "output_type": "display_data"
    }
   ],
   "source": [
    "#showing percentage of flight destination\n",
    "labels = ['Chennai','Hyderabad','Kolkata','Bangalore','Delhi','Mumbai']\n",
    "total = df.select(['destination_city']).groupby(['destination_city']).count().orderBy('count').toPandas()\n",
    "plt.pie(data=total,labels=labels,autopct='%.0f%%',x='count')\n",
    "plt.show()"
   ]
  },
  {
   "cell_type": "code",
   "execution_count": 10,
   "metadata": {},
   "outputs": [
    {
     "name": "stdout",
     "output_type": "stream",
     "text": [
      "+-----------+-----+\n",
      "|source_city|count|\n",
      "+-----------+-----+\n",
      "|    Chennai|38700|\n",
      "|  Hyderabad|40806|\n",
      "|    Kolkata|46347|\n",
      "|  Bangalore|52061|\n",
      "|     Mumbai|60896|\n",
      "|      Delhi|61343|\n",
      "+-----------+-----+\n",
      "\n"
     ]
    }
   ],
   "source": [
    "df.select(['source_city']).groupby(['source_city']).count().orderBy('count').show()"
   ]
  },
  {
   "cell_type": "code",
   "execution_count": 11,
   "metadata": {},
   "outputs": [
    {
     "data": {
      "image/png": "[encoded data removed]",
      "text/plain": [
       "<Figure size 640x480 with 1 Axes>"
      ]
     },
     "metadata": {},
     "output_type": "display_data"
    }
   ],
   "source": [
    "#showing percentage of flight source\n",
    "labels = ['Chennai','Hyderabad','Kolkata','Bangalore','Mumbai','Delhi']\n",
    "total = df.select(['destination_city']).groupby(['destination_city']).count().orderBy('count').toPandas()\n",
    "plt.pie(data=total,labels=labels,autopct='%.0f%%',x='count')\n",
    "plt.show()"
   ]
  },
  {
   "cell_type": "code",
   "execution_count": 12,
   "metadata": {},
   "outputs": [
    {
     "name": "stdout",
     "output_type": "stream",
     "text": [
      "+-----------+----------------+--------+--------+\n",
      "|source_city|destination_city|duration|   price|\n",
      "+-----------+----------------+--------+--------+\n",
      "|      Delhi|          Mumbai|    2.21|11136.78|\n",
      "|    Kolkata|          Mumbai|    2.85|10973.62|\n",
      "|    Chennai|          Mumbai|    1.98| 9015.34|\n",
      "|  Hyderabad|          Mumbai|    1.53| 7574.86|\n",
      "|  Bangalore|          Mumbai|    1.79| 7519.49|\n",
      "|      Delhi|         Kolkata|     2.2|11156.08|\n",
      "|     Mumbai|         Kolkata|    2.64| 10672.2|\n",
      "|  Hyderabad|         Kolkata|    2.04| 6026.87|\n",
      "|    Chennai|         Kolkata|    2.39| 5792.92|\n",
      "|  Bangalore|         Kolkata|    2.53|  4775.9|\n",
      "|      Delhi|       Hyderabad|    2.22| 9775.86|\n",
      "|     Mumbai|       Hyderabad|    1.44| 7232.05|\n",
      "|    Kolkata|       Hyderabad|    2.21| 6135.82|\n",
      "|  Bangalore|       Hyderabad|    1.22| 3041.76|\n",
      "|    Chennai|       Hyderabad|    1.23| 2660.93|\n",
      "|  Bangalore|           Delhi|    2.77| 13215.6|\n",
      "|    Chennai|           Delhi|    2.79|12463.25|\n",
      "|    Kolkata|           Delhi|    2.45|11354.09|\n",
      "|     Mumbai|           Delhi|    2.19|10969.78|\n",
      "|  Hyderabad|           Delhi|    2.26|10371.48|\n",
      "+-----------+----------------+--------+--------+\n",
      "only showing top 20 rows\n",
      "\n"
     ]
    }
   ],
   "source": [
    "#this shows that source and destination affects the price\n",
    "#it seems that duration doesn't really affect the price if there are no stops\n",
    "src_dest = df.select(['source_city','destination_city','duration','price']).\\\n",
    "where(df.stops=='zero').groupby(['source_city','destination_city']).\\\n",
    "agg(round(mean(\"duration\"),2).alias(\"duration\"),round(mean(\"price\"),2).\\\n",
    "    alias(\"price\")).sort(col(\"destination_city\").desc(),col(\"price\").desc())\n",
    "src_dest.show()"
   ]
  },
  {
   "cell_type": "code",
   "execution_count": 13,
   "metadata": {},
   "outputs": [
    {
     "name": "stdout",
     "output_type": "stream",
     "text": [
      "+-----------+--------+\n",
      "|      stops|   price|\n",
      "+-----------+--------+\n",
      "|two_or_more|14113.45|\n",
      "|        one|22900.99|\n",
      "|       zero| 9375.94|\n",
      "+-----------+--------+\n",
      "\n"
     ]
    }
   ],
   "source": [
    "#surprisingly flying direct is cheaper than having to transit\n",
    "stop_price = df.select(['stops','price']).groupby(['stops']).agg(round(mean(\"price\"),2).alias(\"price\"))\n",
    "stop_price.show()"
   ]
  },
  {
   "cell_type": "code",
   "execution_count": 14,
   "metadata": {},
   "outputs": [
    {
     "name": "stdout",
     "output_type": "stream",
     "text": [
      "+-----------+----------------+-----------+--------+--------+\n",
      "|source_city|destination_city|      stops|duration|   price|\n",
      "+-----------+----------------+-----------+--------+--------+\n",
      "|  Bangalore|          Mumbai|        one|   12.15|25806.22|\n",
      "|    Chennai|          Mumbai|        one|   13.74|24637.82|\n",
      "|    Kolkata|          Mumbai|two_or_more|   16.55|23628.45|\n",
      "|    Kolkata|          Mumbai|        one|   13.73| 23041.1|\n",
      "|      Delhi|          Mumbai|        one|    12.9|21975.07|\n",
      "|  Hyderabad|          Mumbai|        one|   12.61|21541.69|\n",
      "|    Chennai|          Mumbai|two_or_more|    16.2|15491.87|\n",
      "|      Delhi|          Mumbai|       zero|    2.21|11136.78|\n",
      "|    Kolkata|          Mumbai|       zero|    2.85|10973.62|\n",
      "|    Chennai|          Mumbai|       zero|    1.98| 9015.34|\n",
      "|  Bangalore|          Mumbai|two_or_more|   15.19| 8545.72|\n",
      "|      Delhi|          Mumbai|two_or_more|   10.12| 8045.74|\n",
      "|  Hyderabad|          Mumbai|two_or_more|   18.59|  7912.8|\n",
      "|  Hyderabad|          Mumbai|       zero|    1.53| 7574.86|\n",
      "|  Bangalore|          Mumbai|       zero|    1.79| 7519.49|\n",
      "|  Bangalore|         Kolkata|        one|   13.74|26144.03|\n",
      "|    Chennai|         Kolkata|        one|   15.31|24322.94|\n",
      "|     Mumbai|         Kolkata|        one|   13.79|23892.33|\n",
      "|  Hyderabad|         Kolkata|        one|   14.28| 22378.9|\n",
      "|      Delhi|         Kolkata|        one|   14.31|22043.32|\n",
      "+-----------+----------------+-----------+--------+--------+\n",
      "only showing top 20 rows\n",
      "\n"
     ]
    }
   ],
   "source": [
    "#surprisingly flying direct is cheaper than having to transit\n",
    "src_dest = df.select(['source_city','destination_city','duration','stops','price']).\\\n",
    "groupby(['source_city','destination_city','stops']).\\\n",
    "agg(round(mean(\"duration\"),2).\\\n",
    "    alias(\"duration\"),round(mean(\"price\"),2).alias(\"price\")).\\\n",
    "sort(col(\"destination_city\").desc(),col(\"price\").desc())\n",
    "src_dest.show()"
   ]
  },
  {
   "cell_type": "code",
   "execution_count": 15,
   "metadata": {},
   "outputs": [
    {
     "name": "stdout",
     "output_type": "stream",
     "text": [
      "+---------+--------+\n",
      "|days_left|   price|\n",
      "+---------+--------+\n",
      "|        1|21591.87|\n",
      "|        2| 30211.3|\n",
      "|        3|28976.08|\n",
      "|        4|25730.91|\n",
      "|        5|26679.77|\n",
      "|        6|24856.49|\n",
      "|        7|25588.37|\n",
      "|        8|24895.88|\n",
      "|        9|25726.25|\n",
      "|       10|25572.82|\n",
      "|       11|22990.66|\n",
      "|       12| 22505.8|\n",
      "|       13|22498.89|\n",
      "|       14| 22678.0|\n",
      "|       15|21952.54|\n",
      "|       16|20503.55|\n",
      "|       17|20386.35|\n",
      "|       18|19987.45|\n",
      "|       19|19507.68|\n",
      "|       20|19699.98|\n",
      "+---------+--------+\n",
      "only showing top 20 rows\n",
      "\n"
     ]
    }
   ],
   "source": [
    "#this shows how when you buy the ticket will affect the price\n",
    "tes = df.select(['days_left','price']).groupby(['days_left']).\\\n",
    "agg(round(mean(\"price\"),2).alias(\"price\")).sort(col(\"days_left\").asc())\n",
    "tes.show()"
   ]
  },
  {
   "cell_type": "code",
   "execution_count": 16,
   "metadata": {},
   "outputs": [
    {
     "data": {
      "text/plain": [
       "[<matplotlib.lines.Line2D at 0x20e9d6a5110>]"
      ]
     },
     "execution_count": 16,
     "metadata": {},
     "output_type": "execute_result"
    },
    {
     "data": {
      "image/png": "[encoded data removed]",
      "text/plain": [
       "<Figure size 640x480 with 1 Axes>"
      ]
     },
     "metadata": {},
     "output_type": "display_data"
    }
   ],
   "source": [
    "#interestingly if you buy your ticket the day before, its way cheaper than buying it the week before\n",
    "days = tes.select(['days_left']).toPandas()\n",
    "price = tes.select(['price']).toPandas()\n",
    "plt.plot(days,price)"
   ]
  },
  {
   "cell_type": "code",
   "execution_count": 17,
   "metadata": {},
   "outputs": [
    {
     "name": "stdout",
     "output_type": "stream",
     "text": [
      "+--------+--------+\n",
      "|   class|   price|\n",
      "+--------+--------+\n",
      "| Economy| 6572.34|\n",
      "|Business|52540.08|\n",
      "+--------+--------+\n",
      "\n"
     ]
    }
   ],
   "source": [
    "#no surprise business class is more expensive\n",
    "seats_price = df.select(['class','price']).groupby(['class']).agg(round(mean(\"price\"),2).alias(\"price\"))\n",
    "seats_price.show()"
   ]
  },
  {
   "cell_type": "code",
   "execution_count": 18,
   "metadata": {},
   "outputs": [
    {
     "name": "stdout",
     "output_type": "stream",
     "text": [
      "+--------------+------------+-----+-------+\n",
      "|departure_time|arrival_time|price|  price|\n",
      "+--------------+------------+-----+-------+\n",
      "|       Evening|       Night|59573|59573.0|\n",
      "| Early_Morning|     Morning|59509|59509.0|\n",
      "|     Afternoon|     Evening|59509|59509.0|\n",
      "|       Evening|       Night|59509|59509.0|\n",
      "| Early_Morning|     Morning|59224|59224.0|\n",
      "|       Evening|       Night|58216|58216.0|\n",
      "|     Afternoon|     Evening|57084|57084.0|\n",
      "|     Afternoon|     Evening|56950|56950.0|\n",
      "| Early_Morning|     Morning|56950|56950.0|\n",
      "| Early_Morning|     Morning|56878|56878.0|\n",
      "|         Night|       Night|56878|56878.0|\n",
      "|       Evening|     Evening|56878|56878.0|\n",
      "|       Evening|       Night|56878|56878.0|\n",
      "|       Evening|     Evening|56788|56788.0|\n",
      "|       Morning|     Morning|55404|55404.0|\n",
      "|       Evening|       Night|55404|55404.0|\n",
      "|     Afternoon|     Evening|55278|55278.0|\n",
      "|         Night|       Night|55278|55278.0|\n",
      "|       Evening|       Night|55278|55278.0|\n",
      "| Early_Morning|     Morning|54744|54744.0|\n",
      "+--------------+------------+-----+-------+\n",
      "only showing top 20 rows\n",
      "\n"
     ]
    }
   ],
   "source": [
    "depart_time = df.select(['departure_time','arrival_time','price']).\\\n",
    "where(df.stops==\"zero\").groupby(['departure_time','arrival_time','price']).\\\n",
    "agg(round(mean(\"price\"),2).alias(\"price\")).sort(col('price').desc())\n",
    "depart_time.show()"
   ]
  },
  {
   "cell_type": "code",
   "execution_count": 19,
   "metadata": {},
   "outputs": [
    {
     "data": {
      "image/png": "[encoded data removed]",
      "text/plain": [
       "<Figure size 800x600 with 2 Axes>"
      ]
     },
     "metadata": {},
     "output_type": "display_data"
    }
   ],
   "source": [
    "from pyspark.ml.feature import StringIndexer\n",
    "from pyspark.ml.feature import VectorAssembler\n",
    "from pyspark.ml import Pipeline\n",
    "\n",
    "indexers = [StringIndexer(inputCol=col, outputCol=col+'_idx').fit(df) for col in ['airline', 'source_city', 'destination_city', 'departure_time', 'arrival_time', 'class', 'stops']]\n",
    "pipeline = Pipeline(stages=indexers)\n",
    "coor_df = pipeline.fit(df).transform(df)\n",
    "\n",
    "\n",
    "plt.figure(figsize=(8,6))\n",
    "sns.set(font_scale=1.4)\n",
    "heat = sns.heatmap(data=coor_df.select(['airline_idx', 'source_city_idx', 'destination_city_idx', 'departure_time_idx', 'arrival_time_idx','duration', 'class_idx','days_left', 'stops_idx','price']).toPandas().corr(), cmap='vlag', vmin=-1, vmax=1)"
   ]
  },
  {
   "cell_type": "code",
   "execution_count": 20,
   "metadata": {
    "id": "tSSBLiv_zvgC",
    "outputId": "d0925270-69ca-4f55-da82-c9e83674c0e4"
   },
   "outputs": [
    {
     "name": "stdout",
     "output_type": "stream",
     "text": [
      "+---+-------+------+-----------+--------------+-----+------------+----------------+-----+--------+---------+-----+\n",
      "|_c0|airline|flight|source_city|departure_time|stops|arrival_time|destination_city|class|duration|days_left|price|\n",
      "+---+-------+------+-----------+--------------+-----+------------+----------------+-----+--------+---------+-----+\n",
      "|  0|      0|     0|          0|             0|    0|           0|               0|    0|       0|        0|    0|\n",
      "+---+-------+------+-----------+--------------+-----+------------+----------------+-----+--------+---------+-----+\n",
      "\n"
     ]
    }
   ],
   "source": [
    "df.select([count(when(isnan(c) | isnull(c),1)).alias(c) for c in df.columns]).show()"
   ]
  },
  {
   "cell_type": "markdown",
   "metadata": {
    "id": "oCF2MlhpzvgC"
   },
   "source": [
    "<h1>Data Preprocessing"
   ]
  },
  {
   "cell_type": "code",
   "execution_count": 21,
   "metadata": {
    "id": "2O_9VhpAzvgE"
   },
   "outputs": [],
   "source": [
    "from pyspark.ml.feature import Normalizer,VectorAssembler, StringIndexer\n",
    "from pyspark.ml import Pipeline"
   ]
  },
  {
   "cell_type": "code",
   "execution_count": 22,
   "metadata": {
    "id": "vw7DcHiwzvgF"
   },
   "outputs": [],
   "source": [
    "from pyspark.sql.functions import col, max as spark_max, abs as spark_abs\n",
    "\n",
    "max_abs_value = df.select(spark_max(spark_abs(col(\"price\"))).alias(\"max_abs_value\")).collect()[0][\"max_abs_value\"]\n"
   ]
  },
  {
   "cell_type": "code",
   "execution_count": 23,
   "metadata": {
    "id": "4hKKVEK-zvgG",
    "outputId": "025e870b-b84b-478f-e65d-30b6d01a7316"
   },
   "outputs": [
    {
     "name": "stdout",
     "output_type": "stream",
     "text": [
      "123071\n"
     ]
    },
    {
     "data": {
      "text/plain": [
       "6"
      ]
     },
     "execution_count": 23,
     "metadata": {},
     "output_type": "execute_result"
    }
   ],
   "source": [
    "print(max_abs_value)\n",
    "len(str(int(max_abs_value)))"
   ]
  },
  {
   "cell_type": "code",
   "execution_count": 24,
   "metadata": {
    "id": "radlP9JZzvgH",
    "outputId": "0ccb8a69-3d3d-49d7-db53-44edfff5d039"
   },
   "outputs": [
    {
     "name": "stdout",
     "output_type": "stream",
     "text": [
      "+---+---------+-------+-----------+--------------+-----+-------------+----------------+-------+--------+---------+-----+----------------+\n",
      "|_c0|  airline| flight|source_city|departure_time|stops| arrival_time|destination_city|  class|duration|days_left|price|normalized_price|\n",
      "+---+---------+-------+-----------+--------------+-----+-------------+----------------+-------+--------+---------+-----+----------------+\n",
      "|  0| SpiceJet|SG-8709|      Delhi|       Evening| zero|        Night|          Mumbai|Economy|    2.17|        1| 5953|         0.05953|\n",
      "|  1| SpiceJet|SG-8157|      Delhi| Early_Morning| zero|      Morning|          Mumbai|Economy|    2.33|        1| 5953|         0.05953|\n",
      "|  2|  AirAsia| I5-764|      Delhi| Early_Morning| zero|Early_Morning|          Mumbai|Economy|    2.17|        1| 5956|         0.05956|\n",
      "|  3|  Vistara| UK-995|      Delhi|       Morning| zero|    Afternoon|          Mumbai|Economy|    2.25|        1| 5955|         0.05955|\n",
      "|  4|  Vistara| UK-963|      Delhi|       Morning| zero|      Morning|          Mumbai|Economy|    2.33|        1| 5955|         0.05955|\n",
      "|  5|  Vistara| UK-945|      Delhi|       Morning| zero|    Afternoon|          Mumbai|Economy|    2.33|        1| 5955|         0.05955|\n",
      "|  6|  Vistara| UK-927|      Delhi|       Morning| zero|      Morning|          Mumbai|Economy|    2.08|        1| 6060|          0.0606|\n",
      "|  7|  Vistara| UK-951|      Delhi|     Afternoon| zero|      Evening|          Mumbai|Economy|    2.17|        1| 6060|          0.0606|\n",
      "|  8| GO_FIRST| G8-334|      Delhi| Early_Morning| zero|      Morning|          Mumbai|Economy|    2.17|        1| 5954|         0.05954|\n",
      "|  9| GO_FIRST| G8-336|      Delhi|     Afternoon| zero|      Evening|          Mumbai|Economy|    2.25|        1| 5954|         0.05954|\n",
      "| 10| GO_FIRST| G8-392|      Delhi|     Afternoon| zero|      Evening|          Mumbai|Economy|    2.25|        1| 5954|         0.05954|\n",
      "| 11| GO_FIRST| G8-338|      Delhi|       Morning| zero|    Afternoon|          Mumbai|Economy|    2.33|        1| 5954|         0.05954|\n",
      "| 12|   Indigo|6E-5001|      Delhi| Early_Morning| zero|      Morning|          Mumbai|Economy|    2.17|        1| 5955|         0.05955|\n",
      "| 13|   Indigo|6E-6202|      Delhi|       Morning| zero|    Afternoon|          Mumbai|Economy|    2.17|        1| 5955|         0.05955|\n",
      "| 14|   Indigo| 6E-549|      Delhi|     Afternoon| zero|      Evening|          Mumbai|Economy|    2.25|        1| 5955|         0.05955|\n",
      "| 15|   Indigo|6E-6278|      Delhi|       Morning| zero|      Morning|          Mumbai|Economy|    2.33|        1| 5955|         0.05955|\n",
      "| 16|Air_India| AI-887|      Delhi| Early_Morning| zero|      Morning|          Mumbai|Economy|    2.08|        1| 5955|         0.05955|\n",
      "| 17|Air_India| AI-665|      Delhi| Early_Morning| zero|      Morning|          Mumbai|Economy|    2.17|        1| 5955|         0.05955|\n",
      "| 18|  AirAsia| I5-747|      Delhi|       Evening|  one|Early_Morning|          Mumbai|Economy|   12.25|        1| 5949|         0.05949|\n",
      "| 19|  AirAsia| I5-747|      Delhi|       Evening|  one|      Morning|          Mumbai|Economy|   16.33|        1| 5949|         0.05949|\n",
      "| 20| GO_FIRST| G8-266|      Delhi| Early_Morning|  one|      Evening|          Mumbai|Economy|   11.75|        1| 5954|         0.05954|\n",
      "| 21| GO_FIRST| G8-101|      Delhi| Early_Morning|  one|        Night|          Mumbai|Economy|    14.5|        1| 5954|         0.05954|\n",
      "| 22| GO_FIRST| G8-103|      Delhi|       Evening|  one|      Morning|          Mumbai|Economy|   15.67|        1| 5954|         0.05954|\n",
      "| 23|Air_India| AI-441|      Delhi|       Evening|  one|        Night|          Mumbai|Economy|    3.75|        1| 5955|         0.05955|\n",
      "| 24|   Indigo|6E-5328|      Delhi|       Morning| zero|      Morning|          Mumbai|Economy|     2.5|        1| 6165|         0.06165|\n",
      "| 25|  Vistara| UK-933|      Delhi|     Afternoon| zero|      Evening|          Mumbai|Economy|    2.17|        1| 6690|          0.0669|\n",
      "| 26|   Indigo|6E-2046|      Delhi|       Evening| zero|      Evening|          Mumbai|Economy|    2.17|        1| 6585|         0.06585|\n",
      "| 27|  AirAsia| I5-744|      Delhi|       Morning|  one|    Afternoon|          Mumbai|Economy|    5.83|        1| 8869|         0.08869|\n",
      "| 28| SpiceJet|SG-8169|      Delhi|       Evening| zero|        Night|          Mumbai|Economy|    2.33|        1|10260|          0.1026|\n",
      "| 29|   Indigo|6E-5041|      Delhi|       Evening| zero|        Night|          Mumbai|Economy|    2.17|        1|10470|          0.1047|\n",
      "+---+---------+-------+-----------+--------------+-----+-------------+----------------+-------+--------+---------+-----+----------------+\n",
      "only showing top 30 rows\n",
      "\n"
     ]
    }
   ],
   "source": [
    "scaling_factor = 10 ** (len(str(int(max_abs_value)))-1)\n",
    "df = df.withColumn(\"normalized_price\", col(\"price\") / scaling_factor)\n",
    "df.show(30,truncate=50)"
   ]
  },
  {
   "cell_type": "code",
   "execution_count": 25,
   "metadata": {
    "id": "WU4b4AoDzvgJ"
   },
   "outputs": [],
   "source": [
    "column_name = df.columns"
   ]
  },
  {
   "cell_type": "code",
   "execution_count": 26,
   "metadata": {
    "id": "XCBJ0fZRzvgN",
    "outputId": "730e48b3-a2e3-430b-b533-32451adca987"
   },
   "outputs": [
    {
     "name": "stdout",
     "output_type": "stream",
     "text": [
      "['airline', 'source_city', 'departure_time', 'stops', 'arrival_time', 'destination_city', 'class', 'duration', 'days_left', 'normalized_price']\n"
     ]
    }
   ],
   "source": [
    "column_name.remove('_c0')\n",
    "column_name.remove('price')\n",
    "column_name.remove('flight')\n",
    "print(column_name)"
   ]
  },
  {
   "cell_type": "code",
   "execution_count": 27,
   "metadata": {},
   "outputs": [
    {
     "name": "stdout",
     "output_type": "stream",
     "text": [
      "+---------+-----------+--------------+-----+-------------+----------------+-------+--------+---------+----------------+-----------+---------+---------+\n",
      "|  airline|source_city|departure_time|stops| arrival_time|destination_city|  class|duration|days_left|normalized_price|airline_idx|stops_idx|class_idx|\n",
      "+---------+-----------+--------------+-----+-------------+----------------+-------+--------+---------+----------------+-----------+---------+---------+\n",
      "| SpiceJet|      Delhi|       Evening| zero|        Night|          Mumbai|Economy|    2.17|        1|         0.05953|        5.0|      1.0|      0.0|\n",
      "| SpiceJet|      Delhi| Early_Morning| zero|      Morning|          Mumbai|Economy|    2.33|        1|         0.05953|        5.0|      1.0|      0.0|\n",
      "|  AirAsia|      Delhi| Early_Morning| zero|Early_Morning|          Mumbai|Economy|    2.17|        1|         0.05956|        4.0|      1.0|      0.0|\n",
      "|  Vistara|      Delhi|       Morning| zero|    Afternoon|          Mumbai|Economy|    2.25|        1|         0.05955|        0.0|      1.0|      0.0|\n",
      "|  Vistara|      Delhi|       Morning| zero|      Morning|          Mumbai|Economy|    2.33|        1|         0.05955|        0.0|      1.0|      0.0|\n",
      "|  Vistara|      Delhi|       Morning| zero|    Afternoon|          Mumbai|Economy|    2.33|        1|         0.05955|        0.0|      1.0|      0.0|\n",
      "|  Vistara|      Delhi|       Morning| zero|      Morning|          Mumbai|Economy|    2.08|        1|          0.0606|        0.0|      1.0|      0.0|\n",
      "|  Vistara|      Delhi|     Afternoon| zero|      Evening|          Mumbai|Economy|    2.17|        1|          0.0606|        0.0|      1.0|      0.0|\n",
      "| GO_FIRST|      Delhi| Early_Morning| zero|      Morning|          Mumbai|Economy|    2.17|        1|         0.05954|        3.0|      1.0|      0.0|\n",
      "| GO_FIRST|      Delhi|     Afternoon| zero|      Evening|          Mumbai|Economy|    2.25|        1|         0.05954|        3.0|      1.0|      0.0|\n",
      "| GO_FIRST|      Delhi|     Afternoon| zero|      Evening|          Mumbai|Economy|    2.25|        1|         0.05954|        3.0|      1.0|      0.0|\n",
      "| GO_FIRST|      Delhi|       Morning| zero|    Afternoon|          Mumbai|Economy|    2.33|        1|         0.05954|        3.0|      1.0|      0.0|\n",
      "|   Indigo|      Delhi| Early_Morning| zero|      Morning|          Mumbai|Economy|    2.17|        1|         0.05955|        2.0|      1.0|      0.0|\n",
      "|   Indigo|      Delhi|       Morning| zero|    Afternoon|          Mumbai|Economy|    2.17|        1|         0.05955|        2.0|      1.0|      0.0|\n",
      "|   Indigo|      Delhi|     Afternoon| zero|      Evening|          Mumbai|Economy|    2.25|        1|         0.05955|        2.0|      1.0|      0.0|\n",
      "|   Indigo|      Delhi|       Morning| zero|      Morning|          Mumbai|Economy|    2.33|        1|         0.05955|        2.0|      1.0|      0.0|\n",
      "|Air_India|      Delhi| Early_Morning| zero|      Morning|          Mumbai|Economy|    2.08|        1|         0.05955|        1.0|      1.0|      0.0|\n",
      "|Air_India|      Delhi| Early_Morning| zero|      Morning|          Mumbai|Economy|    2.17|        1|         0.05955|        1.0|      1.0|      0.0|\n",
      "|  AirAsia|      Delhi|       Evening|  one|Early_Morning|          Mumbai|Economy|   12.25|        1|         0.05949|        4.0|      0.0|      0.0|\n",
      "|  AirAsia|      Delhi|       Evening|  one|      Morning|          Mumbai|Economy|   16.33|        1|         0.05949|        4.0|      0.0|      0.0|\n",
      "+---------+-----------+--------------+-----+-------------+----------------+-------+--------+---------+----------------+-----------+---------+---------+\n",
      "only showing top 20 rows\n",
      "\n"
     ]
    }
   ],
   "source": [
    "final_df = df.select(column_name)\n",
    "\n",
    "\n",
    "indexers = [StringIndexer(inputCol=col, outputCol=col+'_idx').fit(final_df) for col in ['airline', 'stops','class']]\n",
    "pipeline = Pipeline(stages=indexers)\n",
    "final_df = pipeline.fit(final_df).transform(final_df)\n",
    "final_df.show()"
   ]
  },
  {
   "cell_type": "code",
   "execution_count": 28,
   "metadata": {
    "id": "wSvD6j9AzvgO",
    "outputId": "61fb97e0-511a-4597-c1af-7b8be44066d0"
   },
   "outputs": [
    {
     "name": "stdout",
     "output_type": "stream",
     "text": [
      "+---------+-----------+--------------+-----+-------------+----------------+-------+--------+---------+----------------+-----------+---------------+------------------+---------+----------------+--------------------+---------+\n",
      "|  airline|source_city|departure_time|stops| arrival_time|destination_city|  class|duration|days_left|normalized_price|airline_idx|source_city_idx|departure_time_idx|stops_idx|arrival_time_idx|destination_city_idx|class_idx|\n",
      "+---------+-----------+--------------+-----+-------------+----------------+-------+--------+---------+----------------+-----------+---------------+------------------+---------+----------------+--------------------+---------+\n",
      "| SpiceJet|      Delhi|       Evening| zero|        Night|          Mumbai|Economy|    2.17|        1|         0.05953|        5.0|            0.0|               2.0|      1.0|             0.0|                 0.0|      0.0|\n",
      "| SpiceJet|      Delhi| Early_Morning| zero|      Morning|          Mumbai|Economy|    2.33|        1|         0.05953|        5.0|            0.0|               1.0|      1.0|             2.0|                 0.0|      0.0|\n",
      "|  AirAsia|      Delhi| Early_Morning| zero|Early_Morning|          Mumbai|Economy|    2.17|        1|         0.05956|        4.0|            0.0|               1.0|      1.0|             4.0|                 0.0|      0.0|\n",
      "|  Vistara|      Delhi|       Morning| zero|    Afternoon|          Mumbai|Economy|    2.25|        1|         0.05955|        0.0|            0.0|               0.0|      1.0|             3.0|                 0.0|      0.0|\n",
      "|  Vistara|      Delhi|       Morning| zero|      Morning|          Mumbai|Economy|    2.33|        1|         0.05955|        0.0|            0.0|               0.0|      1.0|             2.0|                 0.0|      0.0|\n",
      "|  Vistara|      Delhi|       Morning| zero|    Afternoon|          Mumbai|Economy|    2.33|        1|         0.05955|        0.0|            0.0|               0.0|      1.0|             3.0|                 0.0|      0.0|\n",
      "|  Vistara|      Delhi|       Morning| zero|      Morning|          Mumbai|Economy|    2.08|        1|          0.0606|        0.0|            0.0|               0.0|      1.0|             2.0|                 0.0|      0.0|\n",
      "|  Vistara|      Delhi|     Afternoon| zero|      Evening|          Mumbai|Economy|    2.17|        1|          0.0606|        0.0|            0.0|               4.0|      1.0|             1.0|                 0.0|      0.0|\n",
      "| GO_FIRST|      Delhi| Early_Morning| zero|      Morning|          Mumbai|Economy|    2.17|        1|         0.05954|        3.0|            0.0|               1.0|      1.0|             2.0|                 0.0|      0.0|\n",
      "| GO_FIRST|      Delhi|     Afternoon| zero|      Evening|          Mumbai|Economy|    2.25|        1|         0.05954|        3.0|            0.0|               4.0|      1.0|             1.0|                 0.0|      0.0|\n",
      "| GO_FIRST|      Delhi|     Afternoon| zero|      Evening|          Mumbai|Economy|    2.25|        1|         0.05954|        3.0|            0.0|               4.0|      1.0|             1.0|                 0.0|      0.0|\n",
      "| GO_FIRST|      Delhi|       Morning| zero|    Afternoon|          Mumbai|Economy|    2.33|        1|         0.05954|        3.0|            0.0|               0.0|      1.0|             3.0|                 0.0|      0.0|\n",
      "|   Indigo|      Delhi| Early_Morning| zero|      Morning|          Mumbai|Economy|    2.17|        1|         0.05955|        2.0|            0.0|               1.0|      1.0|             2.0|                 0.0|      0.0|\n",
      "|   Indigo|      Delhi|       Morning| zero|    Afternoon|          Mumbai|Economy|    2.17|        1|         0.05955|        2.0|            0.0|               0.0|      1.0|             3.0|                 0.0|      0.0|\n",
      "|   Indigo|      Delhi|     Afternoon| zero|      Evening|          Mumbai|Economy|    2.25|        1|         0.05955|        2.0|            0.0|               4.0|      1.0|             1.0|                 0.0|      0.0|\n",
      "|   Indigo|      Delhi|       Morning| zero|      Morning|          Mumbai|Economy|    2.33|        1|         0.05955|        2.0|            0.0|               0.0|      1.0|             2.0|                 0.0|      0.0|\n",
      "|Air_India|      Delhi| Early_Morning| zero|      Morning|          Mumbai|Economy|    2.08|        1|         0.05955|        1.0|            0.0|               1.0|      1.0|             2.0|                 0.0|      0.0|\n",
      "|Air_India|      Delhi| Early_Morning| zero|      Morning|          Mumbai|Economy|    2.17|        1|         0.05955|        1.0|            0.0|               1.0|      1.0|             2.0|                 0.0|      0.0|\n",
      "|  AirAsia|      Delhi|       Evening|  one|Early_Morning|          Mumbai|Economy|   12.25|        1|         0.05949|        4.0|            0.0|               2.0|      0.0|             4.0|                 0.0|      0.0|\n",
      "|  AirAsia|      Delhi|       Evening|  one|      Morning|          Mumbai|Economy|   16.33|        1|         0.05949|        4.0|            0.0|               2.0|      0.0|             2.0|                 0.0|      0.0|\n",
      "+---------+-----------+--------------+-----+-------------+----------------+-------+--------+---------+----------------+-----------+---------------+------------------+---------+----------------+--------------------+---------+\n",
      "only showing top 20 rows\n",
      "\n"
     ]
    }
   ],
   "source": [
    "final_df = df.select(column_name)\n",
    "\n",
    "\n",
    "indexers = [StringIndexer(inputCol=col, outputCol=col+'_idx').fit(final_df) for col in ['airline','source_city','departure_time', 'stops', 'arrival_time', 'destination_city','class']]\n",
    "pipeline = Pipeline(stages=indexers)\n",
    "final_df = pipeline.fit(final_df).transform(final_df)\n",
    "final_df.show()"
   ]
  },
  {
   "cell_type": "code",
   "execution_count": 29,
   "metadata": {
    "id": "HBwkNpQ3zvgO",
    "outputId": "62b7def0-2d66-497e-d3f3-8a00e9367f05"
   },
   "outputs": [
    {
     "name": "stdout",
     "output_type": "stream",
     "text": [
      "+---------+-----------+--------------+-----+-------------+----------------+-------+--------+---------+----------------+-----------+---------------+------------------+---------+----------------+--------------------+---------+---------------------------------------+\n",
      "|  airline|source_city|departure_time|stops| arrival_time|destination_city|  class|duration|days_left|normalized_price|airline_idx|source_city_idx|departure_time_idx|stops_idx|arrival_time_idx|destination_city_idx|class_idx|                               features|\n",
      "+---------+-----------+--------------+-----+-------------+----------------+-------+--------+---------+----------------+-----------+---------------+------------------+---------+----------------+--------------------+---------+---------------------------------------+\n",
      "| SpiceJet|      Delhi|       Evening| zero|        Night|          Mumbai|Economy|    2.17|        1|         0.05953|        5.0|            0.0|               2.0|      1.0|             0.0|                 0.0|      0.0| [5.0,0.0,2.0,1.0,0.0,0.0,0.0,2.17,1.0]|\n",
      "| SpiceJet|      Delhi| Early_Morning| zero|      Morning|          Mumbai|Economy|    2.33|        1|         0.05953|        5.0|            0.0|               1.0|      1.0|             2.0|                 0.0|      0.0| [5.0,0.0,1.0,1.0,2.0,0.0,0.0,2.33,1.0]|\n",
      "|  AirAsia|      Delhi| Early_Morning| zero|Early_Morning|          Mumbai|Economy|    2.17|        1|         0.05956|        4.0|            0.0|               1.0|      1.0|             4.0|                 0.0|      0.0| [4.0,0.0,1.0,1.0,4.0,0.0,0.0,2.17,1.0]|\n",
      "|  Vistara|      Delhi|       Morning| zero|    Afternoon|          Mumbai|Economy|    2.25|        1|         0.05955|        0.0|            0.0|               0.0|      1.0|             3.0|                 0.0|      0.0|       (9,[3,4,7,8],[1.0,3.0,2.25,1.0])|\n",
      "|  Vistara|      Delhi|       Morning| zero|      Morning|          Mumbai|Economy|    2.33|        1|         0.05955|        0.0|            0.0|               0.0|      1.0|             2.0|                 0.0|      0.0|       (9,[3,4,7,8],[1.0,2.0,2.33,1.0])|\n",
      "|  Vistara|      Delhi|       Morning| zero|    Afternoon|          Mumbai|Economy|    2.33|        1|         0.05955|        0.0|            0.0|               0.0|      1.0|             3.0|                 0.0|      0.0|       (9,[3,4,7,8],[1.0,3.0,2.33,1.0])|\n",
      "|  Vistara|      Delhi|       Morning| zero|      Morning|          Mumbai|Economy|    2.08|        1|          0.0606|        0.0|            0.0|               0.0|      1.0|             2.0|                 0.0|      0.0|       (9,[3,4,7,8],[1.0,2.0,2.08,1.0])|\n",
      "|  Vistara|      Delhi|     Afternoon| zero|      Evening|          Mumbai|Economy|    2.17|        1|          0.0606|        0.0|            0.0|               4.0|      1.0|             1.0|                 0.0|      0.0| [0.0,0.0,4.0,1.0,1.0,0.0,0.0,2.17,1.0]|\n",
      "| GO_FIRST|      Delhi| Early_Morning| zero|      Morning|          Mumbai|Economy|    2.17|        1|         0.05954|        3.0|            0.0|               1.0|      1.0|             2.0|                 0.0|      0.0| [3.0,0.0,1.0,1.0,2.0,0.0,0.0,2.17,1.0]|\n",
      "| GO_FIRST|      Delhi|     Afternoon| zero|      Evening|          Mumbai|Economy|    2.25|        1|         0.05954|        3.0|            0.0|               4.0|      1.0|             1.0|                 0.0|      0.0| [3.0,0.0,4.0,1.0,1.0,0.0,0.0,2.25,1.0]|\n",
      "| GO_FIRST|      Delhi|     Afternoon| zero|      Evening|          Mumbai|Economy|    2.25|        1|         0.05954|        3.0|            0.0|               4.0|      1.0|             1.0|                 0.0|      0.0| [3.0,0.0,4.0,1.0,1.0,0.0,0.0,2.25,1.0]|\n",
      "| GO_FIRST|      Delhi|       Morning| zero|    Afternoon|          Mumbai|Economy|    2.33|        1|         0.05954|        3.0|            0.0|               0.0|      1.0|             3.0|                 0.0|      0.0| [3.0,0.0,0.0,1.0,3.0,0.0,0.0,2.33,1.0]|\n",
      "|   Indigo|      Delhi| Early_Morning| zero|      Morning|          Mumbai|Economy|    2.17|        1|         0.05955|        2.0|            0.0|               1.0|      1.0|             2.0|                 0.0|      0.0| [2.0,0.0,1.0,1.0,2.0,0.0,0.0,2.17,1.0]|\n",
      "|   Indigo|      Delhi|       Morning| zero|    Afternoon|          Mumbai|Economy|    2.17|        1|         0.05955|        2.0|            0.0|               0.0|      1.0|             3.0|                 0.0|      0.0| [2.0,0.0,0.0,1.0,3.0,0.0,0.0,2.17,1.0]|\n",
      "|   Indigo|      Delhi|     Afternoon| zero|      Evening|          Mumbai|Economy|    2.25|        1|         0.05955|        2.0|            0.0|               4.0|      1.0|             1.0|                 0.0|      0.0| [2.0,0.0,4.0,1.0,1.0,0.0,0.0,2.25,1.0]|\n",
      "|   Indigo|      Delhi|       Morning| zero|      Morning|          Mumbai|Economy|    2.33|        1|         0.05955|        2.0|            0.0|               0.0|      1.0|             2.0|                 0.0|      0.0| [2.0,0.0,0.0,1.0,2.0,0.0,0.0,2.33,1.0]|\n",
      "|Air_India|      Delhi| Early_Morning| zero|      Morning|          Mumbai|Economy|    2.08|        1|         0.05955|        1.0|            0.0|               1.0|      1.0|             2.0|                 0.0|      0.0| [1.0,0.0,1.0,1.0,2.0,0.0,0.0,2.08,1.0]|\n",
      "|Air_India|      Delhi| Early_Morning| zero|      Morning|          Mumbai|Economy|    2.17|        1|         0.05955|        1.0|            0.0|               1.0|      1.0|             2.0|                 0.0|      0.0| [1.0,0.0,1.0,1.0,2.0,0.0,0.0,2.17,1.0]|\n",
      "|  AirAsia|      Delhi|       Evening|  one|Early_Morning|          Mumbai|Economy|   12.25|        1|         0.05949|        4.0|            0.0|               2.0|      0.0|             4.0|                 0.0|      0.0|[4.0,0.0,2.0,0.0,4.0,0.0,0.0,12.25,1.0]|\n",
      "|  AirAsia|      Delhi|       Evening|  one|      Morning|          Mumbai|Economy|   16.33|        1|         0.05949|        4.0|            0.0|               2.0|      0.0|             2.0|                 0.0|      0.0|[4.0,0.0,2.0,0.0,2.0,0.0,0.0,16.33,1.0]|\n",
      "| GO_FIRST|      Delhi| Early_Morning|  one|      Evening|          Mumbai|Economy|   11.75|        1|         0.05954|        3.0|            0.0|               1.0|      0.0|             1.0|                 0.0|      0.0|[3.0,0.0,1.0,0.0,1.0,0.0,0.0,11.75,1.0]|\n",
      "| GO_FIRST|      Delhi| Early_Morning|  one|        Night|          Mumbai|Economy|    14.5|        1|         0.05954|        3.0|            0.0|               1.0|      0.0|             0.0|                 0.0|      0.0|       (9,[0,2,7,8],[3.0,1.0,14.5,1.0])|\n",
      "| GO_FIRST|      Delhi|       Evening|  one|      Morning|          Mumbai|Economy|   15.67|        1|         0.05954|        3.0|            0.0|               2.0|      0.0|             2.0|                 0.0|      0.0|[3.0,0.0,2.0,0.0,2.0,0.0,0.0,15.67,1.0]|\n",
      "|Air_India|      Delhi|       Evening|  one|        Night|          Mumbai|Economy|    3.75|        1|         0.05955|        1.0|            0.0|               2.0|      0.0|             0.0|                 0.0|      0.0|       (9,[0,2,7,8],[1.0,2.0,3.75,1.0])|\n",
      "|   Indigo|      Delhi|       Morning| zero|      Morning|          Mumbai|Economy|     2.5|        1|         0.06165|        2.0|            0.0|               0.0|      1.0|             2.0|                 0.0|      0.0|  [2.0,0.0,0.0,1.0,2.0,0.0,0.0,2.5,1.0]|\n",
      "|  Vistara|      Delhi|     Afternoon| zero|      Evening|          Mumbai|Economy|    2.17|        1|          0.0669|        0.0|            0.0|               4.0|      1.0|             1.0|                 0.0|      0.0| [0.0,0.0,4.0,1.0,1.0,0.0,0.0,2.17,1.0]|\n",
      "|   Indigo|      Delhi|       Evening| zero|      Evening|          Mumbai|Economy|    2.17|        1|         0.06585|        2.0|            0.0|               2.0|      1.0|             1.0|                 0.0|      0.0| [2.0,0.0,2.0,1.0,1.0,0.0,0.0,2.17,1.0]|\n",
      "|  AirAsia|      Delhi|       Morning|  one|    Afternoon|          Mumbai|Economy|    5.83|        1|         0.08869|        4.0|            0.0|               0.0|      0.0|             3.0|                 0.0|      0.0|       (9,[0,4,7,8],[4.0,3.0,5.83,1.0])|\n",
      "| SpiceJet|      Delhi|       Evening| zero|        Night|          Mumbai|Economy|    2.33|        1|          0.1026|        5.0|            0.0|               2.0|      1.0|             0.0|                 0.0|      0.0| [5.0,0.0,2.0,1.0,0.0,0.0,0.0,2.33,1.0]|\n",
      "|   Indigo|      Delhi|       Evening| zero|        Night|          Mumbai|Economy|    2.17|        1|          0.1047|        2.0|            0.0|               2.0|      1.0|             0.0|                 0.0|      0.0| [2.0,0.0,2.0,1.0,0.0,0.0,0.0,2.17,1.0]|\n",
      "+---------+-----------+--------------+-----+-------------+----------------+-------+--------+---------+----------------+-----------+---------------+------------------+---------+----------------+--------------------+---------+---------------------------------------+\n",
      "only showing top 30 rows\n",
      "\n"
     ]
    }
   ],
   "source": [
    "assembler = VectorAssembler(inputCols=['airline_idx', 'source_city_idx', 'departure_time_idx', 'stops_idx', 'arrival_time_idx', 'destination_city_idx', 'class_idx','duration', 'days_left'], outputCol=\"features\")\n",
    "final_df = assembler.transform(final_df)\n",
    "final_df.show(30,truncate=50)"
   ]
  },
  {
   "cell_type": "code",
   "execution_count": 30,
   "metadata": {},
   "outputs": [
    {
     "name": "stdout",
     "output_type": "stream",
     "text": [
      "+--------+-----------+--------------+-----+------------+----------------+-------+--------+---------+----------------+-----------+---------------+------------------+---------+----------------+--------------------+---------+----------+--------------+\n",
      "| airline|source_city|departure_time|stops|arrival_time|destination_city|  class|duration|days_left|normalized_price|airline_idx|source_city_idx|departure_time_idx|stops_idx|arrival_time_idx|destination_city_idx|class_idx|  features|scaledFeatures|\n",
      "+--------+-----------+--------------+-----+------------+----------------+-------+--------+---------+----------------+-----------+---------------+------------------+---------+----------------+--------------------+---------+----------+--------------+\n",
      "|SpiceJet|      Delhi|       Evening| zero|       Night|          Mumbai|Economy|    2.17|        1|         0.05953|        5.0|            0.0|               2.0|      1.0|             0.0|                 0.0|      0.0|[5.0,0....|    [2.8530...|\n",
      "|SpiceJet|      Delhi|    Early_M...| zero|     Morning|          Mumbai|Economy|    2.33|        1|         0.05953|        5.0|            0.0|               1.0|      1.0|             2.0|                 0.0|      0.0|[5.0,0....|    [2.8530...|\n",
      "| AirAsia|      Delhi|    Early_M...| zero|  Early_M...|          Mumbai|Economy|    2.17|        1|         0.05956|        4.0|            0.0|               1.0|      1.0|             4.0|                 0.0|      0.0|[4.0,0....|    [2.1114...|\n",
      "| Vistara|      Delhi|       Morning| zero|   Afternoon|          Mumbai|Economy|    2.25|        1|         0.05955|        0.0|            0.0|               0.0|      1.0|             3.0|                 0.0|      0.0|(9,[3,4...|    [-0.855...|\n",
      "| Vistara|      Delhi|       Morning| zero|     Morning|          Mumbai|Economy|    2.33|        1|         0.05955|        0.0|            0.0|               0.0|      1.0|             2.0|                 0.0|      0.0|(9,[3,4...|    [-0.855...|\n",
      "| Vistara|      Delhi|       Morning| zero|   Afternoon|          Mumbai|Economy|    2.33|        1|         0.05955|        0.0|            0.0|               0.0|      1.0|             3.0|                 0.0|      0.0|(9,[3,4...|    [-0.855...|\n",
      "| Vistara|      Delhi|       Morning| zero|     Morning|          Mumbai|Economy|    2.08|        1|          0.0606|        0.0|            0.0|               0.0|      1.0|             2.0|                 0.0|      0.0|(9,[3,4...|    [-0.855...|\n",
      "| Vistara|      Delhi|     Afternoon| zero|     Evening|          Mumbai|Economy|    2.17|        1|          0.0606|        0.0|            0.0|               4.0|      1.0|             1.0|                 0.0|      0.0|[0.0,0....|    [-0.855...|\n",
      "|GO_FIRST|      Delhi|    Early_M...| zero|     Morning|          Mumbai|Economy|    2.17|        1|         0.05954|        3.0|            0.0|               1.0|      1.0|             2.0|                 0.0|      0.0|[3.0,0....|    [1.3697...|\n",
      "|GO_FIRST|      Delhi|     Afternoon| zero|     Evening|          Mumbai|Economy|    2.25|        1|         0.05954|        3.0|            0.0|               4.0|      1.0|             1.0|                 0.0|      0.0|[3.0,0....|    [1.3697...|\n",
      "+--------+-----------+--------------+-----+------------+----------------+-------+--------+---------+----------------+-----------+---------------+------------------+---------+----------------+--------------------+---------+----------+--------------+\n",
      "only showing top 10 rows\n",
      "\n"
     ]
    }
   ],
   "source": [
    "# Initialize the StandardScaler\n",
    "from pyspark.ml.feature import StandardScaler\n",
    "\n",
    "scaler = StandardScaler(inputCol=\"features\", outputCol=\"scaledFeatures\", withMean=True, withStd=True)\n",
    "\n",
    "# Fit the scaler to the data\n",
    "scaler_model = scaler.fit(final_df)\n",
    "\n",
    "# Transform the data\n",
    "final_df = scaler_model.transform(final_df)\n",
    "\n",
    "final_df.show(10,truncate=10)"
   ]
  },
  {
   "cell_type": "code",
   "execution_count": 31,
   "metadata": {},
   "outputs": [],
   "source": [
    "from pyspark.ml.feature import PCA\n",
    "\n",
    "\n",
    "pca = PCA(k=2, inputCol=\"scaledFeatures\", outputCol=\"pcafeatures\")\n",
    "model = pca.fit(final_df)\n",
    "\n",
    "# Step 5: Transform Data\n",
    "final_df = model.transform(final_df)\n"
   ]
  },
  {
   "cell_type": "code",
   "execution_count": 32,
   "metadata": {},
   "outputs": [
    {
     "name": "stdout",
     "output_type": "stream",
     "text": [
      "+--------+-----------+--------------+-----+-------------+----------------+-------+--------+---------+----------------+-----------+---------------+------------------+---------+----------------+--------------------+---------+--------------------------------------+--------------------------------------------------+-------------------------------------------+\n",
      "| airline|source_city|departure_time|stops| arrival_time|destination_city|  class|duration|days_left|normalized_price|airline_idx|source_city_idx|departure_time_idx|stops_idx|arrival_time_idx|destination_city_idx|class_idx|                              features|                                    scaledFeatures|                                pcafeatures|\n",
      "+--------+-----------+--------------+-----+-------------+----------------+-------+--------+---------+----------------+-----------+---------------+------------------+---------+----------------+--------------------+---------+--------------------------------------+--------------------------------------------------+-------------------------------------------+\n",
      "|SpiceJet|      Delhi|       Evening| zero|        Night|          Mumbai|Economy|    2.17|        1|         0.05953|        5.0|            0.0|               2.0|      1.0|             0.0|                 0.0|      0.0|[5.0,0.0,2.0,1.0,0.0,0.0,0.0,2.17,1.0]|[2.8530491760028025,-1.3067087768429224,0.14632...|    [-3.108101144937246,-0.137695522166487]|\n",
      "|SpiceJet|      Delhi| Early_Morning| zero|      Morning|          Mumbai|Economy|    2.33|        1|         0.05953|        5.0|            0.0|               1.0|      1.0|             2.0|                 0.0|      0.0|[5.0,0.0,1.0,1.0,2.0,0.0,0.0,2.33,1.0]|[2.8530491760028025,-1.3067087768429224,-0.5671...|  [-3.385823571052321,-0.05359819764603419]|\n",
      "| AirAsia|      Delhi| Early_Morning| zero|Early_Morning|          Mumbai|Economy|    2.17|        1|         0.05956|        4.0|            0.0|               1.0|      1.0|             4.0|                 0.0|      0.0|[4.0,0.0,1.0,1.0,4.0,0.0,0.0,2.17,1.0]|[2.1114056811036077,-1.3067087768429224,-0.5671...| [-3.2919620395753713,-0.04781304747491826]|\n",
      "| Vistara|      Delhi|       Morning| zero|    Afternoon|          Mumbai|Economy|    2.25|        1|         0.05955|        0.0|            0.0|               0.0|      1.0|             3.0|                 0.0|      0.0|      (9,[3,4,7,8],[1.0,3.0,2.25,1.0])|[-0.8551682984931717,-1.3067087768429224,-1.280...| [-1.3797307554263416,-0.04886572328766464]|\n",
      "| Vistara|      Delhi|       Morning| zero|      Morning|          Mumbai|Economy|    2.33|        1|         0.05955|        0.0|            0.0|               0.0|      1.0|             2.0|                 0.0|      0.0|      (9,[3,4,7,8],[1.0,2.0,2.33,1.0])|[-0.8551682984931717,-1.3067087768429224,-1.280...|[-1.2129029513930845,-0.059042951387425935]|\n",
      "| Vistara|      Delhi|       Morning| zero|    Afternoon|          Mumbai|Economy|    2.33|        1|         0.05955|        0.0|            0.0|               0.0|      1.0|             3.0|                 0.0|      0.0|      (9,[3,4,7,8],[1.0,3.0,2.33,1.0])|[-0.8551682984931717,-1.3067087768429224,-1.280...|[-1.3745811904239607,-0.049780450307592435]|\n",
      "| Vistara|      Delhi|       Morning| zero|      Morning|          Mumbai|Economy|    2.08|        1|          0.0606|        0.0|            0.0|               0.0|      1.0|             2.0|                 0.0|      0.0|      (9,[3,4,7,8],[1.0,2.0,2.08,1.0])|[-0.8551682984931717,-1.3067087768429224,-1.280...| [-1.2289953420255253,-0.05618442945015158]|\n",
      "| Vistara|      Delhi|     Afternoon| zero|      Evening|          Mumbai|Economy|    2.17|        1|          0.0606|        0.0|            0.0|               4.0|      1.0|             1.0|                 0.0|      0.0|[0.0,0.0,4.0,1.0,1.0,0.0,0.0,2.17,1.0]|[-0.8551682984931717,-1.3067087768429224,1.5732...|   [-1.202863530134633,-0.3360831040299689]|\n",
      "|GO_FIRST|      Delhi| Early_Morning| zero|      Morning|          Mumbai|Economy|    2.17|        1|         0.05954|        3.0|            0.0|               1.0|      1.0|             2.0|                 0.0|      0.0|[3.0,0.0,1.0,1.0,2.0,0.0,0.0,2.17,1.0]|[1.3697621862044127,-1.3067087768429224,-0.5671...| [-2.5410884219701546,-0.08090735566299194]|\n",
      "|GO_FIRST|      Delhi|     Afternoon| zero|      Evening|          Mumbai|Economy|    2.25|        1|         0.05954|        3.0|            0.0|               4.0|      1.0|             1.0|                 0.0|      0.0|[3.0,0.0,4.0,1.0,1.0,0.0,0.0,2.25,1.0]|[1.3697621862044127,-1.3067087768429224,1.57320...|   [-2.480265383762644,-0.2932899129646769]|\n",
      "+--------+-----------+--------------+-----+-------------+----------------+-------+--------+---------+----------------+-----------+---------------+------------------+---------+----------------+--------------------+---------+--------------------------------------+--------------------------------------------------+-------------------------------------------+\n",
      "only showing top 10 rows\n",
      "\n"
     ]
    }
   ],
   "source": [
    "final_df.show(10, truncate=50)"
   ]
  },
  {
   "cell_type": "code",
   "execution_count": 42,
   "metadata": {
    "id": "4gQPhxtGzvgO",
    "outputId": "42e626ca-a217-4f7c-ce74-d92200ea902c"
   },
   "outputs": [
    {
     "name": "stdout",
     "output_type": "stream",
     "text": [
      "+---------------------------------------+-------------------------------------------+----------------+\n",
      "|features                               |pcafeatures                                |normalized_price|\n",
      "+---------------------------------------+-------------------------------------------+----------------+\n",
      "|[5.0,0.0,2.0,1.0,0.0,0.0,0.0,2.17,1.0] |[-3.108101144937246,-0.137695522166487]    |0.05953         |\n",
      "|[5.0,0.0,1.0,1.0,2.0,0.0,0.0,2.33,1.0] |[-3.385823571052321,-0.05359819764603419]  |0.05953         |\n",
      "|[4.0,0.0,1.0,1.0,4.0,0.0,0.0,2.17,1.0] |[-3.2919620395753713,-0.04781304747491826] |0.05956         |\n",
      "|(9,[3,4,7,8],[1.0,3.0,2.25,1.0])       |[-1.3797307554263416,-0.04886572328766464] |0.05955         |\n",
      "|(9,[3,4,7,8],[1.0,2.0,2.33,1.0])       |[-1.2129029513930845,-0.059042951387425935]|0.05955         |\n",
      "|(9,[3,4,7,8],[1.0,3.0,2.33,1.0])       |[-1.3745811904239607,-0.049780450307592435]|0.05955         |\n",
      "|(9,[3,4,7,8],[1.0,2.0,2.08,1.0])       |[-1.2289953420255253,-0.05618442945015158] |0.0606          |\n",
      "|[0.0,0.0,4.0,1.0,1.0,0.0,0.0,2.17,1.0] |[-1.202863530134633,-0.3360831040299689]   |0.0606          |\n",
      "|[3.0,0.0,1.0,1.0,2.0,0.0,0.0,2.17,1.0] |[-2.5410884219701546,-0.08090735566299194] |0.05954         |\n",
      "|[3.0,0.0,4.0,1.0,1.0,0.0,0.0,2.25,1.0] |[-2.480265383762644,-0.2932899129646769]   |0.05954         |\n",
      "|[3.0,0.0,4.0,1.0,1.0,0.0,0.0,2.25,1.0] |[-2.480265383762644,-0.2932899129646769]   |0.05954         |\n",
      "|[3.0,0.0,0.0,1.0,3.0,0.0,0.0,2.33,1.0] |[-2.657132609054353,-0.006072532222372651] |0.05954         |\n",
      "|[2.0,0.0,1.0,1.0,2.0,0.0,0.0,2.17,1.0] |[-2.11357128242669,-0.09547666169139861]   |0.05955         |\n",
      "|[2.0,0.0,0.0,1.0,3.0,0.0,0.0,2.17,1.0] |[-2.2399145995156506,-0.01881238421092372] |0.05955         |\n",
      "|[2.0,0.0,4.0,1.0,1.0,0.0,0.0,2.25,1.0] |[-2.05274824421918,-0.30785921899308355]   |0.05955         |\n",
      "|[2.0,0.0,0.0,1.0,2.0,0.0,0.0,2.33,1.0] |[-2.0679372304800125,-0.029904339330612813]|0.05955         |\n",
      "|[1.0,0.0,1.0,1.0,2.0,0.0,0.0,2.08,1.0] |[-1.6918474035109052,-0.10901689982238628] |0.05955         |\n",
      "|[1.0,0.0,1.0,1.0,2.0,0.0,0.0,2.17,1.0] |[-1.6860541428832265,-0.11004596771980506] |0.05955         |\n",
      "|[4.0,0.0,2.0,0.0,4.0,0.0,0.0,12.25,1.0]|[-1.997199738944998,0.08549743513029096]   |0.05949         |\n",
      "|[4.0,0.0,2.0,0.0,2.0,0.0,0.0,16.33,1.0]|[-1.4112154457618074,0.02032135495430629]  |0.05949         |\n",
      "+---------------------------------------+-------------------------------------------+----------------+\n",
      "only showing top 20 rows\n",
      "\n"
     ]
    }
   ],
   "source": [
    "feature_vector_df = final_df.select(['features','pcafeatures', 'normalized_price'])\n",
    "feature_vector_df.show(truncate=False)"
   ]
  },
  {
   "cell_type": "markdown",
   "metadata": {
    "id": "Z1vpDBjPzvgP"
   },
   "source": [
    "<h3> Regression Model"
   ]
  },
  {
   "cell_type": "code",
   "execution_count": 43,
   "metadata": {
    "id": "97avOOBezvgP"
   },
   "outputs": [],
   "source": [
    "from pyspark.ml.evaluation import RegressionEvaluator"
   ]
  },
  {
   "cell_type": "code",
   "execution_count": 44,
   "metadata": {
    "id": "waKoVsS1zvgP"
   },
   "outputs": [],
   "source": [
    "(trainData, testData) = feature_vector_df.randomSplit([0.8,0.2],seed = 2)"
   ]
  },
  {
   "cell_type": "markdown",
   "metadata": {
    "id": "8FHW_6CgzvgP"
   },
   "source": [
    "<h5> XGBoost"
   ]
  },
  {
   "cell_type": "code",
   "execution_count": 45,
   "metadata": {
    "id": "sR6psOr1zvgP",
    "outputId": "e8f740d9-9cc5-407b-83bd-43966f18069f"
   },
   "outputs": [
    {
     "name": "stderr",
     "output_type": "stream",
     "text": [
      "C:\\Users\\krist\\anaconda3\\envs\\dsci\\Lib\\site-packages\\xgboost\\core.py:160: UserWarning: [08:21:04] WARNING: C:\\b\\abs_0fh_d4x2ng\\croot\\xgboost-split_1713973188995\\work\\cpp_src\\src\\objective\\regression_obj.cu:209: reg:linear is now deprecated in favor of reg:squarederror.\n",
      "  warnings.warn(smsg, UserWarning)\n"
     ]
    }
   ],
   "source": [
    "from pyspark.ml.regression import GBTRegressor\n",
    "import xgboost as xg\n",
    "import sklearn\n",
    "import numpy as np\n",
    "\n",
    "xgb_r = xg.XGBRegressor(objective ='reg:linear',n_estimators = 10, seed = 123).fit(np.vstack(trainData.select(\"features\").collect()), np.vstack(trainData.select(\"normalized_price\").collect()))"
   ]
  },
  {
   "cell_type": "code",
   "execution_count": 46,
   "metadata": {
    "id": "IOhG-Q6J4H55",
    "outputId": "60792ba3-54ba-411c-a8b9-b63a467c04dd"
   },
   "outputs": [
    {
     "data": {
      "text/plain": [
       "array([0.12128635, 0.07613671, 0.06024898, ..., 0.23700313, 0.23700313,\n",
       "       0.23700313], dtype=float32)"
      ]
     },
     "execution_count": 46,
     "metadata": {},
     "output_type": "execute_result"
    }
   ],
   "source": [
    "pred = xgb_r.predict(np.vstack(testData.select(\"features\").collect()))\n",
    "pred"
   ]
  },
  {
   "cell_type": "code",
   "execution_count": 47,
   "metadata": {
    "id": "gk4idIbJ4H55",
    "outputId": "5b36c976-b47b-4df0-9717-fbf4c56bb865"
   },
   "outputs": [
    {
     "name": "stdout",
     "output_type": "stream",
     "text": [
      "+----------------------------------+-------------------------------------------+----------------+-----------+\n",
      "|                          features|                                pcafeatures|normalized_price| prediction|\n",
      "+----------------------------------+-------------------------------------------+----------------+-----------+\n",
      "| (9,[0,2,7,8],[1.0,1.0,13.25,6.0])|  [0.01310215763927543,0.08219716317621735]|         0.14775| 0.12128635|\n",
      "|(9,[0,2,7,8],[1.0,1.0,13.25,16.0])|[-0.024231767643331934,0.12517708677408995]|         0.07262| 0.07613671|\n",
      "|(9,[0,2,7,8],[1.0,1.0,13.25,28.0])| [-0.06903247798246076,0.17675299509153708]|         0.05281|0.060248982|\n",
      "|(9,[0,2,7,8],[1.0,1.0,13.25,31.0])| [-0.08023265556724297,0.18964697217089885]|         0.06231|0.060248982|\n",
      "|(9,[0,2,7,8],[1.0,1.0,13.25,34.0])| [-0.09143283315202518,0.20254094925026064]|         0.06231|0.060248982|\n",
      "|(9,[0,2,7,8],[1.0,1.0,13.25,37.0])|  [-0.10263301073680739,0.2154349263296224]|          0.0536|0.060248982|\n",
      "|(9,[0,2,7,8],[1.0,1.0,13.25,42.0])| [-0.12129997337811108,0.23692488812855872]|         0.04939|0.058302317|\n",
      "|(9,[0,2,7,8],[1.0,1.0,13.25,43.0])| [-0.12503336590637182,0.24122288048834598]|         0.05702|0.058302317|\n",
      "|(9,[0,2,7,8],[1.0,1.0,13.67,47.0])| [-0.11293171975691374,0.25361253307287407]|          0.0536|0.058302317|\n",
      "| (9,[0,2,7,8],[1.0,1.0,14.92,6.0])|  [0.12059932706398184,0.06310223663522456]|          0.1215| 0.12128635|\n",
      "+----------------------------------+-------------------------------------------+----------------+-----------+\n",
      "only showing top 10 rows\n",
      "\n"
     ]
    }
   ],
   "source": [
    "from pyspark.sql.functions import monotonically_increasing_id\n",
    "\n",
    "test_pred = spark.createDataFrame(pred)\n",
    "\n",
    "testData_pred = testData.withColumn('key', monotonically_increasing_id())\n",
    "test_pred = test_pred.withColumn('key', monotonically_increasing_id())\n",
    "\n",
    "test_pred = test_pred.withColumn(\"prediction\", test_pred[\"value\"])\n",
    "# Perform the join on the key column\n",
    "test_with_pred = testData_pred.join(test_pred, on='key')\n",
    "\n",
    "\n",
    "test_with_pred = test_with_pred.drop('key')\n",
    "test_with_pred = test_with_pred.drop('value')\n",
    "\n",
    "test_with_pred.show(10, truncate=50)"
   ]
  },
  {
   "cell_type": "code",
   "execution_count": 48,
   "metadata": {
    "id": "Cb_mRw5D4H55",
    "outputId": "57335bdc-1812-4d42-869b-6a421713566c"
   },
   "outputs": [
    {
     "name": "stdout",
     "output_type": "stream",
     "text": [
      "Root Mean Square of XGBoost model is 0.310918\n"
     ]
    }
   ],
   "source": [
    "evaluator = RegressionEvaluator(labelCol='normalized_price', predictionCol='prediction', metricName='rmse')\n",
    "rmse = evaluator.evaluate(test_with_pred)\n",
    "print (\"Root Mean Square of XGBoost model is %g\"%rmse)"
   ]
  },
  {
   "cell_type": "code",
   "execution_count": 50,
   "metadata": {},
   "outputs": [
    {
     "name": "stderr",
     "output_type": "stream",
     "text": [
      "C:\\Users\\krist\\anaconda3\\envs\\dsci\\Lib\\site-packages\\xgboost\\core.py:160: UserWarning: [08:22:10] WARNING: C:\\b\\abs_0fh_d4x2ng\\croot\\xgboost-split_1713973188995\\work\\cpp_src\\src\\objective\\regression_obj.cu:209: reg:linear is now deprecated in favor of reg:squarederror.\n",
      "  warnings.warn(smsg, UserWarning)\n"
     ]
    }
   ],
   "source": [
    "xgb_r = xg.XGBRegressor(objective ='reg:linear',n_estimators = 10, seed = 123).fit(np.vstack(trainData.select(\"pcafeatures\").collect()), np.vstack(trainData.select(\"normalized_price\").collect()))"
   ]
  },
  {
   "cell_type": "code",
   "execution_count": 51,
   "metadata": {},
   "outputs": [
    {
     "data": {
      "text/plain": [
       "array([0.13328576, 0.13328576, 0.14036094, ..., 0.08646383, 0.08646383,\n",
       "       0.0812169 ], dtype=float32)"
      ]
     },
     "execution_count": 51,
     "metadata": {},
     "output_type": "execute_result"
    }
   ],
   "source": [
    "pred = xgb_r.predict(np.vstack(testData.select(\"pcafeatures\").collect()))\n",
    "pred"
   ]
  },
  {
   "cell_type": "code",
   "execution_count": 59,
   "metadata": {},
   "outputs": [
    {
     "name": "stdout",
     "output_type": "stream",
     "text": [
      "+----------------------------------+-------------------------------------------+----------------+----------+----------+\n",
      "|                          features|                                pcafeatures|normalized_price|     value|prediction|\n",
      "+----------------------------------+-------------------------------------------+----------------+----------+----------+\n",
      "| (9,[0,2,7,8],[1.0,1.0,13.25,6.0])|  [0.01310215763927543,0.08219716317621735]|         0.14775|0.13328576|0.13328576|\n",
      "|(9,[0,2,7,8],[1.0,1.0,13.25,16.0])|[-0.024231767643331934,0.12517708677408995]|         0.07262|0.13328576|0.13328576|\n",
      "|(9,[0,2,7,8],[1.0,1.0,13.25,28.0])| [-0.06903247798246076,0.17675299509153708]|         0.05281|0.14036094|0.14036094|\n",
      "|(9,[0,2,7,8],[1.0,1.0,13.25,31.0])| [-0.08023265556724297,0.18964697217089885]|         0.06231|0.14036094|0.14036094|\n",
      "|(9,[0,2,7,8],[1.0,1.0,13.25,34.0])| [-0.09143283315202518,0.20254094925026064]|         0.06231|0.14036094|0.14036094|\n",
      "|(9,[0,2,7,8],[1.0,1.0,13.25,37.0])|  [-0.10263301073680739,0.2154349263296224]|          0.0536|0.14036094|0.14036094|\n",
      "|(9,[0,2,7,8],[1.0,1.0,13.25,42.0])| [-0.12129997337811108,0.23692488812855872]|         0.04939|0.14036094|0.14036094|\n",
      "|(9,[0,2,7,8],[1.0,1.0,13.25,43.0])| [-0.12503336590637182,0.24122288048834598]|         0.05702|0.14036094|0.14036094|\n",
      "|(9,[0,2,7,8],[1.0,1.0,13.67,47.0])| [-0.11293171975691374,0.25361253307287407]|          0.0536|0.14036094|0.14036094|\n",
      "| (9,[0,2,7,8],[1.0,1.0,14.92,6.0])|  [0.12059932706398184,0.06310223663522456]|          0.1215| 0.1291153| 0.1291153|\n",
      "+----------------------------------+-------------------------------------------+----------------+----------+----------+\n",
      "only showing top 10 rows\n",
      "\n"
     ]
    }
   ],
   "source": [
    "from pyspark.sql.functions import monotonically_increasing_id\n",
    "\n",
    "test_pred = spark.createDataFrame(pred)\n",
    "\n",
    "testData_pred = testData.withColumn('key', monotonically_increasing_id())\n",
    "test_pred = test_pred.withColumn('key', monotonically_increasing_id())\n",
    "\n",
    "test_pred = test_pred.withColumn(\"prediction\", test_pred[\"value\"])\n",
    "# Perform the join on the key column\n",
    "test_with_pred = testData_pred.join(test_pred, on='key')\n",
    "\n",
    "\n",
    "test_with_pred_2 = test_with_pred.drop('key')\n",
    "\n",
    "test_with_pred_2.show(10, truncate=50)"
   ]
  },
  {
   "cell_type": "code",
   "execution_count": 60,
   "metadata": {},
   "outputs": [
    {
     "name": "stdout",
     "output_type": "stream",
     "text": [
      "Root Mean Square of XGBoost model is 0.31094\n"
     ]
    }
   ],
   "source": [
    "evaluator = RegressionEvaluator(labelCol='normalized_price', predictionCol='prediction', metricName='rmse')\n",
    "rmse = evaluator.evaluate(test_with_pred_2)\n",
    "print (\"Root Mean Square of XGBoost model is %g\"%rmse)"
   ]
  },
  {
   "cell_type": "markdown",
   "metadata": {
    "id": "IshUUWfEzvgP"
   },
   "source": [
    "<h5> Support Vector Regressor"
   ]
  },
  {
   "cell_type": "code",
   "execution_count": 63,
   "metadata": {
    "id": "refwgalezvgQ"
   },
   "outputs": [],
   "source": [
    "from sklearn.svm import SVR\n",
    "from sklearn.svm import LinearSVR"
   ]
  },
  {
   "cell_type": "code",
   "execution_count": 64,
   "metadata": {
    "id": "16OpVyZ24H55"
   },
   "outputs": [],
   "source": [
    "svr = LinearSVR(random_state=0,tol=1e-6,epsilon=0, C=0.8,dual=True)"
   ]
  },
  {
   "cell_type": "code",
   "execution_count": 65,
   "metadata": {
    "id": "IWFl0Gb64H55"
   },
   "outputs": [
    {
     "name": "stderr",
     "output_type": "stream",
     "text": [
      "C:\\Users\\krist\\anaconda3\\envs\\dsci\\Lib\\site-packages\\sklearn\\utils\\validation.py:1300: DataConversionWarning: A column-vector y was passed when a 1d array was expected. Please change the shape of y to (n_samples, ), for example using ravel().\n",
      "  y = column_or_1d(y, warn=True)\n",
      "C:\\Users\\krist\\anaconda3\\envs\\dsci\\Lib\\site-packages\\sklearn\\svm\\_base.py:1237: ConvergenceWarning: Liblinear failed to converge, increase the number of iterations.\n",
      "  warnings.warn(\n"
     ]
    }
   ],
   "source": [
    "svr_model = svr.fit(np.vstack(trainData.select(\"pcafeatures\").collect()),np.vstack(trainData.select(\"normalized_price\").collect()))"
   ]
  },
  {
   "cell_type": "code",
   "execution_count": 66,
   "metadata": {},
   "outputs": [],
   "source": [
    "y_pred = svr.predict(np.vstack(testData.select(\"pcafeatures\").collect()))"
   ]
  },
  {
   "cell_type": "code",
   "execution_count": 67,
   "metadata": {},
   "outputs": [
    {
     "name": "stdout",
     "output_type": "stream",
     "text": [
      "+----------------------------------+-------------------------------------------+----------------+-------------------+\n",
      "|                          features|                                pcafeatures|normalized_price|         prediction|\n",
      "+----------------------------------+-------------------------------------------+----------------+-------------------+\n",
      "| (9,[0,2,7,8],[1.0,1.0,13.25,6.0])|  [0.01310215763927543,0.08219716317621735]|         0.14775| 0.1971185203081808|\n",
      "|(9,[0,2,7,8],[1.0,1.0,13.25,16.0])|[-0.024231767643331934,0.12517708677408995]|         0.07262|0.19279010469701535|\n",
      "|(9,[0,2,7,8],[1.0,1.0,13.25,28.0])| [-0.06903247798246076,0.17675299509153708]|         0.05281|0.18759600596361684|\n",
      "|(9,[0,2,7,8],[1.0,1.0,13.25,31.0])| [-0.08023265556724297,0.18964697217089885]|         0.06231|0.18629748128026719|\n",
      "|(9,[0,2,7,8],[1.0,1.0,13.25,34.0])| [-0.09143283315202518,0.20254094925026064]|         0.06231|0.18499895659691756|\n",
      "|(9,[0,2,7,8],[1.0,1.0,13.25,37.0])|  [-0.10263301073680739,0.2154349263296224]|          0.0536|0.18370043191356794|\n",
      "|(9,[0,2,7,8],[1.0,1.0,13.25,42.0])| [-0.12129997337811108,0.23692488812855872]|         0.04939| 0.1815362241079852|\n",
      "|(9,[0,2,7,8],[1.0,1.0,13.25,43.0])| [-0.12503336590637182,0.24122288048834598]|         0.05702|0.18110338254686867|\n",
      "|(9,[0,2,7,8],[1.0,1.0,13.67,47.0])| [-0.11293171975691374,0.25361253307287407]|          0.0536|0.18244256092722622|\n",
      "| (9,[0,2,7,8],[1.0,1.0,14.92,6.0])|  [0.12059932706398184,0.06310223663522456]|          0.1215|0.20932759060212275|\n",
      "+----------------------------------+-------------------------------------------+----------------+-------------------+\n",
      "only showing top 10 rows\n",
      "\n"
     ]
    }
   ],
   "source": [
    "from pyspark.sql.functions import monotonically_increasing_id\n",
    "\n",
    "test_pred = spark.createDataFrame(y_pred)\n",
    "\n",
    "testData_pred = testData.withColumn('key', monotonically_increasing_id())\n",
    "test_pred = test_pred.withColumn('key', monotonically_increasing_id())\n",
    "\n",
    "test_pred = test_pred.withColumn(\"prediction\", test_pred[\"value\"])\n",
    "# Perform the join on the key column\n",
    "test_with_pred = testData_pred.join(test_pred, on='key')\n",
    "\n",
    "\n",
    "test_with_pred = test_with_pred.drop('key')\n",
    "test_with_pred = test_with_pred.drop('value')\n",
    "\n",
    "test_with_pred.show(10, truncate=50)"
   ]
  },
  {
   "cell_type": "code",
   "execution_count": 68,
   "metadata": {},
   "outputs": [
    {
     "name": "stdout",
     "output_type": "stream",
     "text": [
      "Root Mean Square of SVR model is 0.348618\n"
     ]
    }
   ],
   "source": [
    "evaluator = RegressionEvaluator(labelCol='normalized_price', predictionCol='prediction', metricName='rmse')\n",
    "rmse = evaluator.evaluate(test_with_pred)\n",
    "print (\"Root Mean Square of SVR model is %g\"%rmse)"
   ]
  },
  {
   "cell_type": "code",
   "execution_count": null,
   "metadata": {
    "id": "DxIze9br4H56"
   },
   "outputs": [],
   "source": [
    "# prediction_svr = svr_model.predict(np.vstack(testData.select(\"features\").collect()))\n",
    "\n",
    "# from pyspark.sql.functions import monotonically_increasing_id\n",
    "\n",
    "# test_pred = spark.createDataFrame(prediction_svr)\n",
    "\n",
    "# testData_pred = testData.withColumn('key', monotonically_increasing_id())\n",
    "# test_pred = test_pred.withColumn('key', monotonically_increasing_id())\n",
    "\n",
    "# test_pred = test_pred.withColumn(\"prediction\", test_pred[\"value\"])\n",
    "# # Perform the join on the key column\n",
    "# predict_svr = testData_pred.join(test_pred, on='key')\n",
    "\n",
    "\n",
    "# predict_svr = predict_svr.drop('key')\n",
    "# predict_svr = predict_svr.drop('value')"
   ]
  },
  {
   "cell_type": "code",
   "execution_count": null,
   "metadata": {
    "id": "3JMzIeRy4H56",
    "outputId": "33afd116-6357-4e89-9575-2459b0fd5b45"
   },
   "outputs": [],
   "source": [
    "# predict_svr.show(10, truncate=50)"
   ]
  },
  {
   "cell_type": "code",
   "execution_count": 69,
   "metadata": {},
   "outputs": [],
   "source": [
    "# evaluator = RegressionEvaluator(labelCol='normalized_price', predictionCol='prediction', metricName='rmse')\n",
    "# rmse = evaluator.evaluate(prediction_svr)\n",
    "# print (\"Root Mean Square of Support Vector Regressor model is %g\"%rmse)"
   ]
  },
  {
   "cell_type": "markdown",
   "metadata": {
    "id": "HZCDrfRXzvgQ"
   },
   "source": [
    "<h5> Random Forest Regressor"
   ]
  },
  {
   "cell_type": "code",
   "execution_count": 70,
   "metadata": {
    "id": "2nRKvMhhzvgQ"
   },
   "outputs": [],
   "source": [
    "from pyspark.ml.regression import RandomForestRegressor\n",
    "\n",
    "rf = RandomForestRegressor(featuresCol='features',labelCol='normalized_price').fit(trainData)\n",
    "prediction = rf.transform(testData)"
   ]
  },
  {
   "cell_type": "code",
   "execution_count": 71,
   "metadata": {
    "id": "Fjw0KTaEzvgQ",
    "outputId": "a4a652ea-33e8-4800-c39e-ef60f7f530b6"
   },
   "outputs": [
    {
     "name": "stdout",
     "output_type": "stream",
     "text": [
      "+----------------------------------+-------------------------------------------+----------------+-------------------+\n",
      "|                          features|                                pcafeatures|normalized_price|         prediction|\n",
      "+----------------------------------+-------------------------------------------+----------------+-------------------+\n",
      "| (9,[0,2,7,8],[1.0,1.0,13.25,6.0])|  [0.01310215763927543,0.08219716317621735]|         0.14775|0.13561146082562978|\n",
      "|(9,[0,2,7,8],[1.0,1.0,13.25,16.0])|[-0.024231767643331934,0.12517708677408995]|         0.07262| 0.1090984089292804|\n",
      "|(9,[0,2,7,8],[1.0,1.0,13.25,28.0])| [-0.06903247798246076,0.17675299509153708]|         0.05281|0.10009084519930718|\n",
      "|(9,[0,2,7,8],[1.0,1.0,13.25,31.0])| [-0.08023265556724297,0.18964697217089885]|         0.06231|0.10009084519930718|\n",
      "|(9,[0,2,7,8],[1.0,1.0,13.25,34.0])| [-0.09143283315202518,0.20254094925026064]|         0.06231|0.10009084519930718|\n",
      "|(9,[0,2,7,8],[1.0,1.0,13.25,37.0])|  [-0.10263301073680739,0.2154349263296224]|          0.0536|0.10009084519930718|\n",
      "|(9,[0,2,7,8],[1.0,1.0,13.25,42.0])| [-0.12129997337811108,0.23692488812855872]|         0.04939|0.10009084519930718|\n",
      "|(9,[0,2,7,8],[1.0,1.0,13.25,43.0])| [-0.12503336590637182,0.24122288048834598]|         0.05702|0.10009084519930718|\n",
      "|(9,[0,2,7,8],[1.0,1.0,13.67,47.0])| [-0.11293171975691374,0.25361253307287407]|          0.0536|0.10009084519930718|\n",
      "| (9,[0,2,7,8],[1.0,1.0,14.92,6.0])|  [0.12059932706398184,0.06310223663522456]|          0.1215|0.13561146082562978|\n",
      "+----------------------------------+-------------------------------------------+----------------+-------------------+\n",
      "only showing top 10 rows\n",
      "\n"
     ]
    }
   ],
   "source": [
    "prediction.show(10, truncate=50)"
   ]
  },
  {
   "cell_type": "code",
   "execution_count": 72,
   "metadata": {
    "id": "G65YaQlPzvgQ",
    "outputId": "697431c6-7ab3-4b7c-dd86-64883c7fa14b"
   },
   "outputs": [
    {
     "name": "stdout",
     "output_type": "stream",
     "text": [
      "Root Mean Square of Random Forest model is 0.0633453\n"
     ]
    }
   ],
   "source": [
    "evaluator = RegressionEvaluator(labelCol='normalized_price', predictionCol='prediction', metricName='rmse')\n",
    "rmse = evaluator.evaluate(prediction)\n",
    "print (\"Root Mean Square of Random Forest model is %g\"%rmse)"
   ]
  },
  {
   "cell_type": "code",
   "execution_count": 73,
   "metadata": {},
   "outputs": [],
   "source": [
    "rf = RandomForestRegressor(featuresCol='pcafeatures',labelCol='normalized_price').fit(trainData)\n",
    "prediction = rf.transform(testData)"
   ]
  },
  {
   "cell_type": "code",
   "execution_count": 74,
   "metadata": {},
   "outputs": [
    {
     "name": "stdout",
     "output_type": "stream",
     "text": [
      "+----------------------------------+-------------------------------------------+----------------+-------------------+\n",
      "|                          features|                                pcafeatures|normalized_price|         prediction|\n",
      "+----------------------------------+-------------------------------------------+----------------+-------------------+\n",
      "| (9,[0,2,7,8],[1.0,1.0,13.25,6.0])|  [0.01310215763927543,0.08219716317621735]|         0.14775|0.11321326336912885|\n",
      "|(9,[0,2,7,8],[1.0,1.0,13.25,16.0])|[-0.024231767643331934,0.12517708677408995]|         0.07262|0.11321326336912885|\n",
      "|(9,[0,2,7,8],[1.0,1.0,13.25,28.0])| [-0.06903247798246076,0.17675299509153708]|         0.05281|0.11321326336912885|\n",
      "|(9,[0,2,7,8],[1.0,1.0,13.25,31.0])| [-0.08023265556724297,0.18964697217089885]|         0.06231|0.11321326336912885|\n",
      "|(9,[0,2,7,8],[1.0,1.0,13.25,34.0])| [-0.09143283315202518,0.20254094925026064]|         0.06231|0.11321326336912885|\n",
      "|(9,[0,2,7,8],[1.0,1.0,13.25,37.0])|  [-0.10263301073680739,0.2154349263296224]|          0.0536|0.11321326336912885|\n",
      "|(9,[0,2,7,8],[1.0,1.0,13.25,42.0])| [-0.12129997337811108,0.23692488812855872]|         0.04939|0.11321326336912885|\n",
      "|(9,[0,2,7,8],[1.0,1.0,13.25,43.0])| [-0.12503336590637182,0.24122288048834598]|         0.05702|0.11321326336912885|\n",
      "|(9,[0,2,7,8],[1.0,1.0,13.67,47.0])| [-0.11293171975691374,0.25361253307287407]|          0.0536|0.11321326336912885|\n",
      "| (9,[0,2,7,8],[1.0,1.0,14.92,6.0])|  [0.12059932706398184,0.06310223663522456]|          0.1215|0.11284501723843263|\n",
      "+----------------------------------+-------------------------------------------+----------------+-------------------+\n",
      "only showing top 10 rows\n",
      "\n"
     ]
    }
   ],
   "source": [
    "prediction.show(10, truncate=50)"
   ]
  },
  {
   "cell_type": "code",
   "execution_count": 75,
   "metadata": {},
   "outputs": [
    {
     "name": "stdout",
     "output_type": "stream",
     "text": [
      "Root Mean Square of Random Forest model is 0.132325\n"
     ]
    }
   ],
   "source": [
    "evaluator = RegressionEvaluator(labelCol='normalized_price', predictionCol='prediction', metricName='rmse')\n",
    "rmse = evaluator.evaluate(prediction)\n",
    "print (\"Root Mean Square of Random Forest model is %g\"%rmse)"
   ]
  },
  {
   "cell_type": "code",
   "execution_count": 76,
   "metadata": {
    "id": "GjZ6P65KzvgR",
    "outputId": "3f57fca1-4a7e-483f-9e61-91d65cdd1fb2"
   },
   "outputs": [],
   "source": [
    "# spark.stop"
   ]
  },
  {
   "cell_type": "code",
   "execution_count": null,
   "metadata": {},
   "outputs": [],
   "source": []
  }
 ],
 "metadata": {
  "colab": {
   "include_colab_link": true,
   "provenance": []
  },
  "kernelspec": {
   "display_name": "Python 3 (dscii)",
   "language": "python",
   "name": "dsci"
  },
  "language_info": {
   "codemirror_mode": {
    "name": "ipython",
    "version": 3
   },
   "file_extension": ".py",
   "mimetype": "text/x-python",
   "name": "python",
   "nbconvert_exporter": "python",
   "pygments_lexer": "ipython3",
   "version": "3.11.8"
  }
 },
 "nbformat": 4,
 "nbformat_minor": 4
}
