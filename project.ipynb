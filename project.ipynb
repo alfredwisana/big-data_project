{
  "cells": [
    {
      "cell_type": "markdown",
      "metadata": {
        "id": "view-in-github",
        "colab_type": "text"
      },
      "source": [
        "<a href=\"https://colab.research.google.com/github/alfredwisana/big-data_project/blob/main/project.ipynb\" target=\"_parent\"><img src=\"https://colab.research.google.com/assets/colab-badge.svg\" alt=\"Open In Colab\"/></a>"
      ]
    },
    {
      "cell_type": "code",
      "execution_count": null,
      "metadata": {
        "id": "CIgA6eSIzvf8"
      },
      "outputs": [],
      "source": [
        "from pyspark.sql import SparkSession\n",
        "\n",
        "spark = SparkSession.builder.appName('local[2]').appName('myApp').getOrCreate()\n",
        "import matplotlib.pyplot as plt\n",
        "import seaborn"
      ]
    },
    {
      "cell_type": "code",
      "execution_count": null,
      "metadata": {
        "id": "tU7KPimfzvf-",
        "outputId": "5cacbca3-6f6f-46c8-c928-35ca98833b17"
      },
      "outputs": [
        {
          "name": "stdout",
          "output_type": "stream",
          "text": [
            "+---+---------+-------+-----------+--------------+-----+-------------+----------------+-------+--------+---------+-----+\n",
            "|_c0|  airline| flight|source_city|departure_time|stops| arrival_time|destination_city|  class|duration|days_left|price|\n",
            "+---+---------+-------+-----------+--------------+-----+-------------+----------------+-------+--------+---------+-----+\n",
            "|  0| SpiceJet|SG-8709|      Delhi|       Evening| zero|        Night|          Mumbai|Economy|    2.17|        1| 5953|\n",
            "|  1| SpiceJet|SG-8157|      Delhi| Early_Morning| zero|      Morning|          Mumbai|Economy|    2.33|        1| 5953|\n",
            "|  2|  AirAsia| I5-764|      Delhi| Early_Morning| zero|Early_Morning|          Mumbai|Economy|    2.17|        1| 5956|\n",
            "|  3|  Vistara| UK-995|      Delhi|       Morning| zero|    Afternoon|          Mumbai|Economy|    2.25|        1| 5955|\n",
            "|  4|  Vistara| UK-963|      Delhi|       Morning| zero|      Morning|          Mumbai|Economy|    2.33|        1| 5955|\n",
            "|  5|  Vistara| UK-945|      Delhi|       Morning| zero|    Afternoon|          Mumbai|Economy|    2.33|        1| 5955|\n",
            "|  6|  Vistara| UK-927|      Delhi|       Morning| zero|      Morning|          Mumbai|Economy|    2.08|        1| 6060|\n",
            "|  7|  Vistara| UK-951|      Delhi|     Afternoon| zero|      Evening|          Mumbai|Economy|    2.17|        1| 6060|\n",
            "|  8| GO_FIRST| G8-334|      Delhi| Early_Morning| zero|      Morning|          Mumbai|Economy|    2.17|        1| 5954|\n",
            "|  9| GO_FIRST| G8-336|      Delhi|     Afternoon| zero|      Evening|          Mumbai|Economy|    2.25|        1| 5954|\n",
            "| 10| GO_FIRST| G8-392|      Delhi|     Afternoon| zero|      Evening|          Mumbai|Economy|    2.25|        1| 5954|\n",
            "| 11| GO_FIRST| G8-338|      Delhi|       Morning| zero|    Afternoon|          Mumbai|Economy|    2.33|        1| 5954|\n",
            "| 12|   Indigo|6E-5001|      Delhi| Early_Morning| zero|      Morning|          Mumbai|Economy|    2.17|        1| 5955|\n",
            "| 13|   Indigo|6E-6202|      Delhi|       Morning| zero|    Afternoon|          Mumbai|Economy|    2.17|        1| 5955|\n",
            "| 14|   Indigo| 6E-549|      Delhi|     Afternoon| zero|      Evening|          Mumbai|Economy|    2.25|        1| 5955|\n",
            "| 15|   Indigo|6E-6278|      Delhi|       Morning| zero|      Morning|          Mumbai|Economy|    2.33|        1| 5955|\n",
            "| 16|Air_India| AI-887|      Delhi| Early_Morning| zero|      Morning|          Mumbai|Economy|    2.08|        1| 5955|\n",
            "| 17|Air_India| AI-665|      Delhi| Early_Morning| zero|      Morning|          Mumbai|Economy|    2.17|        1| 5955|\n",
            "| 18|  AirAsia| I5-747|      Delhi|       Evening|  one|Early_Morning|          Mumbai|Economy|   12.25|        1| 5949|\n",
            "| 19|  AirAsia| I5-747|      Delhi|       Evening|  one|      Morning|          Mumbai|Economy|   16.33|        1| 5949|\n",
            "| 20| GO_FIRST| G8-266|      Delhi| Early_Morning|  one|      Evening|          Mumbai|Economy|   11.75|        1| 5954|\n",
            "| 21| GO_FIRST| G8-101|      Delhi| Early_Morning|  one|        Night|          Mumbai|Economy|    14.5|        1| 5954|\n",
            "| 22| GO_FIRST| G8-103|      Delhi|       Evening|  one|      Morning|          Mumbai|Economy|   15.67|        1| 5954|\n",
            "| 23|Air_India| AI-441|      Delhi|       Evening|  one|        Night|          Mumbai|Economy|    3.75|        1| 5955|\n",
            "| 24|   Indigo|6E-5328|      Delhi|       Morning| zero|      Morning|          Mumbai|Economy|     2.5|        1| 6165|\n",
            "| 25|  Vistara| UK-933|      Delhi|     Afternoon| zero|      Evening|          Mumbai|Economy|    2.17|        1| 6690|\n",
            "| 26|   Indigo|6E-2046|      Delhi|       Evening| zero|      Evening|          Mumbai|Economy|    2.17|        1| 6585|\n",
            "| 27|  AirAsia| I5-744|      Delhi|       Morning|  one|    Afternoon|          Mumbai|Economy|    5.83|        1| 8869|\n",
            "| 28| SpiceJet|SG-8169|      Delhi|       Evening| zero|        Night|          Mumbai|Economy|    2.33|        1|10260|\n",
            "| 29|   Indigo|6E-5041|      Delhi|       Evening| zero|        Night|          Mumbai|Economy|    2.17|        1|10470|\n",
            "+---+---------+-------+-----------+--------------+-----+-------------+----------------+-------+--------+---------+-----+\n",
            "only showing top 30 rows\n",
            "\n"
          ]
        }
      ],
      "source": [
        "# Read the CSV file containing Titanic dataset into Spark's DataFrame and show it\n",
        "\n",
        "df = spark.read.format('csv').options(header=True, inferSchema=True).load('Clean_Dataset.csv')\n",
        "df.show(30,truncate=50)\n"
      ]
    },
    {
      "cell_type": "code",
      "execution_count": null,
      "metadata": {
        "id": "AV5iSoPuzvgA",
        "outputId": "04fb5f3e-8ac3-44f9-94d4-0c7e5d062eea"
      },
      "outputs": [
        {
          "name": "stdout",
          "output_type": "stream",
          "text": [
            "root\n",
            " |-- _c0: integer (nullable = true)\n",
            " |-- airline: string (nullable = true)\n",
            " |-- flight: string (nullable = true)\n",
            " |-- source_city: string (nullable = true)\n",
            " |-- departure_time: string (nullable = true)\n",
            " |-- stops: string (nullable = true)\n",
            " |-- arrival_time: string (nullable = true)\n",
            " |-- destination_city: string (nullable = true)\n",
            " |-- class: string (nullable = true)\n",
            " |-- duration: double (nullable = true)\n",
            " |-- days_left: integer (nullable = true)\n",
            " |-- price: integer (nullable = true)\n",
            "\n"
          ]
        }
      ],
      "source": [
        "# Try to print the schema\n",
        "\n",
        "df.printSchema()"
      ]
    },
    {
      "cell_type": "code",
      "execution_count": null,
      "metadata": {
        "id": "Th55St5AzvgB"
      },
      "outputs": [],
      "source": [
        "from pyspark.sql.types import *\n",
        "from pyspark.sql.functions import *"
      ]
    },
    {
      "cell_type": "code",
      "execution_count": null,
      "metadata": {
        "id": "tSSBLiv_zvgC",
        "outputId": "d0925270-69ca-4f55-da82-c9e83674c0e4"
      },
      "outputs": [
        {
          "name": "stdout",
          "output_type": "stream",
          "text": [
            "+---+-------+------+-----------+--------------+-----+------------+----------------+-----+--------+---------+-----+\n",
            "|_c0|airline|flight|source_city|departure_time|stops|arrival_time|destination_city|class|duration|days_left|price|\n",
            "+---+-------+------+-----------+--------------+-----+------------+----------------+-----+--------+---------+-----+\n",
            "|  0|      0|     0|          0|             0|    0|           0|               0|    0|       0|        0|    0|\n",
            "+---+-------+------+-----------+--------------+-----+------------+----------------+-----+--------+---------+-----+\n",
            "\n"
          ]
        }
      ],
      "source": [
        "df.select([count(when(isnan(c) | isnull(c),1)).alias(c) for c in df.columns]).show()"
      ]
    },
    {
      "cell_type": "markdown",
      "metadata": {
        "id": "oCF2MlhpzvgC"
      },
      "source": [
        "<h1>Data Preprocessing"
      ]
    },
    {
      "cell_type": "code",
      "execution_count": null,
      "metadata": {
        "id": "2O_9VhpAzvgE"
      },
      "outputs": [],
      "source": [
        "from pyspark.ml.feature import Normalizer,VectorAssembler, StringIndexer\n",
        "from pyspark.ml import Pipeline"
      ]
    },
    {
      "cell_type": "code",
      "execution_count": null,
      "metadata": {
        "id": "vw7DcHiwzvgF"
      },
      "outputs": [],
      "source": [
        "from pyspark.sql.functions import col, max as spark_max, abs as spark_abs\n",
        "\n",
        "max_abs_value = df.select(spark_max(spark_abs(col(\"price\"))).alias(\"max_abs_value\")).collect()[0][\"max_abs_value\"]\n"
      ]
    },
    {
      "cell_type": "code",
      "execution_count": null,
      "metadata": {
        "id": "4hKKVEK-zvgG",
        "outputId": "025e870b-b84b-478f-e65d-30b6d01a7316"
      },
      "outputs": [
        {
          "name": "stdout",
          "output_type": "stream",
          "text": [
            "123071\n"
          ]
        },
        {
          "data": {
            "text/plain": [
              "6"
            ]
          },
          "execution_count": 8,
          "metadata": {},
          "output_type": "execute_result"
        }
      ],
      "source": [
        "print(max_abs_value)\n",
        "len(str(int(max_abs_value)))"
      ]
    },
    {
      "cell_type": "code",
      "execution_count": null,
      "metadata": {
        "id": "radlP9JZzvgH",
        "outputId": "0ccb8a69-3d3d-49d7-db53-44edfff5d039"
      },
      "outputs": [
        {
          "name": "stdout",
          "output_type": "stream",
          "text": [
            "+---+---------+-------+-----------+--------------+-----+-------------+----------------+-------+--------+---------+-----+----------------+\n",
            "|_c0|  airline| flight|source_city|departure_time|stops| arrival_time|destination_city|  class|duration|days_left|price|normalized_price|\n",
            "+---+---------+-------+-----------+--------------+-----+-------------+----------------+-------+--------+---------+-----+----------------+\n",
            "|  0| SpiceJet|SG-8709|      Delhi|       Evening| zero|        Night|          Mumbai|Economy|    2.17|        1| 5953|         0.05953|\n",
            "|  1| SpiceJet|SG-8157|      Delhi| Early_Morning| zero|      Morning|          Mumbai|Economy|    2.33|        1| 5953|         0.05953|\n",
            "|  2|  AirAsia| I5-764|      Delhi| Early_Morning| zero|Early_Morning|          Mumbai|Economy|    2.17|        1| 5956|         0.05956|\n",
            "|  3|  Vistara| UK-995|      Delhi|       Morning| zero|    Afternoon|          Mumbai|Economy|    2.25|        1| 5955|         0.05955|\n",
            "|  4|  Vistara| UK-963|      Delhi|       Morning| zero|      Morning|          Mumbai|Economy|    2.33|        1| 5955|         0.05955|\n",
            "|  5|  Vistara| UK-945|      Delhi|       Morning| zero|    Afternoon|          Mumbai|Economy|    2.33|        1| 5955|         0.05955|\n",
            "|  6|  Vistara| UK-927|      Delhi|       Morning| zero|      Morning|          Mumbai|Economy|    2.08|        1| 6060|          0.0606|\n",
            "|  7|  Vistara| UK-951|      Delhi|     Afternoon| zero|      Evening|          Mumbai|Economy|    2.17|        1| 6060|          0.0606|\n",
            "|  8| GO_FIRST| G8-334|      Delhi| Early_Morning| zero|      Morning|          Mumbai|Economy|    2.17|        1| 5954|         0.05954|\n",
            "|  9| GO_FIRST| G8-336|      Delhi|     Afternoon| zero|      Evening|          Mumbai|Economy|    2.25|        1| 5954|         0.05954|\n",
            "| 10| GO_FIRST| G8-392|      Delhi|     Afternoon| zero|      Evening|          Mumbai|Economy|    2.25|        1| 5954|         0.05954|\n",
            "| 11| GO_FIRST| G8-338|      Delhi|       Morning| zero|    Afternoon|          Mumbai|Economy|    2.33|        1| 5954|         0.05954|\n",
            "| 12|   Indigo|6E-5001|      Delhi| Early_Morning| zero|      Morning|          Mumbai|Economy|    2.17|        1| 5955|         0.05955|\n",
            "| 13|   Indigo|6E-6202|      Delhi|       Morning| zero|    Afternoon|          Mumbai|Economy|    2.17|        1| 5955|         0.05955|\n",
            "| 14|   Indigo| 6E-549|      Delhi|     Afternoon| zero|      Evening|          Mumbai|Economy|    2.25|        1| 5955|         0.05955|\n",
            "| 15|   Indigo|6E-6278|      Delhi|       Morning| zero|      Morning|          Mumbai|Economy|    2.33|        1| 5955|         0.05955|\n",
            "| 16|Air_India| AI-887|      Delhi| Early_Morning| zero|      Morning|          Mumbai|Economy|    2.08|        1| 5955|         0.05955|\n",
            "| 17|Air_India| AI-665|      Delhi| Early_Morning| zero|      Morning|          Mumbai|Economy|    2.17|        1| 5955|         0.05955|\n",
            "| 18|  AirAsia| I5-747|      Delhi|       Evening|  one|Early_Morning|          Mumbai|Economy|   12.25|        1| 5949|         0.05949|\n",
            "| 19|  AirAsia| I5-747|      Delhi|       Evening|  one|      Morning|          Mumbai|Economy|   16.33|        1| 5949|         0.05949|\n",
            "| 20| GO_FIRST| G8-266|      Delhi| Early_Morning|  one|      Evening|          Mumbai|Economy|   11.75|        1| 5954|         0.05954|\n",
            "| 21| GO_FIRST| G8-101|      Delhi| Early_Morning|  one|        Night|          Mumbai|Economy|    14.5|        1| 5954|         0.05954|\n",
            "| 22| GO_FIRST| G8-103|      Delhi|       Evening|  one|      Morning|          Mumbai|Economy|   15.67|        1| 5954|         0.05954|\n",
            "| 23|Air_India| AI-441|      Delhi|       Evening|  one|        Night|          Mumbai|Economy|    3.75|        1| 5955|         0.05955|\n",
            "| 24|   Indigo|6E-5328|      Delhi|       Morning| zero|      Morning|          Mumbai|Economy|     2.5|        1| 6165|         0.06165|\n",
            "| 25|  Vistara| UK-933|      Delhi|     Afternoon| zero|      Evening|          Mumbai|Economy|    2.17|        1| 6690|          0.0669|\n",
            "| 26|   Indigo|6E-2046|      Delhi|       Evening| zero|      Evening|          Mumbai|Economy|    2.17|        1| 6585|         0.06585|\n",
            "| 27|  AirAsia| I5-744|      Delhi|       Morning|  one|    Afternoon|          Mumbai|Economy|    5.83|        1| 8869|         0.08869|\n",
            "| 28| SpiceJet|SG-8169|      Delhi|       Evening| zero|        Night|          Mumbai|Economy|    2.33|        1|10260|          0.1026|\n",
            "| 29|   Indigo|6E-5041|      Delhi|       Evening| zero|        Night|          Mumbai|Economy|    2.17|        1|10470|          0.1047|\n",
            "+---+---------+-------+-----------+--------------+-----+-------------+----------------+-------+--------+---------+-----+----------------+\n",
            "only showing top 30 rows\n",
            "\n"
          ]
        }
      ],
      "source": [
        "scaling_factor = 10 ** (len(str(int(max_abs_value)))-1)\n",
        "df = df.withColumn(\"normalized_price\", col(\"price\") / scaling_factor)\n",
        "df.show(30,truncate=50)"
      ]
    },
    {
      "cell_type": "code",
      "execution_count": null,
      "metadata": {
        "id": "WU4b4AoDzvgJ"
      },
      "outputs": [],
      "source": [
        "column_name = df.columns"
      ]
    },
    {
      "cell_type": "code",
      "execution_count": null,
      "metadata": {
        "id": "XCBJ0fZRzvgN",
        "outputId": "730e48b3-a2e3-430b-b533-32451adca987"
      },
      "outputs": [
        {
          "name": "stdout",
          "output_type": "stream",
          "text": [
            "['airline', 'source_city', 'departure_time', 'stops', 'arrival_time', 'destination_city', 'class', 'duration', 'days_left', 'normalized_price']\n"
          ]
        }
      ],
      "source": [
        "column_name.remove('_c0')\n",
        "column_name.remove('price')\n",
        "column_name.remove('flight')\n",
        "print(column_name)"
      ]
    },
    {
      "cell_type": "code",
      "execution_count": null,
      "metadata": {
        "id": "wSvD6j9AzvgO",
        "outputId": "61fb97e0-511a-4597-c1af-7b8be44066d0"
      },
      "outputs": [
        {
          "name": "stdout",
          "output_type": "stream",
          "text": [
            "+---------+-----------+--------------+-----+-------------+----------------+-------+--------+---------+----------------+-----------+---------------+------------------+---------+----------------+--------------------+---------+\n",
            "|  airline|source_city|departure_time|stops| arrival_time|destination_city|  class|duration|days_left|normalized_price|airline_idx|source_city_idx|departure_time_idx|stops_idx|arrival_time_idx|destination_city_idx|class_idx|\n",
            "+---------+-----------+--------------+-----+-------------+----------------+-------+--------+---------+----------------+-----------+---------------+------------------+---------+----------------+--------------------+---------+\n",
            "| SpiceJet|      Delhi|       Evening| zero|        Night|          Mumbai|Economy|    2.17|        1|         0.05953|        5.0|            0.0|               2.0|      1.0|             0.0|                 0.0|      0.0|\n",
            "| SpiceJet|      Delhi| Early_Morning| zero|      Morning|          Mumbai|Economy|    2.33|        1|         0.05953|        5.0|            0.0|               1.0|      1.0|             2.0|                 0.0|      0.0|\n",
            "|  AirAsia|      Delhi| Early_Morning| zero|Early_Morning|          Mumbai|Economy|    2.17|        1|         0.05956|        4.0|            0.0|               1.0|      1.0|             4.0|                 0.0|      0.0|\n",
            "|  Vistara|      Delhi|       Morning| zero|    Afternoon|          Mumbai|Economy|    2.25|        1|         0.05955|        0.0|            0.0|               0.0|      1.0|             3.0|                 0.0|      0.0|\n",
            "|  Vistara|      Delhi|       Morning| zero|      Morning|          Mumbai|Economy|    2.33|        1|         0.05955|        0.0|            0.0|               0.0|      1.0|             2.0|                 0.0|      0.0|\n",
            "|  Vistara|      Delhi|       Morning| zero|    Afternoon|          Mumbai|Economy|    2.33|        1|         0.05955|        0.0|            0.0|               0.0|      1.0|             3.0|                 0.0|      0.0|\n",
            "|  Vistara|      Delhi|       Morning| zero|      Morning|          Mumbai|Economy|    2.08|        1|          0.0606|        0.0|            0.0|               0.0|      1.0|             2.0|                 0.0|      0.0|\n",
            "|  Vistara|      Delhi|     Afternoon| zero|      Evening|          Mumbai|Economy|    2.17|        1|          0.0606|        0.0|            0.0|               4.0|      1.0|             1.0|                 0.0|      0.0|\n",
            "| GO_FIRST|      Delhi| Early_Morning| zero|      Morning|          Mumbai|Economy|    2.17|        1|         0.05954|        3.0|            0.0|               1.0|      1.0|             2.0|                 0.0|      0.0|\n",
            "| GO_FIRST|      Delhi|     Afternoon| zero|      Evening|          Mumbai|Economy|    2.25|        1|         0.05954|        3.0|            0.0|               4.0|      1.0|             1.0|                 0.0|      0.0|\n",
            "| GO_FIRST|      Delhi|     Afternoon| zero|      Evening|          Mumbai|Economy|    2.25|        1|         0.05954|        3.0|            0.0|               4.0|      1.0|             1.0|                 0.0|      0.0|\n",
            "| GO_FIRST|      Delhi|       Morning| zero|    Afternoon|          Mumbai|Economy|    2.33|        1|         0.05954|        3.0|            0.0|               0.0|      1.0|             3.0|                 0.0|      0.0|\n",
            "|   Indigo|      Delhi| Early_Morning| zero|      Morning|          Mumbai|Economy|    2.17|        1|         0.05955|        2.0|            0.0|               1.0|      1.0|             2.0|                 0.0|      0.0|\n",
            "|   Indigo|      Delhi|       Morning| zero|    Afternoon|          Mumbai|Economy|    2.17|        1|         0.05955|        2.0|            0.0|               0.0|      1.0|             3.0|                 0.0|      0.0|\n",
            "|   Indigo|      Delhi|     Afternoon| zero|      Evening|          Mumbai|Economy|    2.25|        1|         0.05955|        2.0|            0.0|               4.0|      1.0|             1.0|                 0.0|      0.0|\n",
            "|   Indigo|      Delhi|       Morning| zero|      Morning|          Mumbai|Economy|    2.33|        1|         0.05955|        2.0|            0.0|               0.0|      1.0|             2.0|                 0.0|      0.0|\n",
            "|Air_India|      Delhi| Early_Morning| zero|      Morning|          Mumbai|Economy|    2.08|        1|         0.05955|        1.0|            0.0|               1.0|      1.0|             2.0|                 0.0|      0.0|\n",
            "|Air_India|      Delhi| Early_Morning| zero|      Morning|          Mumbai|Economy|    2.17|        1|         0.05955|        1.0|            0.0|               1.0|      1.0|             2.0|                 0.0|      0.0|\n",
            "|  AirAsia|      Delhi|       Evening|  one|Early_Morning|          Mumbai|Economy|   12.25|        1|         0.05949|        4.0|            0.0|               2.0|      0.0|             4.0|                 0.0|      0.0|\n",
            "|  AirAsia|      Delhi|       Evening|  one|      Morning|          Mumbai|Economy|   16.33|        1|         0.05949|        4.0|            0.0|               2.0|      0.0|             2.0|                 0.0|      0.0|\n",
            "+---------+-----------+--------------+-----+-------------+----------------+-------+--------+---------+----------------+-----------+---------------+------------------+---------+----------------+--------------------+---------+\n",
            "only showing top 20 rows\n",
            "\n"
          ]
        }
      ],
      "source": [
        "final_df = df.select(column_name)\n",
        "\n",
        "\n",
        "indexers = [StringIndexer(inputCol=col, outputCol=col+'_idx').fit(final_df) for col in ['airline','source_city','departure_time', 'stops', 'arrival_time', 'destination_city','class']]\n",
        "pipeline = Pipeline(stages=indexers)\n",
        "final_df = pipeline.fit(final_df).transform(final_df)\n",
        "final_df.show()"
      ]
    },
    {
      "cell_type": "code",
      "execution_count": null,
      "metadata": {
        "id": "HBwkNpQ3zvgO",
        "outputId": "62b7def0-2d66-497e-d3f3-8a00e9367f05"
      },
      "outputs": [
        {
          "name": "stdout",
          "output_type": "stream",
          "text": [
            "+---------+-----------+--------------+-----+-------------+----------------+-------+--------+---------+----------------+-----------+---------------+------------------+---------+----------------+--------------------+---------+---------------------------------------+\n",
            "|  airline|source_city|departure_time|stops| arrival_time|destination_city|  class|duration|days_left|normalized_price|airline_idx|source_city_idx|departure_time_idx|stops_idx|arrival_time_idx|destination_city_idx|class_idx|                               features|\n",
            "+---------+-----------+--------------+-----+-------------+----------------+-------+--------+---------+----------------+-----------+---------------+------------------+---------+----------------+--------------------+---------+---------------------------------------+\n",
            "| SpiceJet|      Delhi|       Evening| zero|        Night|          Mumbai|Economy|    2.17|        1|         0.05953|        5.0|            0.0|               2.0|      1.0|             0.0|                 0.0|      0.0| [5.0,0.0,2.0,1.0,0.0,0.0,0.0,2.17,1.0]|\n",
            "| SpiceJet|      Delhi| Early_Morning| zero|      Morning|          Mumbai|Economy|    2.33|        1|         0.05953|        5.0|            0.0|               1.0|      1.0|             2.0|                 0.0|      0.0| [5.0,0.0,1.0,1.0,2.0,0.0,0.0,2.33,1.0]|\n",
            "|  AirAsia|      Delhi| Early_Morning| zero|Early_Morning|          Mumbai|Economy|    2.17|        1|         0.05956|        4.0|            0.0|               1.0|      1.0|             4.0|                 0.0|      0.0| [4.0,0.0,1.0,1.0,4.0,0.0,0.0,2.17,1.0]|\n",
            "|  Vistara|      Delhi|       Morning| zero|    Afternoon|          Mumbai|Economy|    2.25|        1|         0.05955|        0.0|            0.0|               0.0|      1.0|             3.0|                 0.0|      0.0|       (9,[3,4,7,8],[1.0,3.0,2.25,1.0])|\n",
            "|  Vistara|      Delhi|       Morning| zero|      Morning|          Mumbai|Economy|    2.33|        1|         0.05955|        0.0|            0.0|               0.0|      1.0|             2.0|                 0.0|      0.0|       (9,[3,4,7,8],[1.0,2.0,2.33,1.0])|\n",
            "|  Vistara|      Delhi|       Morning| zero|    Afternoon|          Mumbai|Economy|    2.33|        1|         0.05955|        0.0|            0.0|               0.0|      1.0|             3.0|                 0.0|      0.0|       (9,[3,4,7,8],[1.0,3.0,2.33,1.0])|\n",
            "|  Vistara|      Delhi|       Morning| zero|      Morning|          Mumbai|Economy|    2.08|        1|          0.0606|        0.0|            0.0|               0.0|      1.0|             2.0|                 0.0|      0.0|       (9,[3,4,7,8],[1.0,2.0,2.08,1.0])|\n",
            "|  Vistara|      Delhi|     Afternoon| zero|      Evening|          Mumbai|Economy|    2.17|        1|          0.0606|        0.0|            0.0|               4.0|      1.0|             1.0|                 0.0|      0.0| [0.0,0.0,4.0,1.0,1.0,0.0,0.0,2.17,1.0]|\n",
            "| GO_FIRST|      Delhi| Early_Morning| zero|      Morning|          Mumbai|Economy|    2.17|        1|         0.05954|        3.0|            0.0|               1.0|      1.0|             2.0|                 0.0|      0.0| [3.0,0.0,1.0,1.0,2.0,0.0,0.0,2.17,1.0]|\n",
            "| GO_FIRST|      Delhi|     Afternoon| zero|      Evening|          Mumbai|Economy|    2.25|        1|         0.05954|        3.0|            0.0|               4.0|      1.0|             1.0|                 0.0|      0.0| [3.0,0.0,4.0,1.0,1.0,0.0,0.0,2.25,1.0]|\n",
            "| GO_FIRST|      Delhi|     Afternoon| zero|      Evening|          Mumbai|Economy|    2.25|        1|         0.05954|        3.0|            0.0|               4.0|      1.0|             1.0|                 0.0|      0.0| [3.0,0.0,4.0,1.0,1.0,0.0,0.0,2.25,1.0]|\n",
            "| GO_FIRST|      Delhi|       Morning| zero|    Afternoon|          Mumbai|Economy|    2.33|        1|         0.05954|        3.0|            0.0|               0.0|      1.0|             3.0|                 0.0|      0.0| [3.0,0.0,0.0,1.0,3.0,0.0,0.0,2.33,1.0]|\n",
            "|   Indigo|      Delhi| Early_Morning| zero|      Morning|          Mumbai|Economy|    2.17|        1|         0.05955|        2.0|            0.0|               1.0|      1.0|             2.0|                 0.0|      0.0| [2.0,0.0,1.0,1.0,2.0,0.0,0.0,2.17,1.0]|\n",
            "|   Indigo|      Delhi|       Morning| zero|    Afternoon|          Mumbai|Economy|    2.17|        1|         0.05955|        2.0|            0.0|               0.0|      1.0|             3.0|                 0.0|      0.0| [2.0,0.0,0.0,1.0,3.0,0.0,0.0,2.17,1.0]|\n",
            "|   Indigo|      Delhi|     Afternoon| zero|      Evening|          Mumbai|Economy|    2.25|        1|         0.05955|        2.0|            0.0|               4.0|      1.0|             1.0|                 0.0|      0.0| [2.0,0.0,4.0,1.0,1.0,0.0,0.0,2.25,1.0]|\n",
            "|   Indigo|      Delhi|       Morning| zero|      Morning|          Mumbai|Economy|    2.33|        1|         0.05955|        2.0|            0.0|               0.0|      1.0|             2.0|                 0.0|      0.0| [2.0,0.0,0.0,1.0,2.0,0.0,0.0,2.33,1.0]|\n",
            "|Air_India|      Delhi| Early_Morning| zero|      Morning|          Mumbai|Economy|    2.08|        1|         0.05955|        1.0|            0.0|               1.0|      1.0|             2.0|                 0.0|      0.0| [1.0,0.0,1.0,1.0,2.0,0.0,0.0,2.08,1.0]|\n",
            "|Air_India|      Delhi| Early_Morning| zero|      Morning|          Mumbai|Economy|    2.17|        1|         0.05955|        1.0|            0.0|               1.0|      1.0|             2.0|                 0.0|      0.0| [1.0,0.0,1.0,1.0,2.0,0.0,0.0,2.17,1.0]|\n",
            "|  AirAsia|      Delhi|       Evening|  one|Early_Morning|          Mumbai|Economy|   12.25|        1|         0.05949|        4.0|            0.0|               2.0|      0.0|             4.0|                 0.0|      0.0|[4.0,0.0,2.0,0.0,4.0,0.0,0.0,12.25,1.0]|\n",
            "|  AirAsia|      Delhi|       Evening|  one|      Morning|          Mumbai|Economy|   16.33|        1|         0.05949|        4.0|            0.0|               2.0|      0.0|             2.0|                 0.0|      0.0|[4.0,0.0,2.0,0.0,2.0,0.0,0.0,16.33,1.0]|\n",
            "| GO_FIRST|      Delhi| Early_Morning|  one|      Evening|          Mumbai|Economy|   11.75|        1|         0.05954|        3.0|            0.0|               1.0|      0.0|             1.0|                 0.0|      0.0|[3.0,0.0,1.0,0.0,1.0,0.0,0.0,11.75,1.0]|\n",
            "| GO_FIRST|      Delhi| Early_Morning|  one|        Night|          Mumbai|Economy|    14.5|        1|         0.05954|        3.0|            0.0|               1.0|      0.0|             0.0|                 0.0|      0.0|       (9,[0,2,7,8],[3.0,1.0,14.5,1.0])|\n",
            "| GO_FIRST|      Delhi|       Evening|  one|      Morning|          Mumbai|Economy|   15.67|        1|         0.05954|        3.0|            0.0|               2.0|      0.0|             2.0|                 0.0|      0.0|[3.0,0.0,2.0,0.0,2.0,0.0,0.0,15.67,1.0]|\n",
            "|Air_India|      Delhi|       Evening|  one|        Night|          Mumbai|Economy|    3.75|        1|         0.05955|        1.0|            0.0|               2.0|      0.0|             0.0|                 0.0|      0.0|       (9,[0,2,7,8],[1.0,2.0,3.75,1.0])|\n",
            "|   Indigo|      Delhi|       Morning| zero|      Morning|          Mumbai|Economy|     2.5|        1|         0.06165|        2.0|            0.0|               0.0|      1.0|             2.0|                 0.0|      0.0|  [2.0,0.0,0.0,1.0,2.0,0.0,0.0,2.5,1.0]|\n",
            "|  Vistara|      Delhi|     Afternoon| zero|      Evening|          Mumbai|Economy|    2.17|        1|          0.0669|        0.0|            0.0|               4.0|      1.0|             1.0|                 0.0|      0.0| [0.0,0.0,4.0,1.0,1.0,0.0,0.0,2.17,1.0]|\n",
            "|   Indigo|      Delhi|       Evening| zero|      Evening|          Mumbai|Economy|    2.17|        1|         0.06585|        2.0|            0.0|               2.0|      1.0|             1.0|                 0.0|      0.0| [2.0,0.0,2.0,1.0,1.0,0.0,0.0,2.17,1.0]|\n",
            "|  AirAsia|      Delhi|       Morning|  one|    Afternoon|          Mumbai|Economy|    5.83|        1|         0.08869|        4.0|            0.0|               0.0|      0.0|             3.0|                 0.0|      0.0|       (9,[0,4,7,8],[4.0,3.0,5.83,1.0])|\n",
            "| SpiceJet|      Delhi|       Evening| zero|        Night|          Mumbai|Economy|    2.33|        1|          0.1026|        5.0|            0.0|               2.0|      1.0|             0.0|                 0.0|      0.0| [5.0,0.0,2.0,1.0,0.0,0.0,0.0,2.33,1.0]|\n",
            "|   Indigo|      Delhi|       Evening| zero|        Night|          Mumbai|Economy|    2.17|        1|          0.1047|        2.0|            0.0|               2.0|      1.0|             0.0|                 0.0|      0.0| [2.0,0.0,2.0,1.0,0.0,0.0,0.0,2.17,1.0]|\n",
            "+---------+-----------+--------------+-----+-------------+----------------+-------+--------+---------+----------------+-----------+---------------+------------------+---------+----------------+--------------------+---------+---------------------------------------+\n",
            "only showing top 30 rows\n",
            "\n"
          ]
        }
      ],
      "source": [
        "assembler = VectorAssembler(inputCols=['airline_idx', 'source_city_idx', 'departure_time_idx', 'stops_idx', 'arrival_time_idx', 'destination_city_idx', 'class_idx','duration', 'days_left'], outputCol=\"features\")\n",
        "final_df = assembler.transform(final_df)\n",
        "final_df.show(30,truncate=50)"
      ]
    },
    {
      "cell_type": "code",
      "execution_count": null,
      "metadata": {
        "id": "4gQPhxtGzvgO",
        "outputId": "42e626ca-a217-4f7c-ce74-d92200ea902c"
      },
      "outputs": [
        {
          "name": "stdout",
          "output_type": "stream",
          "text": [
            "+---------------------------------------+----------------+\n",
            "|features                               |normalized_price|\n",
            "+---------------------------------------+----------------+\n",
            "|[5.0,0.0,2.0,1.0,0.0,0.0,0.0,2.17,1.0] |0.05953         |\n",
            "|[5.0,0.0,1.0,1.0,2.0,0.0,0.0,2.33,1.0] |0.05953         |\n",
            "|[4.0,0.0,1.0,1.0,4.0,0.0,0.0,2.17,1.0] |0.05956         |\n",
            "|(9,[3,4,7,8],[1.0,3.0,2.25,1.0])       |0.05955         |\n",
            "|(9,[3,4,7,8],[1.0,2.0,2.33,1.0])       |0.05955         |\n",
            "|(9,[3,4,7,8],[1.0,3.0,2.33,1.0])       |0.05955         |\n",
            "|(9,[3,4,7,8],[1.0,2.0,2.08,1.0])       |0.0606          |\n",
            "|[0.0,0.0,4.0,1.0,1.0,0.0,0.0,2.17,1.0] |0.0606          |\n",
            "|[3.0,0.0,1.0,1.0,2.0,0.0,0.0,2.17,1.0] |0.05954         |\n",
            "|[3.0,0.0,4.0,1.0,1.0,0.0,0.0,2.25,1.0] |0.05954         |\n",
            "|[3.0,0.0,4.0,1.0,1.0,0.0,0.0,2.25,1.0] |0.05954         |\n",
            "|[3.0,0.0,0.0,1.0,3.0,0.0,0.0,2.33,1.0] |0.05954         |\n",
            "|[2.0,0.0,1.0,1.0,2.0,0.0,0.0,2.17,1.0] |0.05955         |\n",
            "|[2.0,0.0,0.0,1.0,3.0,0.0,0.0,2.17,1.0] |0.05955         |\n",
            "|[2.0,0.0,4.0,1.0,1.0,0.0,0.0,2.25,1.0] |0.05955         |\n",
            "|[2.0,0.0,0.0,1.0,2.0,0.0,0.0,2.33,1.0] |0.05955         |\n",
            "|[1.0,0.0,1.0,1.0,2.0,0.0,0.0,2.08,1.0] |0.05955         |\n",
            "|[1.0,0.0,1.0,1.0,2.0,0.0,0.0,2.17,1.0] |0.05955         |\n",
            "|[4.0,0.0,2.0,0.0,4.0,0.0,0.0,12.25,1.0]|0.05949         |\n",
            "|[4.0,0.0,2.0,0.0,2.0,0.0,0.0,16.33,1.0]|0.05949         |\n",
            "+---------------------------------------+----------------+\n",
            "only showing top 20 rows\n",
            "\n"
          ]
        }
      ],
      "source": [
        "feature_vector_df = final_df.select(['features', 'normalized_price'])\n",
        "feature_vector_df.show(truncate=False)"
      ]
    },
    {
      "cell_type": "markdown",
      "metadata": {
        "id": "Z1vpDBjPzvgP"
      },
      "source": [
        "<h3> Regression Model"
      ]
    },
    {
      "cell_type": "code",
      "execution_count": null,
      "metadata": {
        "id": "97avOOBezvgP"
      },
      "outputs": [],
      "source": [
        "from pyspark.ml.evaluation import RegressionEvaluator"
      ]
    },
    {
      "cell_type": "code",
      "execution_count": null,
      "metadata": {
        "id": "waKoVsS1zvgP"
      },
      "outputs": [],
      "source": [
        "(trainData, testData) = feature_vector_df.randomSplit([0.8,0.2],seed = 2)"
      ]
    },
    {
      "cell_type": "markdown",
      "metadata": {
        "id": "8FHW_6CgzvgP"
      },
      "source": [
        "<h5> XGBoost"
      ]
    },
    {
      "cell_type": "code",
      "execution_count": null,
      "metadata": {
        "id": "sR6psOr1zvgP"
      },
      "outputs": [],
      "source": [
        "from pyspark.ml.regression import GBTRegressor\n",
        "\n"
      ]
    },
    {
      "cell_type": "markdown",
      "metadata": {
        "id": "IshUUWfEzvgP"
      },
      "source": [
        "<h5> Support Vector Regressor"
      ]
    },
    {
      "cell_type": "code",
      "execution_count": null,
      "metadata": {
        "id": "refwgalezvgQ"
      },
      "outputs": [],
      "source": [
        "from pyspark.ml.regression import  Linear"
      ]
    },
    {
      "cell_type": "markdown",
      "metadata": {
        "id": "HZCDrfRXzvgQ"
      },
      "source": [
        "<h5> Random Forest Regressor"
      ]
    },
    {
      "cell_type": "code",
      "execution_count": null,
      "metadata": {
        "id": "2nRKvMhhzvgQ"
      },
      "outputs": [],
      "source": [
        "from pyspark.ml.regression import RandomForestRegressor\n",
        "\n",
        "rf = RandomForestRegressor(featuresCol='features',labelCol='normalized_price').fit(trainData)\n",
        "prediction = rf.transform(testData)"
      ]
    },
    {
      "cell_type": "code",
      "execution_count": null,
      "metadata": {
        "id": "Fjw0KTaEzvgQ",
        "outputId": "a4a652ea-33e8-4800-c39e-ef60f7f530b6"
      },
      "outputs": [
        {
          "name": "stdout",
          "output_type": "stream",
          "text": [
            "+----------------------------------+----------------+-------------------+\n",
            "|                          features|normalized_price|         prediction|\n",
            "+----------------------------------+----------------+-------------------+\n",
            "| (9,[0,2,7,8],[1.0,1.0,13.25,6.0])|         0.14775|0.11882135735388208|\n",
            "|(9,[0,2,7,8],[1.0,1.0,13.25,16.0])|         0.07262|0.08125145672389493|\n",
            "|(9,[0,2,7,8],[1.0,1.0,13.25,28.0])|         0.05281|  0.080679872207448|\n",
            "|(9,[0,2,7,8],[1.0,1.0,13.25,31.0])|         0.06231|  0.080679872207448|\n",
            "|(9,[0,2,7,8],[1.0,1.0,13.25,34.0])|         0.06231|  0.080679872207448|\n",
            "|(9,[0,2,7,8],[1.0,1.0,13.25,37.0])|          0.0536|  0.080679872207448|\n",
            "|(9,[0,2,7,8],[1.0,1.0,13.25,42.0])|         0.04939|  0.080679872207448|\n",
            "|(9,[0,2,7,8],[1.0,1.0,13.25,43.0])|         0.05702|  0.080679872207448|\n",
            "|(9,[0,2,7,8],[1.0,1.0,13.67,47.0])|          0.0536|  0.080679872207448|\n",
            "| (9,[0,2,7,8],[1.0,1.0,14.92,6.0])|          0.1215|0.11882135735388208|\n",
            "+----------------------------------+----------------+-------------------+\n",
            "only showing top 10 rows\n",
            "\n"
          ]
        }
      ],
      "source": [
        "prediction.show(10, truncate=50)"
      ]
    },
    {
      "cell_type": "code",
      "execution_count": null,
      "metadata": {
        "id": "G65YaQlPzvgQ",
        "outputId": "697431c6-7ab3-4b7c-dd86-64883c7fa14b"
      },
      "outputs": [
        {
          "name": "stdout",
          "output_type": "stream",
          "text": [
            "Root Mean Square of Random Forest model is 0.0601662\n"
          ]
        }
      ],
      "source": [
        "evaluator = RegressionEvaluator(labelCol='normalized_price', predictionCol='prediction', metricName='rmse')\n",
        "rmse = evaluator.evaluate(prediction)\n",
        "print (\"Root Mean Square of Random Forest model is %g\"%rmse)"
      ]
    },
    {
      "cell_type": "markdown",
      "metadata": {
        "id": "modtosQCzvgQ"
      },
      "source": [
        "<h3> Error"
      ]
    },
    {
      "cell_type": "code",
      "execution_count": null,
      "metadata": {
        "id": "irLZd9-jzvgQ"
      },
      "outputs": [],
      "source": [
        "\n",
        "# from pyspark.mllib.evaluation import MulticlassMetrics"
      ]
    },
    {
      "cell_type": "code",
      "execution_count": null,
      "metadata": {
        "id": "NeGQjVWLzvgR"
      },
      "outputs": [],
      "source": []
    },
    {
      "cell_type": "code",
      "execution_count": null,
      "metadata": {
        "id": "GjZ6P65KzvgR",
        "outputId": "3f57fca1-4a7e-483f-9e61-91d65cdd1fb2"
      },
      "outputs": [
        {
          "data": {
            "text/plain": [
              "<bound method SparkSession.stop of <pyspark.sql.session.SparkSession object at 0x00000220DB3C98D0>>"
            ]
          },
          "execution_count": 18,
          "metadata": {},
          "output_type": "execute_result"
        }
      ],
      "source": [
        "spark.stop"
      ]
    }
  ],
  "metadata": {
    "kernelspec": {
      "display_name": "Dsci",
      "language": "python",
      "name": "kuliah"
    },
    "language_info": {
      "codemirror_mode": {
        "name": "ipython",
        "version": 3
      },
      "file_extension": ".py",
      "mimetype": "text/x-python",
      "name": "python",
      "nbconvert_exporter": "python",
      "pygments_lexer": "ipython3",
      "version": "3.11.8"
    },
    "colab": {
      "provenance": [],
      "include_colab_link": true
    }
  },
  "nbformat": 4,
  "nbformat_minor": 0
}