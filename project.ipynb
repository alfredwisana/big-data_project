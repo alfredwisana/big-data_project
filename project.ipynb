{
 "cells": [
  {
   "cell_type": "code",
   "execution_count": 1,
   "metadata": {},
   "outputs": [],
   "source": [
    "from pyspark.sql import SparkSession\n",
    "\n",
    "spark = SparkSession.builder.appName('local[2]').appName('myApp').getOrCreate()\n",
    "import matplotlib.pyplot as plt\n",
    "import seaborn"
   ]
  },
  {
   "cell_type": "code",
   "execution_count": 3,
   "metadata": {},
   "outputs": [
    {
     "name": "stdout",
     "output_type": "stream",
     "text": [
      "+---+---------+-------+-----------+--------------+-----+-------------+----------------+-------+--------+---------+-----+\n",
      "|_c0|  airline| flight|source_city|departure_time|stops| arrival_time|destination_city|  class|duration|days_left|price|\n",
      "+---+---------+-------+-----------+--------------+-----+-------------+----------------+-------+--------+---------+-----+\n",
      "|  0| SpiceJet|SG-8709|      Delhi|       Evening| zero|        Night|          Mumbai|Economy|    2.17|        1| 5953|\n",
      "|  1| SpiceJet|SG-8157|      Delhi| Early_Morning| zero|      Morning|          Mumbai|Economy|    2.33|        1| 5953|\n",
      "|  2|  AirAsia| I5-764|      Delhi| Early_Morning| zero|Early_Morning|          Mumbai|Economy|    2.17|        1| 5956|\n",
      "|  3|  Vistara| UK-995|      Delhi|       Morning| zero|    Afternoon|          Mumbai|Economy|    2.25|        1| 5955|\n",
      "|  4|  Vistara| UK-963|      Delhi|       Morning| zero|      Morning|          Mumbai|Economy|    2.33|        1| 5955|\n",
      "|  5|  Vistara| UK-945|      Delhi|       Morning| zero|    Afternoon|          Mumbai|Economy|    2.33|        1| 5955|\n",
      "|  6|  Vistara| UK-927|      Delhi|       Morning| zero|      Morning|          Mumbai|Economy|    2.08|        1| 6060|\n",
      "|  7|  Vistara| UK-951|      Delhi|     Afternoon| zero|      Evening|          Mumbai|Economy|    2.17|        1| 6060|\n",
      "|  8| GO_FIRST| G8-334|      Delhi| Early_Morning| zero|      Morning|          Mumbai|Economy|    2.17|        1| 5954|\n",
      "|  9| GO_FIRST| G8-336|      Delhi|     Afternoon| zero|      Evening|          Mumbai|Economy|    2.25|        1| 5954|\n",
      "| 10| GO_FIRST| G8-392|      Delhi|     Afternoon| zero|      Evening|          Mumbai|Economy|    2.25|        1| 5954|\n",
      "| 11| GO_FIRST| G8-338|      Delhi|       Morning| zero|    Afternoon|          Mumbai|Economy|    2.33|        1| 5954|\n",
      "| 12|   Indigo|6E-5001|      Delhi| Early_Morning| zero|      Morning|          Mumbai|Economy|    2.17|        1| 5955|\n",
      "| 13|   Indigo|6E-6202|      Delhi|       Morning| zero|    Afternoon|          Mumbai|Economy|    2.17|        1| 5955|\n",
      "| 14|   Indigo| 6E-549|      Delhi|     Afternoon| zero|      Evening|          Mumbai|Economy|    2.25|        1| 5955|\n",
      "| 15|   Indigo|6E-6278|      Delhi|       Morning| zero|      Morning|          Mumbai|Economy|    2.33|        1| 5955|\n",
      "| 16|Air_India| AI-887|      Delhi| Early_Morning| zero|      Morning|          Mumbai|Economy|    2.08|        1| 5955|\n",
      "| 17|Air_India| AI-665|      Delhi| Early_Morning| zero|      Morning|          Mumbai|Economy|    2.17|        1| 5955|\n",
      "| 18|  AirAsia| I5-747|      Delhi|       Evening|  one|Early_Morning|          Mumbai|Economy|   12.25|        1| 5949|\n",
      "| 19|  AirAsia| I5-747|      Delhi|       Evening|  one|      Morning|          Mumbai|Economy|   16.33|        1| 5949|\n",
      "| 20| GO_FIRST| G8-266|      Delhi| Early_Morning|  one|      Evening|          Mumbai|Economy|   11.75|        1| 5954|\n",
      "| 21| GO_FIRST| G8-101|      Delhi| Early_Morning|  one|        Night|          Mumbai|Economy|    14.5|        1| 5954|\n",
      "| 22| GO_FIRST| G8-103|      Delhi|       Evening|  one|      Morning|          Mumbai|Economy|   15.67|        1| 5954|\n",
      "| 23|Air_India| AI-441|      Delhi|       Evening|  one|        Night|          Mumbai|Economy|    3.75|        1| 5955|\n",
      "| 24|   Indigo|6E-5328|      Delhi|       Morning| zero|      Morning|          Mumbai|Economy|     2.5|        1| 6165|\n",
      "| 25|  Vistara| UK-933|      Delhi|     Afternoon| zero|      Evening|          Mumbai|Economy|    2.17|        1| 6690|\n",
      "| 26|   Indigo|6E-2046|      Delhi|       Evening| zero|      Evening|          Mumbai|Economy|    2.17|        1| 6585|\n",
      "| 27|  AirAsia| I5-744|      Delhi|       Morning|  one|    Afternoon|          Mumbai|Economy|    5.83|        1| 8869|\n",
      "| 28| SpiceJet|SG-8169|      Delhi|       Evening| zero|        Night|          Mumbai|Economy|    2.33|        1|10260|\n",
      "| 29|   Indigo|6E-5041|      Delhi|       Evening| zero|        Night|          Mumbai|Economy|    2.17|        1|10470|\n",
      "+---+---------+-------+-----------+--------------+-----+-------------+----------------+-------+--------+---------+-----+\n",
      "only showing top 30 rows\n",
      "\n"
     ]
    }
   ],
   "source": [
    "# Read the CSV file containing Titanic dataset into Spark's DataFrame and show it\n",
    "\n",
    "df = spark.read.format('csv').options(header=True, inferSchema=True).load('Clean_Dataset.csv')\n",
    "df.show(30,truncate=50)\n"
   ]
  },
  {
   "cell_type": "code",
   "execution_count": 4,
   "metadata": {},
   "outputs": [
    {
     "name": "stdout",
     "output_type": "stream",
     "text": [
      "root\n",
      " |-- _c0: integer (nullable = true)\n",
      " |-- airline: string (nullable = true)\n",
      " |-- flight: string (nullable = true)\n",
      " |-- source_city: string (nullable = true)\n",
      " |-- departure_time: string (nullable = true)\n",
      " |-- stops: string (nullable = true)\n",
      " |-- arrival_time: string (nullable = true)\n",
      " |-- destination_city: string (nullable = true)\n",
      " |-- class: string (nullable = true)\n",
      " |-- duration: double (nullable = true)\n",
      " |-- days_left: integer (nullable = true)\n",
      " |-- price: integer (nullable = true)\n",
      "\n"
     ]
    }
   ],
   "source": [
    "# Try to print the schema\n",
    "\n",
    "df.printSchema()"
   ]
  },
  {
   "cell_type": "code",
   "execution_count": 6,
   "metadata": {},
   "outputs": [],
   "source": [
    "from pyspark.sql.types import *\n",
    "from pyspark.sql.functions import *"
   ]
  },
  {
   "cell_type": "code",
   "execution_count": 7,
   "metadata": {},
   "outputs": [
    {
     "name": "stdout",
     "output_type": "stream",
     "text": [
      "+---+-------+------+-----------+--------------+-----+------------+----------------+-----+--------+---------+-----+\n",
      "|_c0|airline|flight|source_city|departure_time|stops|arrival_time|destination_city|class|duration|days_left|price|\n",
      "+---+-------+------+-----------+--------------+-----+------------+----------------+-----+--------+---------+-----+\n",
      "|  0|      0|     0|          0|             0|    0|           0|               0|    0|       0|        0|    0|\n",
      "+---+-------+------+-----------+--------------+-----+------------+----------------+-----+--------+---------+-----+\n",
      "\n"
     ]
    }
   ],
   "source": [
    "df.select([count(when(isnan(c) | isnull(c),1)).alias(c) for c in df.columns]).show()"
   ]
  },
  {
   "cell_type": "markdown",
   "metadata": {},
   "source": [
    "<h1>Data Preprocessing"
   ]
  },
  {
   "cell_type": "markdown",
   "metadata": {},
   "source": [
    "<h3> Regression Model"
   ]
  },
  {
   "cell_type": "markdown",
   "metadata": {},
   "source": [
    "<h5> XGBoost"
   ]
  },
  {
   "cell_type": "markdown",
   "metadata": {},
   "source": [
    "<h5> Support Vector Regressor"
   ]
  },
  {
   "cell_type": "markdown",
   "metadata": {},
   "source": [
    "<h5> Random Forest Regressor"
   ]
  },
  {
   "cell_type": "markdown",
   "metadata": {},
   "source": [
    "<h3> Error"
   ]
  },
  {
   "cell_type": "code",
   "execution_count": null,
   "metadata": {},
   "outputs": [],
   "source": []
  }
 ],
 "metadata": {
  "kernelspec": {
   "display_name": "Dsci",
   "language": "python",
   "name": "kuliah"
  },
  "language_info": {
   "codemirror_mode": {
    "name": "ipython",
    "version": 3
   },
   "file_extension": ".py",
   "mimetype": "text/x-python",
   "name": "python",
   "nbconvert_exporter": "python",
   "pygments_lexer": "ipython3",
   "version": "3.11.8"
  }
 },
 "nbformat": 4,
 "nbformat_minor": 2
}
