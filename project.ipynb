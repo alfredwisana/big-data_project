{
 "cells": [
  {
   "cell_type": "markdown",
   "metadata": {
    "colab_type": "text",
    "id": "view-in-github"
   },
   "source": [
    "<a href=\"https://colab.research.google.com/github/alfredwisana/big-data_project/blob/main/project.ipynb\" target=\"_parent\"><img src=\"https://colab.research.google.com/assets/colab-badge.svg\" alt=\"Open In Colab\"/></a>"
   ]
  },
  {
   "cell_type": "code",
   "execution_count": 1,
   "metadata": {
    "id": "CIgA6eSIzvf8"
   },
   "outputs": [],
   "source": [
    "from pyspark.sql import SparkSession\n",
    "\n",
    "spark = SparkSession.builder.appName('local[*]').appName('myApp').getOrCreate()\n",
    "import matplotlib.pyplot as plt\n",
    "import seaborn"
   ]
  },
  {
   "cell_type": "code",
   "execution_count": 2,
   "metadata": {
    "id": "tU7KPimfzvf-",
    "outputId": "5cacbca3-6f6f-46c8-c928-35ca98833b17"
   },
   "outputs": [
    {
     "name": "stdout",
     "output_type": "stream",
     "text": [
      "+---+---------+-------+-----------+--------------+-----+-------------+----------------+-------+--------+---------+-----+\n",
      "|_c0|  airline| flight|source_city|departure_time|stops| arrival_time|destination_city|  class|duration|days_left|price|\n",
      "+---+---------+-------+-----------+--------------+-----+-------------+----------------+-------+--------+---------+-----+\n",
      "|  0| SpiceJet|SG-8709|      Delhi|       Evening| zero|        Night|          Mumbai|Economy|    2.17|        1| 5953|\n",
      "|  1| SpiceJet|SG-8157|      Delhi| Early_Morning| zero|      Morning|          Mumbai|Economy|    2.33|        1| 5953|\n",
      "|  2|  AirAsia| I5-764|      Delhi| Early_Morning| zero|Early_Morning|          Mumbai|Economy|    2.17|        1| 5956|\n",
      "|  3|  Vistara| UK-995|      Delhi|       Morning| zero|    Afternoon|          Mumbai|Economy|    2.25|        1| 5955|\n",
      "|  4|  Vistara| UK-963|      Delhi|       Morning| zero|      Morning|          Mumbai|Economy|    2.33|        1| 5955|\n",
      "|  5|  Vistara| UK-945|      Delhi|       Morning| zero|    Afternoon|          Mumbai|Economy|    2.33|        1| 5955|\n",
      "|  6|  Vistara| UK-927|      Delhi|       Morning| zero|      Morning|          Mumbai|Economy|    2.08|        1| 6060|\n",
      "|  7|  Vistara| UK-951|      Delhi|     Afternoon| zero|      Evening|          Mumbai|Economy|    2.17|        1| 6060|\n",
      "|  8| GO_FIRST| G8-334|      Delhi| Early_Morning| zero|      Morning|          Mumbai|Economy|    2.17|        1| 5954|\n",
      "|  9| GO_FIRST| G8-336|      Delhi|     Afternoon| zero|      Evening|          Mumbai|Economy|    2.25|        1| 5954|\n",
      "| 10| GO_FIRST| G8-392|      Delhi|     Afternoon| zero|      Evening|          Mumbai|Economy|    2.25|        1| 5954|\n",
      "| 11| GO_FIRST| G8-338|      Delhi|       Morning| zero|    Afternoon|          Mumbai|Economy|    2.33|        1| 5954|\n",
      "| 12|   Indigo|6E-5001|      Delhi| Early_Morning| zero|      Morning|          Mumbai|Economy|    2.17|        1| 5955|\n",
      "| 13|   Indigo|6E-6202|      Delhi|       Morning| zero|    Afternoon|          Mumbai|Economy|    2.17|        1| 5955|\n",
      "| 14|   Indigo| 6E-549|      Delhi|     Afternoon| zero|      Evening|          Mumbai|Economy|    2.25|        1| 5955|\n",
      "| 15|   Indigo|6E-6278|      Delhi|       Morning| zero|      Morning|          Mumbai|Economy|    2.33|        1| 5955|\n",
      "| 16|Air_India| AI-887|      Delhi| Early_Morning| zero|      Morning|          Mumbai|Economy|    2.08|        1| 5955|\n",
      "| 17|Air_India| AI-665|      Delhi| Early_Morning| zero|      Morning|          Mumbai|Economy|    2.17|        1| 5955|\n",
      "| 18|  AirAsia| I5-747|      Delhi|       Evening|  one|Early_Morning|          Mumbai|Economy|   12.25|        1| 5949|\n",
      "| 19|  AirAsia| I5-747|      Delhi|       Evening|  one|      Morning|          Mumbai|Economy|   16.33|        1| 5949|\n",
      "| 20| GO_FIRST| G8-266|      Delhi| Early_Morning|  one|      Evening|          Mumbai|Economy|   11.75|        1| 5954|\n",
      "| 21| GO_FIRST| G8-101|      Delhi| Early_Morning|  one|        Night|          Mumbai|Economy|    14.5|        1| 5954|\n",
      "| 22| GO_FIRST| G8-103|      Delhi|       Evening|  one|      Morning|          Mumbai|Economy|   15.67|        1| 5954|\n",
      "| 23|Air_India| AI-441|      Delhi|       Evening|  one|        Night|          Mumbai|Economy|    3.75|        1| 5955|\n",
      "| 24|   Indigo|6E-5328|      Delhi|       Morning| zero|      Morning|          Mumbai|Economy|     2.5|        1| 6165|\n",
      "| 25|  Vistara| UK-933|      Delhi|     Afternoon| zero|      Evening|          Mumbai|Economy|    2.17|        1| 6690|\n",
      "| 26|   Indigo|6E-2046|      Delhi|       Evening| zero|      Evening|          Mumbai|Economy|    2.17|        1| 6585|\n",
      "| 27|  AirAsia| I5-744|      Delhi|       Morning|  one|    Afternoon|          Mumbai|Economy|    5.83|        1| 8869|\n",
      "| 28| SpiceJet|SG-8169|      Delhi|       Evening| zero|        Night|          Mumbai|Economy|    2.33|        1|10260|\n",
      "| 29|   Indigo|6E-5041|      Delhi|       Evening| zero|        Night|          Mumbai|Economy|    2.17|        1|10470|\n",
      "+---+---------+-------+-----------+--------------+-----+-------------+----------------+-------+--------+---------+-----+\n",
      "only showing top 30 rows\n",
      "\n"
     ]
    }
   ],
   "source": [
    "# Read the CSV file containing Titanic dataset into Spark's DataFrame and show it\n",
    "\n",
    "df = spark.read.format('csv').options(header=True, inferSchema=True).load('Clean_Dataset.csv')\n",
    "df.show(30,truncate=50)"
   ]
  },
  {
   "cell_type": "code",
   "execution_count": 3,
   "metadata": {
    "id": "AV5iSoPuzvgA",
    "outputId": "04fb5f3e-8ac3-44f9-94d4-0c7e5d062eea"
   },
   "outputs": [
    {
     "name": "stdout",
     "output_type": "stream",
     "text": [
      "root\n",
      " |-- _c0: integer (nullable = true)\n",
      " |-- airline: string (nullable = true)\n",
      " |-- flight: string (nullable = true)\n",
      " |-- source_city: string (nullable = true)\n",
      " |-- departure_time: string (nullable = true)\n",
      " |-- stops: string (nullable = true)\n",
      " |-- arrival_time: string (nullable = true)\n",
      " |-- destination_city: string (nullable = true)\n",
      " |-- class: string (nullable = true)\n",
      " |-- duration: double (nullable = true)\n",
      " |-- days_left: integer (nullable = true)\n",
      " |-- price: integer (nullable = true)\n",
      "\n"
     ]
    }
   ],
   "source": [
    "# Try to print the schema\n",
    "\n",
    "df.printSchema()"
   ]
  },
  {
   "cell_type": "code",
   "execution_count": 3,
   "metadata": {
    "id": "Th55St5AzvgB"
   },
   "outputs": [],
   "source": [
    "from pyspark.sql.types import *\n",
    "from pyspark.sql.functions import *"
   ]
  },
  {
   "cell_type": "code",
   "execution_count": 5,
   "metadata": {
    "id": "tSSBLiv_zvgC",
    "outputId": "d0925270-69ca-4f55-da82-c9e83674c0e4"
   },
   "outputs": [
    {
     "name": "stdout",
     "output_type": "stream",
     "text": [
      "+---+-------+------+-----------+--------------+-----+------------+----------------+-----+--------+---------+-----+\n",
      "|_c0|airline|flight|source_city|departure_time|stops|arrival_time|destination_city|class|duration|days_left|price|\n",
      "+---+-------+------+-----------+--------------+-----+------------+----------------+-----+--------+---------+-----+\n",
      "|  0|      0|     0|          0|             0|    0|           0|               0|    0|       0|        0|    0|\n",
      "+---+-------+------+-----------+--------------+-----+------------+----------------+-----+--------+---------+-----+\n",
      "\n"
     ]
    }
   ],
   "source": [
    "df.select([count(when(isnan(c) | isnull(c),1)).alias(c) for c in df.columns]).show()"
   ]
  },
  {
   "cell_type": "markdown",
   "metadata": {
    "id": "oCF2MlhpzvgC"
   },
   "source": [
    "<h1>Data Preprocessing"
   ]
  },
  {
   "cell_type": "code",
   "execution_count": 4,
   "metadata": {
    "id": "2O_9VhpAzvgE"
   },
   "outputs": [],
   "source": [
    "from pyspark.ml.feature import Normalizer,VectorAssembler, StringIndexer\n",
    "from pyspark.ml import Pipeline"
   ]
  },
  {
   "cell_type": "code",
   "execution_count": 5,
   "metadata": {
    "id": "vw7DcHiwzvgF"
   },
   "outputs": [],
   "source": [
    "from pyspark.sql.functions import col, max as spark_max, abs as spark_abs\n",
    "\n",
    "max_abs_value = df.select(spark_max(spark_abs(col(\"price\"))).alias(\"max_abs_value\")).collect()[0][\"max_abs_value\"]\n"
   ]
  },
  {
   "cell_type": "code",
   "execution_count": 6,
   "metadata": {
    "id": "4hKKVEK-zvgG",
    "outputId": "025e870b-b84b-478f-e65d-30b6d01a7316"
   },
   "outputs": [
    {
     "name": "stdout",
     "output_type": "stream",
     "text": [
      "123071\n"
     ]
    },
    {
     "data": {
      "text/plain": [
       "6"
      ]
     },
     "execution_count": 6,
     "metadata": {},
     "output_type": "execute_result"
    }
   ],
   "source": [
    "print(max_abs_value)\n",
    "len(str(int(max_abs_value)))"
   ]
  },
  {
   "cell_type": "code",
   "execution_count": 7,
   "metadata": {
    "id": "radlP9JZzvgH",
    "outputId": "0ccb8a69-3d3d-49d7-db53-44edfff5d039"
   },
   "outputs": [
    {
     "name": "stdout",
     "output_type": "stream",
     "text": [
      "+---+---------+-------+-----------+--------------+-----+-------------+----------------+-------+--------+---------+-----+----------------+\n",
      "|_c0|  airline| flight|source_city|departure_time|stops| arrival_time|destination_city|  class|duration|days_left|price|normalized_price|\n",
      "+---+---------+-------+-----------+--------------+-----+-------------+----------------+-------+--------+---------+-----+----------------+\n",
      "|  0| SpiceJet|SG-8709|      Delhi|       Evening| zero|        Night|          Mumbai|Economy|    2.17|        1| 5953|         0.05953|\n",
      "|  1| SpiceJet|SG-8157|      Delhi| Early_Morning| zero|      Morning|          Mumbai|Economy|    2.33|        1| 5953|         0.05953|\n",
      "|  2|  AirAsia| I5-764|      Delhi| Early_Morning| zero|Early_Morning|          Mumbai|Economy|    2.17|        1| 5956|         0.05956|\n",
      "|  3|  Vistara| UK-995|      Delhi|       Morning| zero|    Afternoon|          Mumbai|Economy|    2.25|        1| 5955|         0.05955|\n",
      "|  4|  Vistara| UK-963|      Delhi|       Morning| zero|      Morning|          Mumbai|Economy|    2.33|        1| 5955|         0.05955|\n",
      "|  5|  Vistara| UK-945|      Delhi|       Morning| zero|    Afternoon|          Mumbai|Economy|    2.33|        1| 5955|         0.05955|\n",
      "|  6|  Vistara| UK-927|      Delhi|       Morning| zero|      Morning|          Mumbai|Economy|    2.08|        1| 6060|          0.0606|\n",
      "|  7|  Vistara| UK-951|      Delhi|     Afternoon| zero|      Evening|          Mumbai|Economy|    2.17|        1| 6060|          0.0606|\n",
      "|  8| GO_FIRST| G8-334|      Delhi| Early_Morning| zero|      Morning|          Mumbai|Economy|    2.17|        1| 5954|         0.05954|\n",
      "|  9| GO_FIRST| G8-336|      Delhi|     Afternoon| zero|      Evening|          Mumbai|Economy|    2.25|        1| 5954|         0.05954|\n",
      "| 10| GO_FIRST| G8-392|      Delhi|     Afternoon| zero|      Evening|          Mumbai|Economy|    2.25|        1| 5954|         0.05954|\n",
      "| 11| GO_FIRST| G8-338|      Delhi|       Morning| zero|    Afternoon|          Mumbai|Economy|    2.33|        1| 5954|         0.05954|\n",
      "| 12|   Indigo|6E-5001|      Delhi| Early_Morning| zero|      Morning|          Mumbai|Economy|    2.17|        1| 5955|         0.05955|\n",
      "| 13|   Indigo|6E-6202|      Delhi|       Morning| zero|    Afternoon|          Mumbai|Economy|    2.17|        1| 5955|         0.05955|\n",
      "| 14|   Indigo| 6E-549|      Delhi|     Afternoon| zero|      Evening|          Mumbai|Economy|    2.25|        1| 5955|         0.05955|\n",
      "| 15|   Indigo|6E-6278|      Delhi|       Morning| zero|      Morning|          Mumbai|Economy|    2.33|        1| 5955|         0.05955|\n",
      "| 16|Air_India| AI-887|      Delhi| Early_Morning| zero|      Morning|          Mumbai|Economy|    2.08|        1| 5955|         0.05955|\n",
      "| 17|Air_India| AI-665|      Delhi| Early_Morning| zero|      Morning|          Mumbai|Economy|    2.17|        1| 5955|         0.05955|\n",
      "| 18|  AirAsia| I5-747|      Delhi|       Evening|  one|Early_Morning|          Mumbai|Economy|   12.25|        1| 5949|         0.05949|\n",
      "| 19|  AirAsia| I5-747|      Delhi|       Evening|  one|      Morning|          Mumbai|Economy|   16.33|        1| 5949|         0.05949|\n",
      "| 20| GO_FIRST| G8-266|      Delhi| Early_Morning|  one|      Evening|          Mumbai|Economy|   11.75|        1| 5954|         0.05954|\n",
      "| 21| GO_FIRST| G8-101|      Delhi| Early_Morning|  one|        Night|          Mumbai|Economy|    14.5|        1| 5954|         0.05954|\n",
      "| 22| GO_FIRST| G8-103|      Delhi|       Evening|  one|      Morning|          Mumbai|Economy|   15.67|        1| 5954|         0.05954|\n",
      "| 23|Air_India| AI-441|      Delhi|       Evening|  one|        Night|          Mumbai|Economy|    3.75|        1| 5955|         0.05955|\n",
      "| 24|   Indigo|6E-5328|      Delhi|       Morning| zero|      Morning|          Mumbai|Economy|     2.5|        1| 6165|         0.06165|\n",
      "| 25|  Vistara| UK-933|      Delhi|     Afternoon| zero|      Evening|          Mumbai|Economy|    2.17|        1| 6690|          0.0669|\n",
      "| 26|   Indigo|6E-2046|      Delhi|       Evening| zero|      Evening|          Mumbai|Economy|    2.17|        1| 6585|         0.06585|\n",
      "| 27|  AirAsia| I5-744|      Delhi|       Morning|  one|    Afternoon|          Mumbai|Economy|    5.83|        1| 8869|         0.08869|\n",
      "| 28| SpiceJet|SG-8169|      Delhi|       Evening| zero|        Night|          Mumbai|Economy|    2.33|        1|10260|          0.1026|\n",
      "| 29|   Indigo|6E-5041|      Delhi|       Evening| zero|        Night|          Mumbai|Economy|    2.17|        1|10470|          0.1047|\n",
      "+---+---------+-------+-----------+--------------+-----+-------------+----------------+-------+--------+---------+-----+----------------+\n",
      "only showing top 30 rows\n",
      "\n"
     ]
    }
   ],
   "source": [
    "scaling_factor = 10 ** (len(str(int(max_abs_value)))-1)\n",
    "df = df.withColumn(\"normalized_price\", col(\"price\") / scaling_factor)\n",
    "df.show(30,truncate=50)"
   ]
  },
  {
   "cell_type": "code",
   "execution_count": 48,
   "metadata": {
    "id": "WU4b4AoDzvgJ"
   },
   "outputs": [],
   "source": [
    "column_name = df.columns"
   ]
  },
  {
   "cell_type": "code",
   "execution_count": 50,
   "metadata": {},
   "outputs": [
    {
     "name": "stdout",
     "output_type": "stream",
     "text": [
      "['_c0', 'airline', 'flight', 'source_city', 'departure_time', 'stops', 'arrival_time', 'destination_city', 'class', 'duration', 'days_left', 'price', 'normalized_price']\n"
     ]
    }
   ],
   "source": [
    "print(column_name)"
   ]
  },
  {
   "cell_type": "code",
   "execution_count": 9,
   "metadata": {
    "id": "XCBJ0fZRzvgN",
    "outputId": "730e48b3-a2e3-430b-b533-32451adca987"
   },
   "outputs": [
    {
     "name": "stdout",
     "output_type": "stream",
     "text": [
      "['airline', 'source_city', 'departure_time', 'stops', 'arrival_time', 'destination_city', 'class', 'duration', 'days_left', 'normalized_price']\n"
     ]
    }
   ],
   "source": [
    "column_name.remove('_c0')\n",
    "column_name.remove('price')\n",
    "column_name.remove('flight')\n",
    "print(column_name)"
   ]
  },
  {
   "cell_type": "code",
   "execution_count": 27,
   "metadata": {
    "id": "wSvD6j9AzvgO",
    "outputId": "61fb97e0-511a-4597-c1af-7b8be44066d0"
   },
   "outputs": [
    {
     "name": "stdout",
     "output_type": "stream",
     "text": [
      "+---------+-----------+--------------+-----+-------------+----------------+-------+--------+---------+----------------+-----------+---------------+------------------+---------+----------------+--------------------+---------+\n",
      "|  airline|source_city|departure_time|stops| arrival_time|destination_city|  class|duration|days_left|normalized_price|airline_idx|source_city_idx|departure_time_idx|stops_idx|arrival_time_idx|destination_city_idx|class_idx|\n",
      "+---------+-----------+--------------+-----+-------------+----------------+-------+--------+---------+----------------+-----------+---------------+------------------+---------+----------------+--------------------+---------+\n",
      "| SpiceJet|      Delhi|       Evening| zero|        Night|          Mumbai|Economy|    2.17|        1|         0.05953|        5.0|            0.0|               2.0|      1.0|             0.0|                 0.0|      0.0|\n",
      "| SpiceJet|      Delhi| Early_Morning| zero|      Morning|          Mumbai|Economy|    2.33|        1|         0.05953|        5.0|            0.0|               1.0|      1.0|             2.0|                 0.0|      0.0|\n",
      "|  AirAsia|      Delhi| Early_Morning| zero|Early_Morning|          Mumbai|Economy|    2.17|        1|         0.05956|        4.0|            0.0|               1.0|      1.0|             4.0|                 0.0|      0.0|\n",
      "|  Vistara|      Delhi|       Morning| zero|    Afternoon|          Mumbai|Economy|    2.25|        1|         0.05955|        0.0|            0.0|               0.0|      1.0|             3.0|                 0.0|      0.0|\n",
      "|  Vistara|      Delhi|       Morning| zero|      Morning|          Mumbai|Economy|    2.33|        1|         0.05955|        0.0|            0.0|               0.0|      1.0|             2.0|                 0.0|      0.0|\n",
      "|  Vistara|      Delhi|       Morning| zero|    Afternoon|          Mumbai|Economy|    2.33|        1|         0.05955|        0.0|            0.0|               0.0|      1.0|             3.0|                 0.0|      0.0|\n",
      "|  Vistara|      Delhi|       Morning| zero|      Morning|          Mumbai|Economy|    2.08|        1|          0.0606|        0.0|            0.0|               0.0|      1.0|             2.0|                 0.0|      0.0|\n",
      "|  Vistara|      Delhi|     Afternoon| zero|      Evening|          Mumbai|Economy|    2.17|        1|          0.0606|        0.0|            0.0|               4.0|      1.0|             1.0|                 0.0|      0.0|\n",
      "| GO_FIRST|      Delhi| Early_Morning| zero|      Morning|          Mumbai|Economy|    2.17|        1|         0.05954|        3.0|            0.0|               1.0|      1.0|             2.0|                 0.0|      0.0|\n",
      "| GO_FIRST|      Delhi|     Afternoon| zero|      Evening|          Mumbai|Economy|    2.25|        1|         0.05954|        3.0|            0.0|               4.0|      1.0|             1.0|                 0.0|      0.0|\n",
      "| GO_FIRST|      Delhi|     Afternoon| zero|      Evening|          Mumbai|Economy|    2.25|        1|         0.05954|        3.0|            0.0|               4.0|      1.0|             1.0|                 0.0|      0.0|\n",
      "| GO_FIRST|      Delhi|       Morning| zero|    Afternoon|          Mumbai|Economy|    2.33|        1|         0.05954|        3.0|            0.0|               0.0|      1.0|             3.0|                 0.0|      0.0|\n",
      "|   Indigo|      Delhi| Early_Morning| zero|      Morning|          Mumbai|Economy|    2.17|        1|         0.05955|        2.0|            0.0|               1.0|      1.0|             2.0|                 0.0|      0.0|\n",
      "|   Indigo|      Delhi|       Morning| zero|    Afternoon|          Mumbai|Economy|    2.17|        1|         0.05955|        2.0|            0.0|               0.0|      1.0|             3.0|                 0.0|      0.0|\n",
      "|   Indigo|      Delhi|     Afternoon| zero|      Evening|          Mumbai|Economy|    2.25|        1|         0.05955|        2.0|            0.0|               4.0|      1.0|             1.0|                 0.0|      0.0|\n",
      "|   Indigo|      Delhi|       Morning| zero|      Morning|          Mumbai|Economy|    2.33|        1|         0.05955|        2.0|            0.0|               0.0|      1.0|             2.0|                 0.0|      0.0|\n",
      "|Air_India|      Delhi| Early_Morning| zero|      Morning|          Mumbai|Economy|    2.08|        1|         0.05955|        1.0|            0.0|               1.0|      1.0|             2.0|                 0.0|      0.0|\n",
      "|Air_India|      Delhi| Early_Morning| zero|      Morning|          Mumbai|Economy|    2.17|        1|         0.05955|        1.0|            0.0|               1.0|      1.0|             2.0|                 0.0|      0.0|\n",
      "|  AirAsia|      Delhi|       Evening|  one|Early_Morning|          Mumbai|Economy|   12.25|        1|         0.05949|        4.0|            0.0|               2.0|      0.0|             4.0|                 0.0|      0.0|\n",
      "|  AirAsia|      Delhi|       Evening|  one|      Morning|          Mumbai|Economy|   16.33|        1|         0.05949|        4.0|            0.0|               2.0|      0.0|             2.0|                 0.0|      0.0|\n",
      "+---------+-----------+--------------+-----+-------------+----------------+-------+--------+---------+----------------+-----------+---------------+------------------+---------+----------------+--------------------+---------+\n",
      "only showing top 20 rows\n",
      "\n"
     ]
    }
   ],
   "source": [
    "final_df = df.select(column_name)\n",
    "\n",
    "\n",
    "indexers = [StringIndexer(inputCol=col, outputCol=col+'_idx').fit(final_df) for col in ['airline','source_city','departure_time', 'stops', 'arrival_time', 'destination_city','class']]\n",
    "pipeline = Pipeline(stages=indexers)\n",
    "final_df = pipeline.fit(final_df).transform(final_df)\n",
    "final_df.show()"
   ]
  },
  {
   "cell_type": "code",
   "execution_count": 28,
   "metadata": {
    "id": "HBwkNpQ3zvgO",
    "outputId": "62b7def0-2d66-497e-d3f3-8a00e9367f05"
   },
   "outputs": [
    {
     "name": "stdout",
     "output_type": "stream",
     "text": [
      "+---------+-----------+--------------+-----+-------------+----------------+-------+--------+---------+----------------+-----------+---------------+------------------+---------+----------------+--------------------+---------+---------------------------------------+\n",
      "|  airline|source_city|departure_time|stops| arrival_time|destination_city|  class|duration|days_left|normalized_price|airline_idx|source_city_idx|departure_time_idx|stops_idx|arrival_time_idx|destination_city_idx|class_idx|                               features|\n",
      "+---------+-----------+--------------+-----+-------------+----------------+-------+--------+---------+----------------+-----------+---------------+------------------+---------+----------------+--------------------+---------+---------------------------------------+\n",
      "| SpiceJet|      Delhi|       Evening| zero|        Night|          Mumbai|Economy|    2.17|        1|         0.05953|        5.0|            0.0|               2.0|      1.0|             0.0|                 0.0|      0.0| [5.0,0.0,2.0,1.0,0.0,0.0,0.0,2.17,1.0]|\n",
      "| SpiceJet|      Delhi| Early_Morning| zero|      Morning|          Mumbai|Economy|    2.33|        1|         0.05953|        5.0|            0.0|               1.0|      1.0|             2.0|                 0.0|      0.0| [5.0,0.0,1.0,1.0,2.0,0.0,0.0,2.33,1.0]|\n",
      "|  AirAsia|      Delhi| Early_Morning| zero|Early_Morning|          Mumbai|Economy|    2.17|        1|         0.05956|        4.0|            0.0|               1.0|      1.0|             4.0|                 0.0|      0.0| [4.0,0.0,1.0,1.0,4.0,0.0,0.0,2.17,1.0]|\n",
      "|  Vistara|      Delhi|       Morning| zero|    Afternoon|          Mumbai|Economy|    2.25|        1|         0.05955|        0.0|            0.0|               0.0|      1.0|             3.0|                 0.0|      0.0|       (9,[3,4,7,8],[1.0,3.0,2.25,1.0])|\n",
      "|  Vistara|      Delhi|       Morning| zero|      Morning|          Mumbai|Economy|    2.33|        1|         0.05955|        0.0|            0.0|               0.0|      1.0|             2.0|                 0.0|      0.0|       (9,[3,4,7,8],[1.0,2.0,2.33,1.0])|\n",
      "|  Vistara|      Delhi|       Morning| zero|    Afternoon|          Mumbai|Economy|    2.33|        1|         0.05955|        0.0|            0.0|               0.0|      1.0|             3.0|                 0.0|      0.0|       (9,[3,4,7,8],[1.0,3.0,2.33,1.0])|\n",
      "|  Vistara|      Delhi|       Morning| zero|      Morning|          Mumbai|Economy|    2.08|        1|          0.0606|        0.0|            0.0|               0.0|      1.0|             2.0|                 0.0|      0.0|       (9,[3,4,7,8],[1.0,2.0,2.08,1.0])|\n",
      "|  Vistara|      Delhi|     Afternoon| zero|      Evening|          Mumbai|Economy|    2.17|        1|          0.0606|        0.0|            0.0|               4.0|      1.0|             1.0|                 0.0|      0.0| [0.0,0.0,4.0,1.0,1.0,0.0,0.0,2.17,1.0]|\n",
      "| GO_FIRST|      Delhi| Early_Morning| zero|      Morning|          Mumbai|Economy|    2.17|        1|         0.05954|        3.0|            0.0|               1.0|      1.0|             2.0|                 0.0|      0.0| [3.0,0.0,1.0,1.0,2.0,0.0,0.0,2.17,1.0]|\n",
      "| GO_FIRST|      Delhi|     Afternoon| zero|      Evening|          Mumbai|Economy|    2.25|        1|         0.05954|        3.0|            0.0|               4.0|      1.0|             1.0|                 0.0|      0.0| [3.0,0.0,4.0,1.0,1.0,0.0,0.0,2.25,1.0]|\n",
      "| GO_FIRST|      Delhi|     Afternoon| zero|      Evening|          Mumbai|Economy|    2.25|        1|         0.05954|        3.0|            0.0|               4.0|      1.0|             1.0|                 0.0|      0.0| [3.0,0.0,4.0,1.0,1.0,0.0,0.0,2.25,1.0]|\n",
      "| GO_FIRST|      Delhi|       Morning| zero|    Afternoon|          Mumbai|Economy|    2.33|        1|         0.05954|        3.0|            0.0|               0.0|      1.0|             3.0|                 0.0|      0.0| [3.0,0.0,0.0,1.0,3.0,0.0,0.0,2.33,1.0]|\n",
      "|   Indigo|      Delhi| Early_Morning| zero|      Morning|          Mumbai|Economy|    2.17|        1|         0.05955|        2.0|            0.0|               1.0|      1.0|             2.0|                 0.0|      0.0| [2.0,0.0,1.0,1.0,2.0,0.0,0.0,2.17,1.0]|\n",
      "|   Indigo|      Delhi|       Morning| zero|    Afternoon|          Mumbai|Economy|    2.17|        1|         0.05955|        2.0|            0.0|               0.0|      1.0|             3.0|                 0.0|      0.0| [2.0,0.0,0.0,1.0,3.0,0.0,0.0,2.17,1.0]|\n",
      "|   Indigo|      Delhi|     Afternoon| zero|      Evening|          Mumbai|Economy|    2.25|        1|         0.05955|        2.0|            0.0|               4.0|      1.0|             1.0|                 0.0|      0.0| [2.0,0.0,4.0,1.0,1.0,0.0,0.0,2.25,1.0]|\n",
      "|   Indigo|      Delhi|       Morning| zero|      Morning|          Mumbai|Economy|    2.33|        1|         0.05955|        2.0|            0.0|               0.0|      1.0|             2.0|                 0.0|      0.0| [2.0,0.0,0.0,1.0,2.0,0.0,0.0,2.33,1.0]|\n",
      "|Air_India|      Delhi| Early_Morning| zero|      Morning|          Mumbai|Economy|    2.08|        1|         0.05955|        1.0|            0.0|               1.0|      1.0|             2.0|                 0.0|      0.0| [1.0,0.0,1.0,1.0,2.0,0.0,0.0,2.08,1.0]|\n",
      "|Air_India|      Delhi| Early_Morning| zero|      Morning|          Mumbai|Economy|    2.17|        1|         0.05955|        1.0|            0.0|               1.0|      1.0|             2.0|                 0.0|      0.0| [1.0,0.0,1.0,1.0,2.0,0.0,0.0,2.17,1.0]|\n",
      "|  AirAsia|      Delhi|       Evening|  one|Early_Morning|          Mumbai|Economy|   12.25|        1|         0.05949|        4.0|            0.0|               2.0|      0.0|             4.0|                 0.0|      0.0|[4.0,0.0,2.0,0.0,4.0,0.0,0.0,12.25,1.0]|\n",
      "|  AirAsia|      Delhi|       Evening|  one|      Morning|          Mumbai|Economy|   16.33|        1|         0.05949|        4.0|            0.0|               2.0|      0.0|             2.0|                 0.0|      0.0|[4.0,0.0,2.0,0.0,2.0,0.0,0.0,16.33,1.0]|\n",
      "| GO_FIRST|      Delhi| Early_Morning|  one|      Evening|          Mumbai|Economy|   11.75|        1|         0.05954|        3.0|            0.0|               1.0|      0.0|             1.0|                 0.0|      0.0|[3.0,0.0,1.0,0.0,1.0,0.0,0.0,11.75,1.0]|\n",
      "| GO_FIRST|      Delhi| Early_Morning|  one|        Night|          Mumbai|Economy|    14.5|        1|         0.05954|        3.0|            0.0|               1.0|      0.0|             0.0|                 0.0|      0.0|       (9,[0,2,7,8],[3.0,1.0,14.5,1.0])|\n",
      "| GO_FIRST|      Delhi|       Evening|  one|      Morning|          Mumbai|Economy|   15.67|        1|         0.05954|        3.0|            0.0|               2.0|      0.0|             2.0|                 0.0|      0.0|[3.0,0.0,2.0,0.0,2.0,0.0,0.0,15.67,1.0]|\n",
      "|Air_India|      Delhi|       Evening|  one|        Night|          Mumbai|Economy|    3.75|        1|         0.05955|        1.0|            0.0|               2.0|      0.0|             0.0|                 0.0|      0.0|       (9,[0,2,7,8],[1.0,2.0,3.75,1.0])|\n",
      "|   Indigo|      Delhi|       Morning| zero|      Morning|          Mumbai|Economy|     2.5|        1|         0.06165|        2.0|            0.0|               0.0|      1.0|             2.0|                 0.0|      0.0|  [2.0,0.0,0.0,1.0,2.0,0.0,0.0,2.5,1.0]|\n",
      "|  Vistara|      Delhi|     Afternoon| zero|      Evening|          Mumbai|Economy|    2.17|        1|          0.0669|        0.0|            0.0|               4.0|      1.0|             1.0|                 0.0|      0.0| [0.0,0.0,4.0,1.0,1.0,0.0,0.0,2.17,1.0]|\n",
      "|   Indigo|      Delhi|       Evening| zero|      Evening|          Mumbai|Economy|    2.17|        1|         0.06585|        2.0|            0.0|               2.0|      1.0|             1.0|                 0.0|      0.0| [2.0,0.0,2.0,1.0,1.0,0.0,0.0,2.17,1.0]|\n",
      "|  AirAsia|      Delhi|       Morning|  one|    Afternoon|          Mumbai|Economy|    5.83|        1|         0.08869|        4.0|            0.0|               0.0|      0.0|             3.0|                 0.0|      0.0|       (9,[0,4,7,8],[4.0,3.0,5.83,1.0])|\n",
      "| SpiceJet|      Delhi|       Evening| zero|        Night|          Mumbai|Economy|    2.33|        1|          0.1026|        5.0|            0.0|               2.0|      1.0|             0.0|                 0.0|      0.0| [5.0,0.0,2.0,1.0,0.0,0.0,0.0,2.33,1.0]|\n",
      "|   Indigo|      Delhi|       Evening| zero|        Night|          Mumbai|Economy|    2.17|        1|          0.1047|        2.0|            0.0|               2.0|      1.0|             0.0|                 0.0|      0.0| [2.0,0.0,2.0,1.0,0.0,0.0,0.0,2.17,1.0]|\n",
      "+---------+-----------+--------------+-----+-------------+----------------+-------+--------+---------+----------------+-----------+---------------+------------------+---------+----------------+--------------------+---------+---------------------------------------+\n",
      "only showing top 30 rows\n",
      "\n"
     ]
    }
   ],
   "source": [
    "assembler = VectorAssembler(inputCols=['airline_idx', 'source_city_idx', 'departure_time_idx', 'stops_idx', 'arrival_time_idx', 'destination_city_idx', 'class_idx','duration', 'days_left'], outputCol=\"features\")\n",
    "final_df = assembler.transform(final_df)\n",
    "final_df.show(30,truncate=50)"
   ]
  },
  {
   "cell_type": "code",
   "execution_count": 29,
   "metadata": {},
   "outputs": [
    {
     "name": "stdout",
     "output_type": "stream",
     "text": [
      "+--------+-----------+--------------+-----+------------+----------------+-------+--------+---------+----------------+-----------+---------------+------------------+---------+----------------+--------------------+---------+----------+--------------+\n",
      "| airline|source_city|departure_time|stops|arrival_time|destination_city|  class|duration|days_left|normalized_price|airline_idx|source_city_idx|departure_time_idx|stops_idx|arrival_time_idx|destination_city_idx|class_idx|  features|scaledFeatures|\n",
      "+--------+-----------+--------------+-----+------------+----------------+-------+--------+---------+----------------+-----------+---------------+------------------+---------+----------------+--------------------+---------+----------+--------------+\n",
      "|SpiceJet|      Delhi|       Evening| zero|       Night|          Mumbai|Economy|    2.17|        1|         0.05953|        5.0|            0.0|               2.0|      1.0|             0.0|                 0.0|      0.0|[5.0,0....|    [2.8530...|\n",
      "|SpiceJet|      Delhi|    Early_M...| zero|     Morning|          Mumbai|Economy|    2.33|        1|         0.05953|        5.0|            0.0|               1.0|      1.0|             2.0|                 0.0|      0.0|[5.0,0....|    [2.8530...|\n",
      "| AirAsia|      Delhi|    Early_M...| zero|  Early_M...|          Mumbai|Economy|    2.17|        1|         0.05956|        4.0|            0.0|               1.0|      1.0|             4.0|                 0.0|      0.0|[4.0,0....|    [2.1114...|\n",
      "| Vistara|      Delhi|       Morning| zero|   Afternoon|          Mumbai|Economy|    2.25|        1|         0.05955|        0.0|            0.0|               0.0|      1.0|             3.0|                 0.0|      0.0|(9,[3,4...|    [-0.855...|\n",
      "| Vistara|      Delhi|       Morning| zero|     Morning|          Mumbai|Economy|    2.33|        1|         0.05955|        0.0|            0.0|               0.0|      1.0|             2.0|                 0.0|      0.0|(9,[3,4...|    [-0.855...|\n",
      "| Vistara|      Delhi|       Morning| zero|   Afternoon|          Mumbai|Economy|    2.33|        1|         0.05955|        0.0|            0.0|               0.0|      1.0|             3.0|                 0.0|      0.0|(9,[3,4...|    [-0.855...|\n",
      "| Vistara|      Delhi|       Morning| zero|     Morning|          Mumbai|Economy|    2.08|        1|          0.0606|        0.0|            0.0|               0.0|      1.0|             2.0|                 0.0|      0.0|(9,[3,4...|    [-0.855...|\n",
      "| Vistara|      Delhi|     Afternoon| zero|     Evening|          Mumbai|Economy|    2.17|        1|          0.0606|        0.0|            0.0|               4.0|      1.0|             1.0|                 0.0|      0.0|[0.0,0....|    [-0.855...|\n",
      "|GO_FIRST|      Delhi|    Early_M...| zero|     Morning|          Mumbai|Economy|    2.17|        1|         0.05954|        3.0|            0.0|               1.0|      1.0|             2.0|                 0.0|      0.0|[3.0,0....|    [1.3697...|\n",
      "|GO_FIRST|      Delhi|     Afternoon| zero|     Evening|          Mumbai|Economy|    2.25|        1|         0.05954|        3.0|            0.0|               4.0|      1.0|             1.0|                 0.0|      0.0|[3.0,0....|    [1.3697...|\n",
      "+--------+-----------+--------------+-----+------------+----------------+-------+--------+---------+----------------+-----------+---------------+------------------+---------+----------------+--------------------+---------+----------+--------------+\n",
      "only showing top 10 rows\n",
      "\n"
     ]
    }
   ],
   "source": [
    "# Initialize the StandardScaler\n",
    "from pyspark.ml.feature import StandardScaler\n",
    "\n",
    "scaler = StandardScaler(inputCol=\"features\", outputCol=\"scaledFeatures\", withMean=True, withStd=True)\n",
    "\n",
    "# Fit the scaler to the data\n",
    "scaler_model = scaler.fit(final_df)\n",
    "\n",
    "# Transform the data\n",
    "final_df = scaler_model.transform(final_df)\n",
    "\n",
    "final_df.show(10,truncate=10)"
   ]
  },
  {
   "cell_type": "code",
   "execution_count": 30,
   "metadata": {},
   "outputs": [],
   "source": [
    "from pyspark.ml.feature import PCA\n",
    "\n",
    "\n",
    "pca = PCA(k=2, inputCol=\"scaledFeatures\", outputCol=\"pcafeatures\")\n",
    "model = pca.fit(final_df)\n",
    "\n",
    "# Step 5: Transform Data\n",
    "final_df = model.transform(final_df)\n"
   ]
  },
  {
   "cell_type": "code",
   "execution_count": 31,
   "metadata": {},
   "outputs": [
    {
     "name": "stdout",
     "output_type": "stream",
     "text": [
      "+--------+-----------+--------------+-----+-------------+----------------+-------+--------+---------+----------------+-----------+---------------+------------------+---------+----------------+--------------------+---------+--------------------------------------+--------------------------------------------------+------------------------------------------+\n",
      "| airline|source_city|departure_time|stops| arrival_time|destination_city|  class|duration|days_left|normalized_price|airline_idx|source_city_idx|departure_time_idx|stops_idx|arrival_time_idx|destination_city_idx|class_idx|                              features|                                    scaledFeatures|                               pcafeatures|\n",
      "+--------+-----------+--------------+-----+-------------+----------------+-------+--------+---------+----------------+-----------+---------------+------------------+---------+----------------+--------------------+---------+--------------------------------------+--------------------------------------------------+------------------------------------------+\n",
      "|SpiceJet|      Delhi|       Evening| zero|        Night|          Mumbai|Economy|    2.17|        1|         0.05953|        5.0|            0.0|               2.0|      1.0|             0.0|                 0.0|      0.0|[5.0,0.0,2.0,1.0,0.0,0.0,0.0,2.17,1.0]|[2.8530491760028016,-1.3067087768429257,0.14632...| [-3.1081011449371876,-0.1376955221666359]|\n",
      "|SpiceJet|      Delhi| Early_Morning| zero|      Morning|          Mumbai|Economy|    2.33|        1|         0.05953|        5.0|            0.0|               1.0|      1.0|             2.0|                 0.0|      0.0|[5.0,0.0,1.0,1.0,2.0,0.0,0.0,2.33,1.0]|[2.8530491760028016,-1.3067087768429257,-0.5671...| [-3.385823571052269,-0.05359819764616734]|\n",
      "| AirAsia|      Delhi| Early_Morning| zero|Early_Morning|          Mumbai|Economy|    2.17|        1|         0.05956|        4.0|            0.0|               1.0|      1.0|             4.0|                 0.0|      0.0|[4.0,0.0,1.0,1.0,4.0,0.0,0.0,2.17,1.0]|[2.111405681103607,-1.3067087768429257,-0.56711...|[-3.291962039575337,-0.047813047475043405]|\n",
      "| Vistara|      Delhi|       Morning| zero|    Afternoon|          Mumbai|Economy|    2.25|        1|         0.05955|        0.0|            0.0|               0.0|      1.0|             3.0|                 0.0|      0.0|      (9,[3,4,7,8],[1.0,3.0,2.25,1.0])|[-0.8551682984931708,-1.3067087768429257,-1.280...|[-1.3797307554263523,-0.04886572328787585]|\n",
      "| Vistara|      Delhi|       Morning| zero|      Morning|          Mumbai|Economy|    2.33|        1|         0.05955|        0.0|            0.0|               0.0|      1.0|             2.0|                 0.0|      0.0|      (9,[3,4,7,8],[1.0,2.0,2.33,1.0])|[-0.8551682984931708,-1.3067087768429257,-1.280...|[-1.2129029513930918,-0.05904295138764902]|\n",
      "| Vistara|      Delhi|       Morning| zero|    Afternoon|          Mumbai|Economy|    2.33|        1|         0.05955|        0.0|            0.0|               0.0|      1.0|             3.0|                 0.0|      0.0|      (9,[3,4,7,8],[1.0,3.0,2.33,1.0])|[-0.8551682984931708,-1.3067087768429257,-1.280...|[-1.374581190423971,-0.049780450307802857]|\n",
      "| Vistara|      Delhi|       Morning| zero|      Morning|          Mumbai|Economy|    2.08|        1|          0.0606|        0.0|            0.0|               0.0|      1.0|             2.0|                 0.0|      0.0|      (9,[3,4,7,8],[1.0,2.0,2.08,1.0])|[-0.8551682984931708,-1.3067087768429257,-1.280...| [-1.228995342025533,-0.05618442945037708]|\n",
      "| Vistara|      Delhi|     Afternoon| zero|      Evening|          Mumbai|Economy|    2.17|        1|          0.0606|        0.0|            0.0|               4.0|      1.0|             1.0|                 0.0|      0.0|[0.0,0.0,4.0,1.0,1.0,0.0,0.0,2.17,1.0]|[-0.8551682984931708,-1.3067087768429257,1.5732...| [-1.2028635301346366,-0.3360831040301627]|\n",
      "|GO_FIRST|      Delhi| Early_Morning| zero|      Morning|          Mumbai|Economy|    2.17|        1|         0.05954|        3.0|            0.0|               1.0|      1.0|             2.0|                 0.0|      0.0|[3.0,0.0,1.0,1.0,2.0,0.0,0.0,2.17,1.0]|[1.3697621862044125,-1.3067087768429257,-0.5671...|[-2.5410884219701266,-0.08090735566315817]|\n",
      "|GO_FIRST|      Delhi|     Afternoon| zero|      Evening|          Mumbai|Economy|    2.25|        1|         0.05954|        3.0|            0.0|               4.0|      1.0|             1.0|                 0.0|      0.0|[3.0,0.0,4.0,1.0,1.0,0.0,0.0,2.25,1.0]|[1.3697621862044125,-1.3067087768429257,1.57320...|[-2.4802653837626125,-0.29328991296482243]|\n",
      "+--------+-----------+--------------+-----+-------------+----------------+-------+--------+---------+----------------+-----------+---------------+------------------+---------+----------------+--------------------+---------+--------------------------------------+--------------------------------------------------+------------------------------------------+\n",
      "only showing top 10 rows\n",
      "\n"
     ]
    }
   ],
   "source": [
    "final_df.show(10, truncate=50)"
   ]
  },
  {
   "cell_type": "code",
   "execution_count": 42,
   "metadata": {
    "id": "4gQPhxtGzvgO",
    "outputId": "42e626ca-a217-4f7c-ce74-d92200ea902c"
   },
   "outputs": [
    {
     "name": "stdout",
     "output_type": "stream",
     "text": [
      "+---------------------------------------+------------------------------------------+----------------+\n",
      "|features                               |pcafeatures                               |normalized_price|\n",
      "+---------------------------------------+------------------------------------------+----------------+\n",
      "|[5.0,0.0,2.0,1.0,0.0,0.0,0.0,2.17,1.0] |[-3.1081011449371876,-0.1376955221666359] |0.05953         |\n",
      "|[5.0,0.0,1.0,1.0,2.0,0.0,0.0,2.33,1.0] |[-3.385823571052269,-0.05359819764616734] |0.05953         |\n",
      "|[4.0,0.0,1.0,1.0,4.0,0.0,0.0,2.17,1.0] |[-3.291962039575337,-0.047813047475043405]|0.05956         |\n",
      "|(9,[3,4,7,8],[1.0,3.0,2.25,1.0])       |[-1.3797307554263523,-0.04886572328787585]|0.05955         |\n",
      "|(9,[3,4,7,8],[1.0,2.0,2.33,1.0])       |[-1.2129029513930918,-0.05904295138764902]|0.05955         |\n",
      "|(9,[3,4,7,8],[1.0,3.0,2.33,1.0])       |[-1.374581190423971,-0.049780450307802857]|0.05955         |\n",
      "|(9,[3,4,7,8],[1.0,2.0,2.08,1.0])       |[-1.228995342025533,-0.05618442945037708] |0.0606          |\n",
      "|[0.0,0.0,4.0,1.0,1.0,0.0,0.0,2.17,1.0] |[-1.2028635301346366,-0.3360831040301627] |0.0606          |\n",
      "|[3.0,0.0,1.0,1.0,2.0,0.0,0.0,2.17,1.0] |[-2.5410884219701266,-0.08090735566315817]|0.05954         |\n",
      "|[3.0,0.0,4.0,1.0,1.0,0.0,0.0,2.25,1.0] |[-2.4802653837626125,-0.29328991296482243]|0.05954         |\n",
      "|[3.0,0.0,4.0,1.0,1.0,0.0,0.0,2.25,1.0] |[-2.4802653837626125,-0.29328991296482243]|0.05954         |\n",
      "|[3.0,0.0,0.0,1.0,3.0,0.0,0.0,2.33,1.0] |[-2.657132609054328,-0.006072532222535551]|0.05954         |\n",
      "|[2.0,0.0,1.0,1.0,2.0,0.0,0.0,2.17,1.0] |[-2.1135712824266744,-0.0954766616915806] |0.05955         |\n",
      "|[2.0,0.0,0.0,1.0,3.0,0.0,0.0,2.17,1.0] |[-2.239914599515638,-0.01881238421110394] |0.05955         |\n",
      "|[2.0,0.0,4.0,1.0,1.0,0.0,0.0,2.25,1.0] |[-2.0527482442191602,-0.30785921899324487]|0.05955         |\n",
      "|[2.0,0.0,0.0,1.0,2.0,0.0,0.0,2.33,1.0] |[-2.0679372304799966,-0.02990433933080415]|0.05955         |\n",
      "|[1.0,0.0,1.0,1.0,2.0,0.0,0.0,2.08,1.0] |[-1.6918474035109008,-0.10901689982258492]|0.05955         |\n",
      "|[1.0,0.0,1.0,1.0,2.0,0.0,0.0,2.17,1.0] |[-1.6860541428832219,-0.11004596772000282]|0.05955         |\n",
      "|[4.0,0.0,2.0,0.0,4.0,0.0,0.0,12.25,1.0]|[-1.9971997389449145,0.08549743513048996] |0.05949         |\n",
      "|[4.0,0.0,2.0,0.0,2.0,0.0,0.0,16.33,1.0]|[-1.4112154457617152,0.020321354954519394]|0.05949         |\n",
      "+---------------------------------------+------------------------------------------+----------------+\n",
      "only showing top 20 rows\n",
      "\n"
     ]
    }
   ],
   "source": [
    "feature_vector_df = final_df.select(['features','pcafeatures', 'normalized_price'])\n",
    "feature_vector_df.show(truncate=False)"
   ]
  },
  {
   "cell_type": "markdown",
   "metadata": {
    "id": "Z1vpDBjPzvgP"
   },
   "source": [
    "<h3> Regression Model"
   ]
  },
  {
   "cell_type": "code",
   "execution_count": 14,
   "metadata": {
    "id": "97avOOBezvgP"
   },
   "outputs": [],
   "source": [
    "from pyspark.ml.evaluation import RegressionEvaluator"
   ]
  },
  {
   "cell_type": "code",
   "execution_count": 44,
   "metadata": {
    "id": "waKoVsS1zvgP"
   },
   "outputs": [],
   "source": [
    "(trainData, testData) = feature_vector_df.randomSplit([0.8,0.2],seed = 2)"
   ]
  },
  {
   "cell_type": "markdown",
   "metadata": {
    "id": "8FHW_6CgzvgP"
   },
   "source": [
    "<h5> XGBoost"
   ]
  },
  {
   "cell_type": "code",
   "execution_count": 16,
   "metadata": {},
   "outputs": [],
   "source": [
    "from pyspark.ml.regression import GBTRegressor\n",
    "import xgboost as xg\n",
    "import sklearn\n",
    "import numpy as np"
   ]
  },
  {
   "cell_type": "code",
   "execution_count": 34,
   "metadata": {
    "id": "sR6psOr1zvgP"
   },
   "outputs": [
    {
     "name": "stderr",
     "output_type": "stream",
     "text": [
      "c:\\Users\\Alfred\\anaconda3\\envs\\kuliah\\Lib\\site-packages\\xgboost\\core.py:160: UserWarning: [14:57:16] WARNING: C:\\buildkite-agent\\builds\\buildkite-windows-cpu-autoscaling-group-i-0b3782d1791676daf-1\\xgboost\\xgboost-ci-windows\\src\\objective\\regression_obj.cu:209: reg:linear is now deprecated in favor of reg:squarederror.\n",
      "  warnings.warn(smsg, UserWarning)\n"
     ]
    }
   ],
   "source": [
    "\n",
    "\n",
    "xgb_r = xg.XGBRegressor(objective ='reg:linear',n_estimators = 10, seed = 123).fit(np.vstack(trainData.select(\"pcafeatures\").collect()), np.vstack(trainData.select(\"normalized_price\").collect()))"
   ]
  },
  {
   "cell_type": "code",
   "execution_count": 35,
   "metadata": {},
   "outputs": [
    {
     "data": {
      "text/plain": [
       "array([0.05316652, 0.05316652, 0.05316652, ..., 0.52852064, 0.49849653,\n",
       "       0.4916249 ], dtype=float32)"
      ]
     },
     "execution_count": 35,
     "metadata": {},
     "output_type": "execute_result"
    }
   ],
   "source": [
    "pred = xgb_r.predict(np.vstack(testData.select(\"pcafeatures\").collect()))\n",
    "pred"
   ]
  },
  {
   "cell_type": "code",
   "execution_count": 36,
   "metadata": {},
   "outputs": [
    {
     "name": "stdout",
     "output_type": "stream",
     "text": [
      "+-----------------------------------------+----------------+-----------+-----------+\n",
      "|                              pcafeatures|normalized_price|      value| prediction|\n",
      "+-----------------------------------------+----------------+-----------+-----------+\n",
      "|[-3.9423080128690144,-0.8388812804140522]|           0.045| 0.05316652| 0.05316652|\n",
      "|[-3.9049740875864063,-0.8818612040119321]|           0.045| 0.05316652| 0.05316652|\n",
      "|[-3.8601733772472766,-0.9334371123293881]|         0.04721| 0.05316652| 0.05316652|\n",
      "| [-3.848973199662494,-0.9463310894087521]|         0.04721| 0.05316652| 0.05316652|\n",
      "|  [-3.834039629549451,-0.963523058847904]|         0.07425| 0.05316652| 0.05316652|\n",
      "| [-3.8228394519646685,-0.976417035927268]|         0.07425| 0.05316652| 0.05316652|\n",
      "|  [-3.789424178590407,-1.153429230614188]|          0.0309|0.049778357|0.049778357|\n",
      "|  [-3.785690786062146,-1.157727222973976]|          0.0309|0.049778357|0.049778357|\n",
      "| [-3.7707572159491027,-1.174919192413128]|          0.0309|0.049778357|0.049778357|\n",
      "| [-3.744623468251277,-1.2050051389316438]|          0.0309|0.049778357|0.049778357|\n",
      "+-----------------------------------------+----------------+-----------+-----------+\n",
      "only showing top 10 rows\n",
      "\n"
     ]
    }
   ],
   "source": [
    "from pyspark.sql.functions import monotonically_increasing_id\n",
    "\n",
    "test_pred = spark.createDataFrame(pred)\n",
    "\n",
    "testData_pred = testData.withColumn('key', monotonically_increasing_id())\n",
    "test_pred = test_pred.withColumn('key', monotonically_increasing_id())\n",
    "\n",
    "test_pred = test_pred.withColumn(\"prediction\", test_pred[\"value\"])\n",
    "# Perform the join on the key column\n",
    "test_with_pred = testData_pred.join(test_pred, on='key')\n",
    "\n",
    "\n",
    "test_with_pred = test_with_pred.drop('key')\n",
    "\n",
    "test_with_pred.show(10, truncate=50)"
   ]
  },
  {
   "cell_type": "code",
   "execution_count": 38,
   "metadata": {},
   "outputs": [
    {
     "name": "stdout",
     "output_type": "stream",
     "text": [
      "Root Mean Square of XGBoost model is 0.243531\n"
     ]
    }
   ],
   "source": [
    "evaluator = RegressionEvaluator(labelCol='normalized_price', predictionCol='prediction', metricName='rmse')\n",
    "rmse = evaluator.evaluate(test_with_pred)\n",
    "print (\"Root Mean Square of XGBoost model is %g\"%rmse)"
   ]
  },
  {
   "cell_type": "markdown",
   "metadata": {
    "id": "IshUUWfEzvgP"
   },
   "source": [
    "<h5> Support Vector Regressor"
   ]
  },
  {
   "cell_type": "code",
   "execution_count": 24,
   "metadata": {
    "id": "refwgalezvgQ"
   },
   "outputs": [],
   "source": [
    "from sklearn.svm import SVR"
   ]
  },
  {
   "cell_type": "code",
   "execution_count": 25,
   "metadata": {},
   "outputs": [],
   "source": [
    "train_data = trainData.select(\"pcafeatures\", \"normalized_price\").toPandas()"
   ]
  },
  {
   "cell_type": "code",
   "execution_count": 26,
   "metadata": {},
   "outputs": [],
   "source": [
    "X = np.array(train_data['pcafeatures'].tolist())\n",
    "y = train_data['normalized_price'].values"
   ]
  },
  {
   "cell_type": "code",
   "execution_count": 27,
   "metadata": {},
   "outputs": [],
   "source": [
    "svr_lin = SVR(kernel = 'linear')"
   ]
  },
  {
   "cell_type": "code",
   "execution_count": 28,
   "metadata": {},
   "outputs": [],
   "source": [
    "svr_model = svr_lin.fit(X,y)"
   ]
  },
  {
   "cell_type": "code",
   "execution_count": null,
   "metadata": {},
   "outputs": [],
   "source": [
    "prediction_svr = svr_model.transform(testData)"
   ]
  },
  {
   "cell_type": "code",
   "execution_count": null,
   "metadata": {},
   "outputs": [],
   "source": [
    "prediction_svr.show(10, truncate=50)"
   ]
  },
  {
   "cell_type": "code",
   "execution_count": null,
   "metadata": {},
   "outputs": [],
   "source": [
    "evaluator = RegressionEvaluator(labelCol='normalized_price', predictionCol='prediction', metricName='rmse')\n",
    "rmse = evaluator.evaluate(prediction_svr)\n",
    "print (\"Root Mean Square of Random Forest model is %g\"%rmse)"
   ]
  },
  {
   "cell_type": "markdown",
   "metadata": {
    "id": "HZCDrfRXzvgQ"
   },
   "source": [
    "<h5> Random Forest Regressor"
   ]
  },
  {
   "cell_type": "code",
   "execution_count": 39,
   "metadata": {
    "id": "2nRKvMhhzvgQ"
   },
   "outputs": [],
   "source": [
    "from pyspark.ml.regression import RandomForestRegressor\n",
    "\n",
    "rf = RandomForestRegressor(featuresCol='pcafeatures',labelCol='normalized_price').fit(trainData)\n",
    "prediction = rf.transform(testData)"
   ]
  },
  {
   "cell_type": "code",
   "execution_count": 40,
   "metadata": {
    "id": "Fjw0KTaEzvgQ",
    "outputId": "a4a652ea-33e8-4800-c39e-ef60f7f530b6"
   },
   "outputs": [
    {
     "name": "stdout",
     "output_type": "stream",
     "text": [
      "+-----------------------------------------+----------------+-------------------+\n",
      "|                              pcafeatures|normalized_price|         prediction|\n",
      "+-----------------------------------------+----------------+-------------------+\n",
      "|[-3.9423080128690144,-0.8388812804140522]|           0.045|0.07700645375460294|\n",
      "|[-3.9049740875864063,-0.8818612040119321]|           0.045|0.07700645375460294|\n",
      "|[-3.8601733772472766,-0.9334371123293881]|         0.04721|0.07700645375460294|\n",
      "| [-3.848973199662494,-0.9463310894087521]|         0.04721|0.07700645375460294|\n",
      "|  [-3.834039629549451,-0.963523058847904]|         0.07425|0.07700645375460294|\n",
      "| [-3.8228394519646685,-0.976417035927268]|         0.07425|0.07700645375460294|\n",
      "|  [-3.789424178590407,-1.153429230614188]|          0.0309|0.07684992446316603|\n",
      "|  [-3.785690786062146,-1.157727222973976]|          0.0309|0.07684992446316603|\n",
      "| [-3.7707572159491027,-1.174919192413128]|          0.0309|0.07684992446316603|\n",
      "| [-3.744623468251277,-1.2050051389316438]|          0.0309|0.07684992446316603|\n",
      "+-----------------------------------------+----------------+-------------------+\n",
      "only showing top 10 rows\n",
      "\n"
     ]
    }
   ],
   "source": [
    "prediction.show(10, truncate=50)"
   ]
  },
  {
   "cell_type": "code",
   "execution_count": 41,
   "metadata": {
    "id": "G65YaQlPzvgQ",
    "outputId": "697431c6-7ab3-4b7c-dd86-64883c7fa14b"
   },
   "outputs": [
    {
     "name": "stdout",
     "output_type": "stream",
     "text": [
      "Root Mean Square of Random Forest model is 0.131839\n"
     ]
    }
   ],
   "source": [
    "evaluator = RegressionEvaluator(labelCol='normalized_price', predictionCol='prediction', metricName='rmse')\n",
    "rmse = evaluator.evaluate(prediction)\n",
    "print (\"Root Mean Square of Random Forest model is %g\"%rmse)"
   ]
  },
  {
   "cell_type": "code",
   "execution_count": 45,
   "metadata": {
    "id": "NeGQjVWLzvgR"
   },
   "outputs": [],
   "source": [
    "rf = RandomForestRegressor(featuresCol='features',labelCol='normalized_price').fit(trainData)\n",
    "prediction = rf.transform(testData)"
   ]
  },
  {
   "cell_type": "code",
   "execution_count": 46,
   "metadata": {},
   "outputs": [
    {
     "name": "stdout",
     "output_type": "stream",
     "text": [
      "+----------------------------------+------------------------------------------+----------------+-------------------+\n",
      "|                          features|                               pcafeatures|normalized_price|         prediction|\n",
      "+----------------------------------+------------------------------------------+----------------+-------------------+\n",
      "| (9,[0,2,7,8],[1.0,1.0,13.25,6.0])|[0.013102157639335865,0.08219716317632059]|         0.14775|0.11021873978672023|\n",
      "|(9,[0,2,7,8],[1.0,1.0,13.25,16.0])|[-0.02423176764327223,0.12517708677420053]|         0.07262|0.10607355097259555|\n",
      "|(9,[0,2,7,8],[1.0,1.0,13.25,28.0])|[-0.06903247798240193,0.17675299509165648]|         0.05281|0.10607355097259555|\n",
      "|(9,[0,2,7,8],[1.0,1.0,13.25,31.0])|[-0.08023265556718437,0.18964697217102044]|         0.06231|0.10607355097259555|\n",
      "|(9,[0,2,7,8],[1.0,1.0,13.25,34.0])|[-0.09143283315196679,0.20254094925038443]|         0.06231|0.10607355097259555|\n",
      "|(9,[0,2,7,8],[1.0,1.0,13.25,37.0])|[-0.10263301073674921,0.21543492632974842]|          0.0536|0.10607355097259555|\n",
      "|(9,[0,2,7,8],[1.0,1.0,13.25,42.0])| [-0.12129997337805326,0.2369248881286884]|         0.04939|0.10607355097259555|\n",
      "|(9,[0,2,7,8],[1.0,1.0,13.25,43.0])|  [-0.1250333659063141,0.2412228804884764]|         0.05702|0.10607355097259555|\n",
      "|(9,[0,2,7,8],[1.0,1.0,13.67,47.0])| [-0.11293171975685604,0.2536125330730115]|          0.0536|0.10607355097259555|\n",
      "| (9,[0,2,7,8],[1.0,1.0,14.92,6.0])| [0.12059932706404335,0.06310223663534395]|          0.1215|0.11021873978672023|\n",
      "+----------------------------------+------------------------------------------+----------------+-------------------+\n",
      "only showing top 10 rows\n",
      "\n"
     ]
    }
   ],
   "source": [
    "prediction.show(10, truncate=50)"
   ]
  },
  {
   "cell_type": "code",
   "execution_count": 47,
   "metadata": {},
   "outputs": [
    {
     "name": "stdout",
     "output_type": "stream",
     "text": [
      "Root Mean Square of Random Forest model is 0.0662851\n"
     ]
    }
   ],
   "source": [
    "evaluator = RegressionEvaluator(labelCol='normalized_price', predictionCol='prediction', metricName='rmse')\n",
    "rmse = evaluator.evaluate(prediction)\n",
    "print (\"Root Mean Square of Random Forest model is %g\"%rmse)"
   ]
  },
  {
   "cell_type": "code",
   "execution_count": null,
   "metadata": {
    "id": "GjZ6P65KzvgR",
    "outputId": "3f57fca1-4a7e-483f-9e61-91d65cdd1fb2"
   },
   "outputs": [],
   "source": [
    "spark.stop"
   ]
  },
  {
   "cell_type": "code",
   "execution_count": null,
   "metadata": {},
   "outputs": [],
   "source": []
  }
 ],
 "metadata": {
  "colab": {
   "include_colab_link": true,
   "provenance": []
  },
  "kernelspec": {
   "display_name": "Dsci",
   "language": "python",
   "name": "kuliah"
  },
  "language_info": {
   "codemirror_mode": {
    "name": "ipython",
    "version": 3
   },
   "file_extension": ".py",
   "mimetype": "text/x-python",
   "name": "python",
   "nbconvert_exporter": "python",
   "pygments_lexer": "ipython3",
   "version": "3.11.8"
  }
 },
 "nbformat": 4,
 "nbformat_minor": 4
}
