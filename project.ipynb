{
 "cells": [
  {
   "cell_type": "markdown",
   "metadata": {
    "colab_type": "text",
    "id": "view-in-github"
   },
   "source": [
    "<a href=\"https://colab.research.google.com/github/alfredwisana/big-data_project/blob/main/project.ipynb\" target=\"_parent\"><img src=\"https://colab.research.google.com/assets/colab-badge.svg\" alt=\"Open In Colab\"/></a>"
   ]
  },
  {
   "cell_type": "code",
   "execution_count": 1,
   "metadata": {
    "id": "CIgA6eSIzvf8"
   },
   "outputs": [],
   "source": [
    "from pyspark.sql import SparkSession\n",
    "\n",
    "spark = SparkSession.builder.appName('local[*]').appName('myApp').getOrCreate()\n",
    "import matplotlib.pyplot as plt\n",
    "import seaborn as sns"
   ]
  },
  {
   "cell_type": "code",
   "execution_count": 2,
   "metadata": {
    "id": "tU7KPimfzvf-",
    "outputId": "5cacbca3-6f6f-46c8-c928-35ca98833b17"
   },
   "outputs": [
    {
     "name": "stdout",
     "output_type": "stream",
     "text": [
      "+---+---------+-------+-----------+--------------+-----+-------------+----------------+-------+--------+---------+-----+\n",
      "|_c0|  airline| flight|source_city|departure_time|stops| arrival_time|destination_city|  class|duration|days_left|price|\n",
      "+---+---------+-------+-----------+--------------+-----+-------------+----------------+-------+--------+---------+-----+\n",
      "|  0| SpiceJet|SG-8709|      Delhi|       Evening| zero|        Night|          Mumbai|Economy|    2.17|        1| 5953|\n",
      "|  1| SpiceJet|SG-8157|      Delhi| Early_Morning| zero|      Morning|          Mumbai|Economy|    2.33|        1| 5953|\n",
      "|  2|  AirAsia| I5-764|      Delhi| Early_Morning| zero|Early_Morning|          Mumbai|Economy|    2.17|        1| 5956|\n",
      "|  3|  Vistara| UK-995|      Delhi|       Morning| zero|    Afternoon|          Mumbai|Economy|    2.25|        1| 5955|\n",
      "|  4|  Vistara| UK-963|      Delhi|       Morning| zero|      Morning|          Mumbai|Economy|    2.33|        1| 5955|\n",
      "|  5|  Vistara| UK-945|      Delhi|       Morning| zero|    Afternoon|          Mumbai|Economy|    2.33|        1| 5955|\n",
      "|  6|  Vistara| UK-927|      Delhi|       Morning| zero|      Morning|          Mumbai|Economy|    2.08|        1| 6060|\n",
      "|  7|  Vistara| UK-951|      Delhi|     Afternoon| zero|      Evening|          Mumbai|Economy|    2.17|        1| 6060|\n",
      "|  8| GO_FIRST| G8-334|      Delhi| Early_Morning| zero|      Morning|          Mumbai|Economy|    2.17|        1| 5954|\n",
      "|  9| GO_FIRST| G8-336|      Delhi|     Afternoon| zero|      Evening|          Mumbai|Economy|    2.25|        1| 5954|\n",
      "| 10| GO_FIRST| G8-392|      Delhi|     Afternoon| zero|      Evening|          Mumbai|Economy|    2.25|        1| 5954|\n",
      "| 11| GO_FIRST| G8-338|      Delhi|       Morning| zero|    Afternoon|          Mumbai|Economy|    2.33|        1| 5954|\n",
      "| 12|   Indigo|6E-5001|      Delhi| Early_Morning| zero|      Morning|          Mumbai|Economy|    2.17|        1| 5955|\n",
      "| 13|   Indigo|6E-6202|      Delhi|       Morning| zero|    Afternoon|          Mumbai|Economy|    2.17|        1| 5955|\n",
      "| 14|   Indigo| 6E-549|      Delhi|     Afternoon| zero|      Evening|          Mumbai|Economy|    2.25|        1| 5955|\n",
      "| 15|   Indigo|6E-6278|      Delhi|       Morning| zero|      Morning|          Mumbai|Economy|    2.33|        1| 5955|\n",
      "| 16|Air_India| AI-887|      Delhi| Early_Morning| zero|      Morning|          Mumbai|Economy|    2.08|        1| 5955|\n",
      "| 17|Air_India| AI-665|      Delhi| Early_Morning| zero|      Morning|          Mumbai|Economy|    2.17|        1| 5955|\n",
      "| 18|  AirAsia| I5-747|      Delhi|       Evening|  one|Early_Morning|          Mumbai|Economy|   12.25|        1| 5949|\n",
      "| 19|  AirAsia| I5-747|      Delhi|       Evening|  one|      Morning|          Mumbai|Economy|   16.33|        1| 5949|\n",
      "| 20| GO_FIRST| G8-266|      Delhi| Early_Morning|  one|      Evening|          Mumbai|Economy|   11.75|        1| 5954|\n",
      "| 21| GO_FIRST| G8-101|      Delhi| Early_Morning|  one|        Night|          Mumbai|Economy|    14.5|        1| 5954|\n",
      "| 22| GO_FIRST| G8-103|      Delhi|       Evening|  one|      Morning|          Mumbai|Economy|   15.67|        1| 5954|\n",
      "| 23|Air_India| AI-441|      Delhi|       Evening|  one|        Night|          Mumbai|Economy|    3.75|        1| 5955|\n",
      "| 24|   Indigo|6E-5328|      Delhi|       Morning| zero|      Morning|          Mumbai|Economy|     2.5|        1| 6165|\n",
      "| 25|  Vistara| UK-933|      Delhi|     Afternoon| zero|      Evening|          Mumbai|Economy|    2.17|        1| 6690|\n",
      "| 26|   Indigo|6E-2046|      Delhi|       Evening| zero|      Evening|          Mumbai|Economy|    2.17|        1| 6585|\n",
      "| 27|  AirAsia| I5-744|      Delhi|       Morning|  one|    Afternoon|          Mumbai|Economy|    5.83|        1| 8869|\n",
      "| 28| SpiceJet|SG-8169|      Delhi|       Evening| zero|        Night|          Mumbai|Economy|    2.33|        1|10260|\n",
      "| 29|   Indigo|6E-5041|      Delhi|       Evening| zero|        Night|          Mumbai|Economy|    2.17|        1|10470|\n",
      "+---+---------+-------+-----------+--------------+-----+-------------+----------------+-------+--------+---------+-----+\n",
      "only showing top 30 rows\n",
      "\n"
     ]
    }
   ],
   "source": [
    "# Read the CSV file containing Titanic dataset into Spark's DataFrame and show it\n",
    "\n",
    "df = spark.read.format('csv').options(header=True, inferSchema=True).load('Clean_Dataset.csv')\n",
    "df.show(30,truncate=50)"
   ]
  },
  {
   "cell_type": "code",
   "execution_count": 3,
   "metadata": {
    "id": "AV5iSoPuzvgA",
    "outputId": "04fb5f3e-8ac3-44f9-94d4-0c7e5d062eea"
   },
   "outputs": [
    {
     "name": "stdout",
     "output_type": "stream",
     "text": [
      "root\n",
      " |-- _c0: integer (nullable = true)\n",
      " |-- airline: string (nullable = true)\n",
      " |-- flight: string (nullable = true)\n",
      " |-- source_city: string (nullable = true)\n",
      " |-- departure_time: string (nullable = true)\n",
      " |-- stops: string (nullable = true)\n",
      " |-- arrival_time: string (nullable = true)\n",
      " |-- destination_city: string (nullable = true)\n",
      " |-- class: string (nullable = true)\n",
      " |-- duration: double (nullable = true)\n",
      " |-- days_left: integer (nullable = true)\n",
      " |-- price: integer (nullable = true)\n",
      "\n"
     ]
    }
   ],
   "source": [
    "# Try to print the schema\n",
    "\n",
    "df.printSchema()"
   ]
  },
  {
   "cell_type": "code",
   "execution_count": 4,
   "metadata": {
    "id": "Th55St5AzvgB"
   },
   "outputs": [],
   "source": [
    "from pyspark.sql.types import *\n",
    "from pyspark.sql.functions import *"
   ]
  },
  {
   "cell_type": "code",
   "execution_count": 5,
   "metadata": {
    "id": "tSSBLiv_zvgC",
    "outputId": "d0925270-69ca-4f55-da82-c9e83674c0e4"
   },
   "outputs": [
    {
     "name": "stdout",
     "output_type": "stream",
     "text": [
      "+---+-------+------+-----------+--------------+-----+------------+----------------+-----+--------+---------+-----+\n",
      "|_c0|airline|flight|source_city|departure_time|stops|arrival_time|destination_city|class|duration|days_left|price|\n",
      "+---+-------+------+-----------+--------------+-----+------------+----------------+-----+--------+---------+-----+\n",
      "|  0|      0|     0|          0|             0|    0|           0|               0|    0|       0|        0|    0|\n",
      "+---+-------+------+-----------+--------------+-----+------------+----------------+-----+--------+---------+-----+\n",
      "\n"
     ]
    }
   ],
   "source": [
    "df.select([count(when(isnan(c) | isnull(c),1)).alias(c) for c in df.columns]).show()"
   ]
  },
  {
   "cell_type": "markdown",
   "metadata": {
    "id": "oCF2MlhpzvgC"
   },
   "source": [
    "<h1>Data Preprocessing"
   ]
  },
  {
   "cell_type": "code",
   "execution_count": 6,
   "metadata": {
    "id": "2O_9VhpAzvgE"
   },
   "outputs": [],
   "source": [
    "from pyspark.ml.feature import Normalizer,VectorAssembler, StringIndexer\n",
    "from pyspark.ml import Pipeline"
   ]
  },
  {
   "cell_type": "code",
   "execution_count": 7,
   "metadata": {
    "id": "vw7DcHiwzvgF"
   },
   "outputs": [],
   "source": [
    "from pyspark.sql.functions import col, max as spark_max, abs as spark_abs\n",
    "\n",
    "max_abs_value = df.select(spark_max(spark_abs(col(\"price\"))).alias(\"max_abs_value\")).collect()[0][\"max_abs_value\"]\n"
   ]
  },
  {
   "cell_type": "code",
   "execution_count": 8,
   "metadata": {
    "id": "4hKKVEK-zvgG",
    "outputId": "025e870b-b84b-478f-e65d-30b6d01a7316"
   },
   "outputs": [
    {
     "name": "stdout",
     "output_type": "stream",
     "text": [
      "123071\n"
     ]
    },
    {
     "data": {
      "text/plain": [
       "6"
      ]
     },
     "execution_count": 8,
     "metadata": {},
     "output_type": "execute_result"
    }
   ],
   "source": [
    "print(max_abs_value)\n",
    "len(str(int(max_abs_value)))"
   ]
  },
  {
   "cell_type": "code",
   "execution_count": 9,
   "metadata": {
    "id": "radlP9JZzvgH",
    "outputId": "0ccb8a69-3d3d-49d7-db53-44edfff5d039"
   },
   "outputs": [
    {
     "name": "stdout",
     "output_type": "stream",
     "text": [
      "+---+---------+-------+-----------+--------------+-----+-------------+----------------+-------+--------+---------+-----+----------------+\n",
      "|_c0|  airline| flight|source_city|departure_time|stops| arrival_time|destination_city|  class|duration|days_left|price|normalized_price|\n",
      "+---+---------+-------+-----------+--------------+-----+-------------+----------------+-------+--------+---------+-----+----------------+\n",
      "|  0| SpiceJet|SG-8709|      Delhi|       Evening| zero|        Night|          Mumbai|Economy|    2.17|        1| 5953|         0.05953|\n",
      "|  1| SpiceJet|SG-8157|      Delhi| Early_Morning| zero|      Morning|          Mumbai|Economy|    2.33|        1| 5953|         0.05953|\n",
      "|  2|  AirAsia| I5-764|      Delhi| Early_Morning| zero|Early_Morning|          Mumbai|Economy|    2.17|        1| 5956|         0.05956|\n",
      "|  3|  Vistara| UK-995|      Delhi|       Morning| zero|    Afternoon|          Mumbai|Economy|    2.25|        1| 5955|         0.05955|\n",
      "|  4|  Vistara| UK-963|      Delhi|       Morning| zero|      Morning|          Mumbai|Economy|    2.33|        1| 5955|         0.05955|\n",
      "|  5|  Vistara| UK-945|      Delhi|       Morning| zero|    Afternoon|          Mumbai|Economy|    2.33|        1| 5955|         0.05955|\n",
      "|  6|  Vistara| UK-927|      Delhi|       Morning| zero|      Morning|          Mumbai|Economy|    2.08|        1| 6060|          0.0606|\n",
      "|  7|  Vistara| UK-951|      Delhi|     Afternoon| zero|      Evening|          Mumbai|Economy|    2.17|        1| 6060|          0.0606|\n",
      "|  8| GO_FIRST| G8-334|      Delhi| Early_Morning| zero|      Morning|          Mumbai|Economy|    2.17|        1| 5954|         0.05954|\n",
      "|  9| GO_FIRST| G8-336|      Delhi|     Afternoon| zero|      Evening|          Mumbai|Economy|    2.25|        1| 5954|         0.05954|\n",
      "| 10| GO_FIRST| G8-392|      Delhi|     Afternoon| zero|      Evening|          Mumbai|Economy|    2.25|        1| 5954|         0.05954|\n",
      "| 11| GO_FIRST| G8-338|      Delhi|       Morning| zero|    Afternoon|          Mumbai|Economy|    2.33|        1| 5954|         0.05954|\n",
      "| 12|   Indigo|6E-5001|      Delhi| Early_Morning| zero|      Morning|          Mumbai|Economy|    2.17|        1| 5955|         0.05955|\n",
      "| 13|   Indigo|6E-6202|      Delhi|       Morning| zero|    Afternoon|          Mumbai|Economy|    2.17|        1| 5955|         0.05955|\n",
      "| 14|   Indigo| 6E-549|      Delhi|     Afternoon| zero|      Evening|          Mumbai|Economy|    2.25|        1| 5955|         0.05955|\n",
      "| 15|   Indigo|6E-6278|      Delhi|       Morning| zero|      Morning|          Mumbai|Economy|    2.33|        1| 5955|         0.05955|\n",
      "| 16|Air_India| AI-887|      Delhi| Early_Morning| zero|      Morning|          Mumbai|Economy|    2.08|        1| 5955|         0.05955|\n",
      "| 17|Air_India| AI-665|      Delhi| Early_Morning| zero|      Morning|          Mumbai|Economy|    2.17|        1| 5955|         0.05955|\n",
      "| 18|  AirAsia| I5-747|      Delhi|       Evening|  one|Early_Morning|          Mumbai|Economy|   12.25|        1| 5949|         0.05949|\n",
      "| 19|  AirAsia| I5-747|      Delhi|       Evening|  one|      Morning|          Mumbai|Economy|   16.33|        1| 5949|         0.05949|\n",
      "| 20| GO_FIRST| G8-266|      Delhi| Early_Morning|  one|      Evening|          Mumbai|Economy|   11.75|        1| 5954|         0.05954|\n",
      "| 21| GO_FIRST| G8-101|      Delhi| Early_Morning|  one|        Night|          Mumbai|Economy|    14.5|        1| 5954|         0.05954|\n",
      "| 22| GO_FIRST| G8-103|      Delhi|       Evening|  one|      Morning|          Mumbai|Economy|   15.67|        1| 5954|         0.05954|\n",
      "| 23|Air_India| AI-441|      Delhi|       Evening|  one|        Night|          Mumbai|Economy|    3.75|        1| 5955|         0.05955|\n",
      "| 24|   Indigo|6E-5328|      Delhi|       Morning| zero|      Morning|          Mumbai|Economy|     2.5|        1| 6165|         0.06165|\n",
      "| 25|  Vistara| UK-933|      Delhi|     Afternoon| zero|      Evening|          Mumbai|Economy|    2.17|        1| 6690|          0.0669|\n",
      "| 26|   Indigo|6E-2046|      Delhi|       Evening| zero|      Evening|          Mumbai|Economy|    2.17|        1| 6585|         0.06585|\n",
      "| 27|  AirAsia| I5-744|      Delhi|       Morning|  one|    Afternoon|          Mumbai|Economy|    5.83|        1| 8869|         0.08869|\n",
      "| 28| SpiceJet|SG-8169|      Delhi|       Evening| zero|        Night|          Mumbai|Economy|    2.33|        1|10260|          0.1026|\n",
      "| 29|   Indigo|6E-5041|      Delhi|       Evening| zero|        Night|          Mumbai|Economy|    2.17|        1|10470|          0.1047|\n",
      "+---+---------+-------+-----------+--------------+-----+-------------+----------------+-------+--------+---------+-----+----------------+\n",
      "only showing top 30 rows\n",
      "\n"
     ]
    }
   ],
   "source": [
    "scaling_factor = 10 ** (len(str(int(max_abs_value)))-1)\n",
    "df = df.withColumn(\"normalized_price\", col(\"price\") / scaling_factor)\n",
    "df.show(30,truncate=50)"
   ]
  },
  {
   "cell_type": "code",
   "execution_count": 10,
   "metadata": {
    "id": "WU4b4AoDzvgJ"
   },
   "outputs": [],
   "source": [
    "column_name = df.columns"
   ]
  },
  {
   "cell_type": "code",
   "execution_count": 11,
   "metadata": {
    "id": "XCBJ0fZRzvgN",
    "outputId": "730e48b3-a2e3-430b-b533-32451adca987"
   },
   "outputs": [
    {
     "name": "stdout",
     "output_type": "stream",
     "text": [
      "['airline', 'source_city', 'departure_time', 'stops', 'arrival_time', 'destination_city', 'class', 'duration', 'days_left', 'normalized_price']\n"
     ]
    }
   ],
   "source": [
    "column_name.remove('_c0')\n",
    "column_name.remove('price')\n",
    "column_name.remove('flight')\n",
    "print(column_name)"
   ]
  },
  {
   "cell_type": "code",
   "execution_count": 12,
   "metadata": {
    "id": "wSvD6j9AzvgO",
    "outputId": "61fb97e0-511a-4597-c1af-7b8be44066d0"
   },
   "outputs": [
    {
     "name": "stdout",
     "output_type": "stream",
     "text": [
      "+---------+-----------+--------------+-----+-------------+----------------+-------+--------+---------+----------------+-----------+---------+---------+\n",
      "|  airline|source_city|departure_time|stops| arrival_time|destination_city|  class|duration|days_left|normalized_price|airline_idx|stops_idx|class_idx|\n",
      "+---------+-----------+--------------+-----+-------------+----------------+-------+--------+---------+----------------+-----------+---------+---------+\n",
      "| SpiceJet|      Delhi|       Evening| zero|        Night|          Mumbai|Economy|    2.17|        1|         0.05953|        5.0|      1.0|      0.0|\n",
      "| SpiceJet|      Delhi| Early_Morning| zero|      Morning|          Mumbai|Economy|    2.33|        1|         0.05953|        5.0|      1.0|      0.0|\n",
      "|  AirAsia|      Delhi| Early_Morning| zero|Early_Morning|          Mumbai|Economy|    2.17|        1|         0.05956|        4.0|      1.0|      0.0|\n",
      "|  Vistara|      Delhi|       Morning| zero|    Afternoon|          Mumbai|Economy|    2.25|        1|         0.05955|        0.0|      1.0|      0.0|\n",
      "|  Vistara|      Delhi|       Morning| zero|      Morning|          Mumbai|Economy|    2.33|        1|         0.05955|        0.0|      1.0|      0.0|\n",
      "|  Vistara|      Delhi|       Morning| zero|    Afternoon|          Mumbai|Economy|    2.33|        1|         0.05955|        0.0|      1.0|      0.0|\n",
      "|  Vistara|      Delhi|       Morning| zero|      Morning|          Mumbai|Economy|    2.08|        1|          0.0606|        0.0|      1.0|      0.0|\n",
      "|  Vistara|      Delhi|     Afternoon| zero|      Evening|          Mumbai|Economy|    2.17|        1|          0.0606|        0.0|      1.0|      0.0|\n",
      "| GO_FIRST|      Delhi| Early_Morning| zero|      Morning|          Mumbai|Economy|    2.17|        1|         0.05954|        3.0|      1.0|      0.0|\n",
      "| GO_FIRST|      Delhi|     Afternoon| zero|      Evening|          Mumbai|Economy|    2.25|        1|         0.05954|        3.0|      1.0|      0.0|\n",
      "| GO_FIRST|      Delhi|     Afternoon| zero|      Evening|          Mumbai|Economy|    2.25|        1|         0.05954|        3.0|      1.0|      0.0|\n",
      "| GO_FIRST|      Delhi|       Morning| zero|    Afternoon|          Mumbai|Economy|    2.33|        1|         0.05954|        3.0|      1.0|      0.0|\n",
      "|   Indigo|      Delhi| Early_Morning| zero|      Morning|          Mumbai|Economy|    2.17|        1|         0.05955|        2.0|      1.0|      0.0|\n",
      "|   Indigo|      Delhi|       Morning| zero|    Afternoon|          Mumbai|Economy|    2.17|        1|         0.05955|        2.0|      1.0|      0.0|\n",
      "|   Indigo|      Delhi|     Afternoon| zero|      Evening|          Mumbai|Economy|    2.25|        1|         0.05955|        2.0|      1.0|      0.0|\n",
      "|   Indigo|      Delhi|       Morning| zero|      Morning|          Mumbai|Economy|    2.33|        1|         0.05955|        2.0|      1.0|      0.0|\n",
      "|Air_India|      Delhi| Early_Morning| zero|      Morning|          Mumbai|Economy|    2.08|        1|         0.05955|        1.0|      1.0|      0.0|\n",
      "|Air_India|      Delhi| Early_Morning| zero|      Morning|          Mumbai|Economy|    2.17|        1|         0.05955|        1.0|      1.0|      0.0|\n",
      "|  AirAsia|      Delhi|       Evening|  one|Early_Morning|          Mumbai|Economy|   12.25|        1|         0.05949|        4.0|      0.0|      0.0|\n",
      "|  AirAsia|      Delhi|       Evening|  one|      Morning|          Mumbai|Economy|   16.33|        1|         0.05949|        4.0|      0.0|      0.0|\n",
      "+---------+-----------+--------------+-----+-------------+----------------+-------+--------+---------+----------------+-----------+---------+---------+\n",
      "only showing top 20 rows\n",
      "\n"
     ]
    }
   ],
   "source": [
    "final_df = df.select(column_name)\n",
    "\n",
    "\n",
    "indexers = [StringIndexer(inputCol=col, outputCol=col+'_idx').fit(final_df) for col in ['airline', 'stops','class']]\n",
    "pipeline = Pipeline(stages=indexers)\n",
    "final_df = pipeline.fit(final_df).transform(final_df)\n",
    "final_df.show()"
   ]
  },
  {
   "cell_type": "code",
   "execution_count": 13,
   "metadata": {},
   "outputs": [
    {
     "name": "stdout",
     "output_type": "stream",
     "text": [
      "+---------+-----------+--------------+-----+-------------+----------------+-------+--------+---------+----------------+-----------+---------+---------+---------------+------------------+--------------------+----------------+\n",
      "|  airline|source_city|departure_time|stops| arrival_time|destination_city|  class|duration|days_left|normalized_price|airline_idx|stops_idx|class_idx|source_city_idx|departure_time_idx|destination_city_idx|arrival_time_idx|\n",
      "+---------+-----------+--------------+-----+-------------+----------------+-------+--------+---------+----------------+-----------+---------+---------+---------------+------------------+--------------------+----------------+\n",
      "| SpiceJet|      Delhi|       Evening| zero|        Night|          Mumbai|Economy|    2.17|        1|         0.05953|        5.0|      1.0|      0.0|            2.0|               2.0|                 5.0|             5.0|\n",
      "| SpiceJet|      Delhi| Early_Morning| zero|      Morning|          Mumbai|Economy|    2.33|        1|         0.05953|        5.0|      1.0|      0.0|            2.0|               1.0|                 5.0|             4.0|\n",
      "|  AirAsia|      Delhi| Early_Morning| zero|Early_Morning|          Mumbai|Economy|    2.17|        1|         0.05956|        4.0|      1.0|      0.0|            2.0|               1.0|                 5.0|             1.0|\n",
      "|  Vistara|      Delhi|       Morning| zero|    Afternoon|          Mumbai|Economy|    2.25|        1|         0.05955|        0.0|      1.0|      0.0|            2.0|               4.0|                 5.0|             0.0|\n",
      "|  Vistara|      Delhi|       Morning| zero|      Morning|          Mumbai|Economy|    2.33|        1|         0.05955|        0.0|      1.0|      0.0|            2.0|               4.0|                 5.0|             4.0|\n",
      "|  Vistara|      Delhi|       Morning| zero|    Afternoon|          Mumbai|Economy|    2.33|        1|         0.05955|        0.0|      1.0|      0.0|            2.0|               4.0|                 5.0|             0.0|\n",
      "|  Vistara|      Delhi|       Morning| zero|      Morning|          Mumbai|Economy|    2.08|        1|          0.0606|        0.0|      1.0|      0.0|            2.0|               4.0|                 5.0|             4.0|\n",
      "|  Vistara|      Delhi|     Afternoon| zero|      Evening|          Mumbai|Economy|    2.17|        1|          0.0606|        0.0|      1.0|      0.0|            2.0|               0.0|                 5.0|             2.0|\n",
      "| GO_FIRST|      Delhi| Early_Morning| zero|      Morning|          Mumbai|Economy|    2.17|        1|         0.05954|        3.0|      1.0|      0.0|            2.0|               1.0|                 5.0|             4.0|\n",
      "| GO_FIRST|      Delhi|     Afternoon| zero|      Evening|          Mumbai|Economy|    2.25|        1|         0.05954|        3.0|      1.0|      0.0|            2.0|               0.0|                 5.0|             2.0|\n",
      "| GO_FIRST|      Delhi|     Afternoon| zero|      Evening|          Mumbai|Economy|    2.25|        1|         0.05954|        3.0|      1.0|      0.0|            2.0|               0.0|                 5.0|             2.0|\n",
      "| GO_FIRST|      Delhi|       Morning| zero|    Afternoon|          Mumbai|Economy|    2.33|        1|         0.05954|        3.0|      1.0|      0.0|            2.0|               4.0|                 5.0|             0.0|\n",
      "|   Indigo|      Delhi| Early_Morning| zero|      Morning|          Mumbai|Economy|    2.17|        1|         0.05955|        2.0|      1.0|      0.0|            2.0|               1.0|                 5.0|             4.0|\n",
      "|   Indigo|      Delhi|       Morning| zero|    Afternoon|          Mumbai|Economy|    2.17|        1|         0.05955|        2.0|      1.0|      0.0|            2.0|               4.0|                 5.0|             0.0|\n",
      "|   Indigo|      Delhi|     Afternoon| zero|      Evening|          Mumbai|Economy|    2.25|        1|         0.05955|        2.0|      1.0|      0.0|            2.0|               0.0|                 5.0|             2.0|\n",
      "|   Indigo|      Delhi|       Morning| zero|      Morning|          Mumbai|Economy|    2.33|        1|         0.05955|        2.0|      1.0|      0.0|            2.0|               4.0|                 5.0|             4.0|\n",
      "|Air_India|      Delhi| Early_Morning| zero|      Morning|          Mumbai|Economy|    2.08|        1|         0.05955|        1.0|      1.0|      0.0|            2.0|               1.0|                 5.0|             4.0|\n",
      "|Air_India|      Delhi| Early_Morning| zero|      Morning|          Mumbai|Economy|    2.17|        1|         0.05955|        1.0|      1.0|      0.0|            2.0|               1.0|                 5.0|             4.0|\n",
      "|  AirAsia|      Delhi|       Evening|  one|Early_Morning|          Mumbai|Economy|   12.25|        1|         0.05949|        4.0|      0.0|      0.0|            2.0|               2.0|                 5.0|             1.0|\n",
      "|  AirAsia|      Delhi|       Evening|  one|      Morning|          Mumbai|Economy|   16.33|        1|         0.05949|        4.0|      0.0|      0.0|            2.0|               2.0|                 5.0|             4.0|\n",
      "+---------+-----------+--------------+-----+-------------+----------------+-------+--------+---------+----------------+-----------+---------+---------+---------------+------------------+--------------------+----------------+\n",
      "only showing top 20 rows\n",
      "\n"
     ]
    }
   ],
   "source": [
    "# from pyspark.ml.feature import StringIndexer\n",
    "indexers = [StringIndexer(inputCol=col, outputCol=col+'_idx', stringOrderType=\"alphabetAsc\").fit(final_df) for col in ['source_city', \"departure_time\",'destination_city','arrival_time']]\n",
    "# indexers = StringIndexer(inputCol=\"departure_time\", outputCol=\"category_index\", stringOrderType=\"alphabetAsc\")\n",
    "pipeline = Pipeline(stages=indexers)\n",
    "final_df = pipeline.fit(final_df).transform(final_df)\n",
    "final_df.show()"
   ]
  },
  {
   "cell_type": "code",
   "execution_count": 14,
   "metadata": {
    "id": "HBwkNpQ3zvgO",
    "outputId": "62b7def0-2d66-497e-d3f3-8a00e9367f05"
   },
   "outputs": [
    {
     "name": "stdout",
     "output_type": "stream",
     "text": [
      "+---------+-----------+--------------+-----+-------------+----------------+-------+--------+---------+----------------+-----------+---------+---------+---------------+------------------+--------------------+----------------+---------------------------------------+\n",
      "|  airline|source_city|departure_time|stops| arrival_time|destination_city|  class|duration|days_left|normalized_price|airline_idx|stops_idx|class_idx|source_city_idx|departure_time_idx|destination_city_idx|arrival_time_idx|                               features|\n",
      "+---------+-----------+--------------+-----+-------------+----------------+-------+--------+---------+----------------+-----------+---------+---------+---------------+------------------+--------------------+----------------+---------------------------------------+\n",
      "| SpiceJet|      Delhi|       Evening| zero|        Night|          Mumbai|Economy|    2.17|        1|         0.05953|        5.0|      1.0|      0.0|            2.0|               2.0|                 5.0|             5.0| [5.0,2.0,2.0,1.0,5.0,5.0,0.0,2.17,1.0]|\n",
      "| SpiceJet|      Delhi| Early_Morning| zero|      Morning|          Mumbai|Economy|    2.33|        1|         0.05953|        5.0|      1.0|      0.0|            2.0|               1.0|                 5.0|             4.0| [5.0,2.0,1.0,1.0,4.0,5.0,0.0,2.33,1.0]|\n",
      "|  AirAsia|      Delhi| Early_Morning| zero|Early_Morning|          Mumbai|Economy|    2.17|        1|         0.05956|        4.0|      1.0|      0.0|            2.0|               1.0|                 5.0|             1.0| [4.0,2.0,1.0,1.0,1.0,5.0,0.0,2.17,1.0]|\n",
      "|  Vistara|      Delhi|       Morning| zero|    Afternoon|          Mumbai|Economy|    2.25|        1|         0.05955|        0.0|      1.0|      0.0|            2.0|               4.0|                 5.0|             0.0| [0.0,2.0,4.0,1.0,0.0,5.0,0.0,2.25,1.0]|\n",
      "|  Vistara|      Delhi|       Morning| zero|      Morning|          Mumbai|Economy|    2.33|        1|         0.05955|        0.0|      1.0|      0.0|            2.0|               4.0|                 5.0|             4.0| [0.0,2.0,4.0,1.0,4.0,5.0,0.0,2.33,1.0]|\n",
      "|  Vistara|      Delhi|       Morning| zero|    Afternoon|          Mumbai|Economy|    2.33|        1|         0.05955|        0.0|      1.0|      0.0|            2.0|               4.0|                 5.0|             0.0| [0.0,2.0,4.0,1.0,0.0,5.0,0.0,2.33,1.0]|\n",
      "|  Vistara|      Delhi|       Morning| zero|      Morning|          Mumbai|Economy|    2.08|        1|          0.0606|        0.0|      1.0|      0.0|            2.0|               4.0|                 5.0|             4.0| [0.0,2.0,4.0,1.0,4.0,5.0,0.0,2.08,1.0]|\n",
      "|  Vistara|      Delhi|     Afternoon| zero|      Evening|          Mumbai|Economy|    2.17|        1|          0.0606|        0.0|      1.0|      0.0|            2.0|               0.0|                 5.0|             2.0| [0.0,2.0,0.0,1.0,2.0,5.0,0.0,2.17,1.0]|\n",
      "| GO_FIRST|      Delhi| Early_Morning| zero|      Morning|          Mumbai|Economy|    2.17|        1|         0.05954|        3.0|      1.0|      0.0|            2.0|               1.0|                 5.0|             4.0| [3.0,2.0,1.0,1.0,4.0,5.0,0.0,2.17,1.0]|\n",
      "| GO_FIRST|      Delhi|     Afternoon| zero|      Evening|          Mumbai|Economy|    2.25|        1|         0.05954|        3.0|      1.0|      0.0|            2.0|               0.0|                 5.0|             2.0| [3.0,2.0,0.0,1.0,2.0,5.0,0.0,2.25,1.0]|\n",
      "| GO_FIRST|      Delhi|     Afternoon| zero|      Evening|          Mumbai|Economy|    2.25|        1|         0.05954|        3.0|      1.0|      0.0|            2.0|               0.0|                 5.0|             2.0| [3.0,2.0,0.0,1.0,2.0,5.0,0.0,2.25,1.0]|\n",
      "| GO_FIRST|      Delhi|       Morning| zero|    Afternoon|          Mumbai|Economy|    2.33|        1|         0.05954|        3.0|      1.0|      0.0|            2.0|               4.0|                 5.0|             0.0| [3.0,2.0,4.0,1.0,0.0,5.0,0.0,2.33,1.0]|\n",
      "|   Indigo|      Delhi| Early_Morning| zero|      Morning|          Mumbai|Economy|    2.17|        1|         0.05955|        2.0|      1.0|      0.0|            2.0|               1.0|                 5.0|             4.0| [2.0,2.0,1.0,1.0,4.0,5.0,0.0,2.17,1.0]|\n",
      "|   Indigo|      Delhi|       Morning| zero|    Afternoon|          Mumbai|Economy|    2.17|        1|         0.05955|        2.0|      1.0|      0.0|            2.0|               4.0|                 5.0|             0.0| [2.0,2.0,4.0,1.0,0.0,5.0,0.0,2.17,1.0]|\n",
      "|   Indigo|      Delhi|     Afternoon| zero|      Evening|          Mumbai|Economy|    2.25|        1|         0.05955|        2.0|      1.0|      0.0|            2.0|               0.0|                 5.0|             2.0| [2.0,2.0,0.0,1.0,2.0,5.0,0.0,2.25,1.0]|\n",
      "|   Indigo|      Delhi|       Morning| zero|      Morning|          Mumbai|Economy|    2.33|        1|         0.05955|        2.0|      1.0|      0.0|            2.0|               4.0|                 5.0|             4.0| [2.0,2.0,4.0,1.0,4.0,5.0,0.0,2.33,1.0]|\n",
      "|Air_India|      Delhi| Early_Morning| zero|      Morning|          Mumbai|Economy|    2.08|        1|         0.05955|        1.0|      1.0|      0.0|            2.0|               1.0|                 5.0|             4.0| [1.0,2.0,1.0,1.0,4.0,5.0,0.0,2.08,1.0]|\n",
      "|Air_India|      Delhi| Early_Morning| zero|      Morning|          Mumbai|Economy|    2.17|        1|         0.05955|        1.0|      1.0|      0.0|            2.0|               1.0|                 5.0|             4.0| [1.0,2.0,1.0,1.0,4.0,5.0,0.0,2.17,1.0]|\n",
      "|  AirAsia|      Delhi|       Evening|  one|Early_Morning|          Mumbai|Economy|   12.25|        1|         0.05949|        4.0|      0.0|      0.0|            2.0|               2.0|                 5.0|             1.0|[4.0,2.0,2.0,0.0,1.0,5.0,0.0,12.25,1.0]|\n",
      "|  AirAsia|      Delhi|       Evening|  one|      Morning|          Mumbai|Economy|   16.33|        1|         0.05949|        4.0|      0.0|      0.0|            2.0|               2.0|                 5.0|             4.0|[4.0,2.0,2.0,0.0,4.0,5.0,0.0,16.33,1.0]|\n",
      "| GO_FIRST|      Delhi| Early_Morning|  one|      Evening|          Mumbai|Economy|   11.75|        1|         0.05954|        3.0|      0.0|      0.0|            2.0|               1.0|                 5.0|             2.0|[3.0,2.0,1.0,0.0,2.0,5.0,0.0,11.75,1.0]|\n",
      "| GO_FIRST|      Delhi| Early_Morning|  one|        Night|          Mumbai|Economy|    14.5|        1|         0.05954|        3.0|      0.0|      0.0|            2.0|               1.0|                 5.0|             5.0| [3.0,2.0,1.0,0.0,5.0,5.0,0.0,14.5,1.0]|\n",
      "| GO_FIRST|      Delhi|       Evening|  one|      Morning|          Mumbai|Economy|   15.67|        1|         0.05954|        3.0|      0.0|      0.0|            2.0|               2.0|                 5.0|             4.0|[3.0,2.0,2.0,0.0,4.0,5.0,0.0,15.67,1.0]|\n",
      "|Air_India|      Delhi|       Evening|  one|        Night|          Mumbai|Economy|    3.75|        1|         0.05955|        1.0|      0.0|      0.0|            2.0|               2.0|                 5.0|             5.0| [1.0,2.0,2.0,0.0,5.0,5.0,0.0,3.75,1.0]|\n",
      "|   Indigo|      Delhi|       Morning| zero|      Morning|          Mumbai|Economy|     2.5|        1|         0.06165|        2.0|      1.0|      0.0|            2.0|               4.0|                 5.0|             4.0|  [2.0,2.0,4.0,1.0,4.0,5.0,0.0,2.5,1.0]|\n",
      "|  Vistara|      Delhi|     Afternoon| zero|      Evening|          Mumbai|Economy|    2.17|        1|          0.0669|        0.0|      1.0|      0.0|            2.0|               0.0|                 5.0|             2.0| [0.0,2.0,0.0,1.0,2.0,5.0,0.0,2.17,1.0]|\n",
      "|   Indigo|      Delhi|       Evening| zero|      Evening|          Mumbai|Economy|    2.17|        1|         0.06585|        2.0|      1.0|      0.0|            2.0|               2.0|                 5.0|             2.0| [2.0,2.0,2.0,1.0,2.0,5.0,0.0,2.17,1.0]|\n",
      "|  AirAsia|      Delhi|       Morning|  one|    Afternoon|          Mumbai|Economy|    5.83|        1|         0.08869|        4.0|      0.0|      0.0|            2.0|               4.0|                 5.0|             0.0| [4.0,2.0,4.0,0.0,0.0,5.0,0.0,5.83,1.0]|\n",
      "| SpiceJet|      Delhi|       Evening| zero|        Night|          Mumbai|Economy|    2.33|        1|          0.1026|        5.0|      1.0|      0.0|            2.0|               2.0|                 5.0|             5.0| [5.0,2.0,2.0,1.0,5.0,5.0,0.0,2.33,1.0]|\n",
      "|   Indigo|      Delhi|       Evening| zero|        Night|          Mumbai|Economy|    2.17|        1|          0.1047|        2.0|      1.0|      0.0|            2.0|               2.0|                 5.0|             5.0| [2.0,2.0,2.0,1.0,5.0,5.0,0.0,2.17,1.0]|\n",
      "+---------+-----------+--------------+-----+-------------+----------------+-------+--------+---------+----------------+-----------+---------+---------+---------------+------------------+--------------------+----------------+---------------------------------------+\n",
      "only showing top 30 rows\n",
      "\n"
     ]
    }
   ],
   "source": [
    "assembler = VectorAssembler(inputCols=['airline_idx', 'source_city_idx', 'departure_time_idx', 'stops_idx', 'arrival_time_idx', 'destination_city_idx', 'class_idx','duration', 'days_left'], outputCol=\"features\")\n",
    "final_df = assembler.transform(final_df)\n",
    "final_df.show(30,truncate=50)"
   ]
  },
  {
   "cell_type": "code",
   "execution_count": 15,
   "metadata": {},
   "outputs": [
    {
     "name": "stdout",
     "output_type": "stream",
     "text": [
      "+--------+-----------+--------------+-----+------------+----------------+-------+--------+---------+----------------+-----------+---------+---------+---------------+------------------+--------------------+----------------+----------+--------------+\n",
      "| airline|source_city|departure_time|stops|arrival_time|destination_city|  class|duration|days_left|normalized_price|airline_idx|stops_idx|class_idx|source_city_idx|departure_time_idx|destination_city_idx|arrival_time_idx|  features|scaledFeatures|\n",
      "+--------+-----------+--------------+-----+------------+----------------+-------+--------+---------+----------------+-----------+---------+---------+---------------+------------------+--------------------+----------------+----------+--------------+\n",
      "|SpiceJet|      Delhi|       Evening| zero|       Night|          Mumbai|Economy|    2.17|        1|         0.05953|        5.0|      1.0|      0.0|            2.0|               2.0|                 5.0|             5.0|[5.0,2....|    [2.8530...|\n",
      "|SpiceJet|      Delhi|    Early_M...| zero|     Morning|          Mumbai|Economy|    2.33|        1|         0.05953|        5.0|      1.0|      0.0|            2.0|               1.0|                 5.0|             4.0|[5.0,2....|    [2.8530...|\n",
      "| AirAsia|      Delhi|    Early_M...| zero|  Early_M...|          Mumbai|Economy|    2.17|        1|         0.05956|        4.0|      1.0|      0.0|            2.0|               1.0|                 5.0|             1.0|[4.0,2....|    [2.1114...|\n",
      "| Vistara|      Delhi|       Morning| zero|   Afternoon|          Mumbai|Economy|    2.25|        1|         0.05955|        0.0|      1.0|      0.0|            2.0|               4.0|                 5.0|             0.0|[0.0,2....|    [-0.855...|\n",
      "| Vistara|      Delhi|       Morning| zero|     Morning|          Mumbai|Economy|    2.33|        1|         0.05955|        0.0|      1.0|      0.0|            2.0|               4.0|                 5.0|             4.0|[0.0,2....|    [-0.855...|\n",
      "| Vistara|      Delhi|       Morning| zero|   Afternoon|          Mumbai|Economy|    2.33|        1|         0.05955|        0.0|      1.0|      0.0|            2.0|               4.0|                 5.0|             0.0|[0.0,2....|    [-0.855...|\n",
      "| Vistara|      Delhi|       Morning| zero|     Morning|          Mumbai|Economy|    2.08|        1|          0.0606|        0.0|      1.0|      0.0|            2.0|               4.0|                 5.0|             4.0|[0.0,2....|    [-0.855...|\n",
      "| Vistara|      Delhi|     Afternoon| zero|     Evening|          Mumbai|Economy|    2.17|        1|          0.0606|        0.0|      1.0|      0.0|            2.0|               0.0|                 5.0|             2.0|[0.0,2....|    [-0.855...|\n",
      "|GO_FIRST|      Delhi|    Early_M...| zero|     Morning|          Mumbai|Economy|    2.17|        1|         0.05954|        3.0|      1.0|      0.0|            2.0|               1.0|                 5.0|             4.0|[3.0,2....|    [1.3697...|\n",
      "|GO_FIRST|      Delhi|     Afternoon| zero|     Evening|          Mumbai|Economy|    2.25|        1|         0.05954|        3.0|      1.0|      0.0|            2.0|               0.0|                 5.0|             2.0|[3.0,2....|    [1.3697...|\n",
      "+--------+-----------+--------------+-----+------------+----------------+-------+--------+---------+----------------+-----------+---------+---------+---------------+------------------+--------------------+----------------+----------+--------------+\n",
      "only showing top 10 rows\n",
      "\n"
     ]
    }
   ],
   "source": [
    "# Initialize the StandardScaler\n",
    "from pyspark.ml.feature import StandardScaler\n",
    "\n",
    "scaler = StandardScaler(inputCol=\"features\", outputCol=\"scaledFeatures\", withMean=True, withStd=True)\n",
    "\n",
    "# Fit the scaler to the data\n",
    "scaler_model = scaler.fit(final_df)\n",
    "\n",
    "# Transform the data\n",
    "final_df = scaler_model.transform(final_df)\n",
    "\n",
    "final_df.show(10,truncate=10)"
   ]
  },
  {
   "cell_type": "code",
   "execution_count": 16,
   "metadata": {},
   "outputs": [],
   "source": [
    "from pyspark.ml.feature import PCA\n",
    "\n",
    "\n",
    "pca = PCA(k=2, inputCol=\"scaledFeatures\", outputCol=\"pcafeatures\")\n",
    "model = pca.fit(final_df)\n",
    "\n",
    "# Step 5: Transform Data\n",
    "final_df = model.transform(final_df)\n"
   ]
  },
  {
   "cell_type": "code",
   "execution_count": 17,
   "metadata": {},
   "outputs": [
    {
     "name": "stdout",
     "output_type": "stream",
     "text": [
      "+--------+-----------+--------------+-----+-------------+----------------+-------+--------+---------+----------------+-----------+---------+---------+---------------+------------------+--------------------+----------------+--------------------------------------+--------------------------------------------------+----------------------------------------+\n",
      "| airline|source_city|departure_time|stops| arrival_time|destination_city|  class|duration|days_left|normalized_price|airline_idx|stops_idx|class_idx|source_city_idx|departure_time_idx|destination_city_idx|arrival_time_idx|                              features|                                    scaledFeatures|                             pcafeatures|\n",
      "+--------+-----------+--------------+-----+-------------+----------------+-------+--------+---------+----------------+-----------+---------+---------+---------------+------------------+--------------------+----------------+--------------------------------------+--------------------------------------------------+----------------------------------------+\n",
      "|SpiceJet|      Delhi|       Evening| zero|        Night|          Mumbai|Economy|    2.17|        1|         0.05953|        5.0|      1.0|      0.0|            2.0|               2.0|                 5.0|             5.0|[5.0,2.0,2.0,1.0,5.0,5.0,0.0,2.17,1.0]|[2.8530491760028016,-0.3297206977135204,-0.2378...|[-3.1227313170319326,0.8195523333926981]|\n",
      "|SpiceJet|      Delhi| Early_Morning| zero|      Morning|          Mumbai|Economy|    2.33|        1|         0.05953|        5.0|      1.0|      0.0|            2.0|               1.0|                 5.0|             4.0|[5.0,2.0,1.0,1.0,4.0,5.0,0.0,2.33,1.0]|[2.8530491760028016,-0.3297206977135204,-0.8079...|[-3.2441211351582537,0.9389984415144089]|\n",
      "| AirAsia|      Delhi| Early_Morning| zero|Early_Morning|          Mumbai|Economy|    2.17|        1|         0.05956|        4.0|      1.0|      0.0|            2.0|               1.0|                 5.0|             1.0|[4.0,2.0,1.0,1.0,1.0,5.0,0.0,2.17,1.0]|[2.111405681103607,-0.3297206977135204,-0.80793...| [-2.909630238064748,1.3489209830782212]|\n",
      "| Vistara|      Delhi|       Morning| zero|    Afternoon|          Mumbai|Economy|    2.25|        1|         0.05955|        0.0|      1.0|      0.0|            2.0|               4.0|                 5.0|             0.0|[0.0,2.0,4.0,1.0,0.0,5.0,0.0,2.25,1.0]|[-0.8551682984931708,-0.3297206977135204,0.9021...|[-0.9312843519479208,1.4337267897901353]|\n",
      "| Vistara|      Delhi|       Morning| zero|      Morning|          Mumbai|Economy|    2.33|        1|         0.05955|        0.0|      1.0|      0.0|            2.0|               4.0|                 5.0|             4.0|[0.0,2.0,4.0,1.0,4.0,5.0,0.0,2.33,1.0]|[-0.8551682984931708,-0.3297206977135204,0.9021...|[-0.8280395935471081,0.8337296928415222]|\n",
      "| Vistara|      Delhi|       Morning| zero|    Afternoon|          Mumbai|Economy|    2.33|        1|         0.05955|        0.0|      1.0|      0.0|            2.0|               4.0|                 5.0|             0.0|[0.0,2.0,4.0,1.0,0.0,5.0,0.0,2.33,1.0]|[-0.8551682984931708,-0.3297206977135204,0.9021...|[-0.9259210191354426,1.4339920327685218]|\n",
      "| Vistara|      Delhi|       Morning| zero|      Morning|          Mumbai|Economy|    2.08|        1|          0.0606|        0.0|      1.0|      0.0|            2.0|               4.0|                 5.0|             4.0|[0.0,2.0,4.0,1.0,4.0,5.0,0.0,2.08,1.0]|[-0.8551682984931708,-0.3297206977135204,0.9021...|[-0.8448000085861026,0.8329008085340645]|\n",
      "| Vistara|      Delhi|     Afternoon| zero|      Evening|          Mumbai|Economy|    2.17|        1|          0.0606|        0.0|      1.0|      0.0|            2.0|               0.0|                 5.0|             2.0|[0.0,2.0,0.0,1.0,2.0,5.0,0.0,2.17,1.0]|[-0.8551682984931708,-0.3297206977135204,-1.377...| [-1.318291481383006,1.0087305255810015]|\n",
      "|GO_FIRST|      Delhi| Early_Morning| zero|      Morning|          Mumbai|Economy|    2.17|        1|         0.05954|        3.0|      1.0|      0.0|            2.0|               1.0|                 5.0|             4.0|[3.0,2.0,1.0,1.0,4.0,5.0,0.0,2.17,1.0]|[1.3697621862044125,-0.3297206977135204,-0.8079...|  [-2.417590536963784,0.858980500708307]|\n",
      "|GO_FIRST|      Delhi|     Afternoon| zero|      Evening|          Mumbai|Economy|    2.25|        1|         0.05954|        3.0|      1.0|      0.0|            2.0|               0.0|                 5.0|             2.0|[3.0,2.0,0.0,1.0,2.0,5.0,0.0,2.25,1.0]|[1.3697621862044125,-0.3297206977135204,-1.3779...|[-2.5688140442996663,1.1282269508333813]|\n",
      "+--------+-----------+--------------+-----+-------------+----------------+-------+--------+---------+----------------+-----------+---------+---------+---------------+------------------+--------------------+----------------+--------------------------------------+--------------------------------------------------+----------------------------------------+\n",
      "only showing top 10 rows\n",
      "\n"
     ]
    }
   ],
   "source": [
    "final_df.show(10, truncate=50)"
   ]
  },
  {
   "cell_type": "code",
   "execution_count": 18,
   "metadata": {
    "id": "4gQPhxtGzvgO",
    "outputId": "42e626ca-a217-4f7c-ce74-d92200ea902c"
   },
   "outputs": [
    {
     "name": "stdout",
     "output_type": "stream",
     "text": [
      "+---------------------------------------+----------------------------------------+----------------+\n",
      "|features                               |pcafeatures                             |normalized_price|\n",
      "+---------------------------------------+----------------------------------------+----------------+\n",
      "|[5.0,2.0,2.0,1.0,5.0,5.0,0.0,2.17,1.0] |[-3.1227313170319326,0.8195523333926981]|0.05953         |\n",
      "|[5.0,2.0,1.0,1.0,4.0,5.0,0.0,2.33,1.0] |[-3.2441211351582537,0.9389984415144089]|0.05953         |\n",
      "|[4.0,2.0,1.0,1.0,1.0,5.0,0.0,2.17,1.0] |[-2.909630238064748,1.3489209830782212] |0.05956         |\n",
      "|[0.0,2.0,4.0,1.0,0.0,5.0,0.0,2.25,1.0] |[-0.9312843519479208,1.4337267897901353]|0.05955         |\n",
      "|[0.0,2.0,4.0,1.0,4.0,5.0,0.0,2.33,1.0] |[-0.8280395935471081,0.8337296928415222]|0.05955         |\n",
      "|[0.0,2.0,4.0,1.0,0.0,5.0,0.0,2.33,1.0] |[-0.9259210191354426,1.4339920327685218]|0.05955         |\n",
      "|[0.0,2.0,4.0,1.0,4.0,5.0,0.0,2.08,1.0] |[-0.8448000085861026,0.8329008085340645]|0.0606          |\n",
      "|[0.0,2.0,0.0,1.0,2.0,5.0,0.0,2.17,1.0] |[-1.318291481383006,1.0087305255810015] |0.0606          |\n",
      "|[3.0,2.0,1.0,1.0,4.0,5.0,0.0,2.17,1.0] |[-2.417590536963784,0.858980500708307]  |0.05954         |\n",
      "|[3.0,2.0,0.0,1.0,2.0,5.0,0.0,2.25,1.0] |[-2.5688140442996663,1.1282269508333813]|0.05954         |\n",
      "|[3.0,2.0,0.0,1.0,2.0,5.0,0.0,2.25,1.0] |[-2.5688140442996663,1.1282269508333813]|0.05954         |\n",
      "|[3.0,2.0,4.0,1.0,0.0,5.0,0.0,2.33,1.0] |[-2.181806914864581,1.5532232150425151] |0.05954         |\n",
      "|[2.0,2.0,1.0,1.0,4.0,5.0,0.0,2.17,1.0] |[-1.9989619050540708,0.8192367732836425]|0.05955         |\n",
      "|[2.0,2.0,4.0,1.0,0.0,5.0,0.0,2.17,1.0] |[-1.7739049485798248,1.5129490016610776]|0.05955         |\n",
      "|[2.0,2.0,0.0,1.0,2.0,5.0,0.0,2.25,1.0] |[-2.1501854123899533,1.088483223408717] |0.05955         |\n",
      "|[2.0,2.0,4.0,1.0,4.0,5.0,0.0,2.33,1.0] |[-1.6652968573665339,0.9132171476908513]|0.05955         |\n",
      "|[1.0,2.0,1.0,1.0,4.0,5.0,0.0,2.08,1.0] |[-1.5863670225583961,0.7791946475082933]|0.05955         |\n",
      "|[1.0,2.0,1.0,1.0,4.0,5.0,0.0,2.17,1.0] |[-1.580333273144358,0.779493045858978]  |0.05955         |\n",
      "|[4.0,2.0,2.0,0.0,1.0,5.0,0.0,12.25,1.0]|[-1.3926015985153117,1.624335090645674] |0.05949         |\n",
      "|[4.0,2.0,2.0,0.0,4.0,5.0,0.0,16.33,1.0]|[-1.0456605558876697,1.1876657275981355]|0.05949         |\n",
      "+---------------------------------------+----------------------------------------+----------------+\n",
      "only showing top 20 rows\n",
      "\n"
     ]
    }
   ],
   "source": [
    "feature_vector_df = final_df.select(['features','pcafeatures', 'normalized_price'])\n",
    "feature_vector_df.show(truncate=False)"
   ]
  },
  {
   "cell_type": "markdown",
   "metadata": {
    "id": "Z1vpDBjPzvgP"
   },
   "source": [
    "<h3> Regression Model"
   ]
  },
  {
   "cell_type": "code",
   "execution_count": 19,
   "metadata": {
    "id": "97avOOBezvgP"
   },
   "outputs": [],
   "source": [
    "from pyspark.ml.evaluation import RegressionEvaluator"
   ]
  },
  {
   "cell_type": "code",
   "execution_count": 20,
   "metadata": {
    "id": "waKoVsS1zvgP"
   },
   "outputs": [],
   "source": [
    "(trainData, testData) = feature_vector_df.randomSplit([0.8,0.2],seed = 2)"
   ]
  },
  {
   "cell_type": "markdown",
   "metadata": {
    "id": "8FHW_6CgzvgP"
   },
   "source": [
    "<h5> XGBoost"
   ]
  },
  {
   "cell_type": "code",
   "execution_count": 21,
   "metadata": {},
   "outputs": [],
   "source": [
    "from pyspark.ml.regression import GBTRegressor\n",
    "import xgboost as xg\n",
    "import sklearn\n",
    "import numpy as np"
   ]
  },
  {
   "cell_type": "code",
   "execution_count": 22,
   "metadata": {
    "id": "sR6psOr1zvgP"
   },
   "outputs": [
    {
     "name": "stderr",
     "output_type": "stream",
     "text": [
      "c:\\Users\\Alfred\\anaconda3\\envs\\kuliah\\Lib\\site-packages\\xgboost\\core.py:160: UserWarning: [23:58:15] WARNING: C:\\buildkite-agent\\builds\\buildkite-windows-cpu-autoscaling-group-i-0b3782d1791676daf-1\\xgboost\\xgboost-ci-windows\\src\\objective\\regression_obj.cu:209: reg:linear is now deprecated in favor of reg:squarederror.\n",
      "  warnings.warn(smsg, UserWarning)\n"
     ]
    }
   ],
   "source": [
    "xgb_r = xg.XGBRegressor(objective ='reg:linear',n_estimators = 10, seed = 123).fit(np.vstack(trainData.select(\"pcafeatures\").collect()), np.vstack(trainData.select(\"normalized_price\").collect()))"
   ]
  },
  {
   "cell_type": "code",
   "execution_count": 23,
   "metadata": {},
   "outputs": [
    {
     "data": {
      "text/plain": [
       "array([0.156964  , 0.1186531 , 0.1186531 , ..., 0.13934778, 0.13934778,\n",
       "       0.13934778], dtype=float32)"
      ]
     },
     "execution_count": 23,
     "metadata": {},
     "output_type": "execute_result"
    }
   ],
   "source": [
    "pred = xgb_r.predict(np.vstack(testData.select(\"pcafeatures\").collect()))\n",
    "pred"
   ]
  },
  {
   "cell_type": "code",
   "execution_count": 24,
   "metadata": {},
   "outputs": [
    {
     "name": "stdout",
     "output_type": "stream",
     "text": [
      "+----------------------------------+-------------------------------------------+----------------+-----------+-----------+\n",
      "|                          features|                                pcafeatures|normalized_price|      value| prediction|\n",
      "+----------------------------------+-------------------------------------------+----------------+-----------+-----------+\n",
      "|(9,[0,1,7,8],[1.0,2.0,25.83,32.0])|  [0.41392440114449125,-0.2835078796124625]|         0.05504|   0.156964|   0.156964|\n",
      "|  (9,[1,2,7,8],[2.0,4.0,4.83,8.0])|[-0.06280998827713538,-0.28395208578893105]|         0.24225|0.118653096|0.118653096|\n",
      "| (9,[1,2,7,8],[2.0,4.0,4.83,20.0])| [-0.10377365454085037,-0.2761150616926321]|         0.13003|0.118653096|0.118653096|\n",
      "| (9,[1,2,7,8],[2.0,4.0,4.83,23.0])|[-0.11401457110677912,-0.27415580566855735]|         0.10273|0.118653096|0.118653096|\n",
      "| (9,[1,2,7,8],[2.0,4.0,4.83,26.0])|[-0.12425548767270786,-0.27219654964448264]|         0.10798|0.118653096|0.118653096|\n",
      "| (9,[1,2,7,8],[2.0,4.0,4.83,29.0])|  [-0.1344964042386366,-0.2702372936204079]|         0.10273|0.118653096|0.118653096|\n",
      "| (9,[1,2,7,8],[2.0,4.0,4.83,34.0])| [-0.15156459851518453,-0.2669718669136167]|         0.16888|0.118653096|0.118653096|\n",
      "| (9,[1,2,7,8],[2.0,4.0,4.83,35.0])|  [-0.1549782373704941,-0.2663187815722584]|         0.12058|0.118653096|0.118653096|\n",
      "| (9,[1,2,7,8],[2.0,4.0,4.83,39.0])|[-0.16863279279173243,-0.26370644020682543]|         0.09592|0.118653096|0.118653096|\n",
      "| (9,[1,2,7,8],[2.0,4.0,4.83,46.0])|  [-0.1925282647788995,-0.2591348428173177]|         0.06507|0.118653096|0.118653096|\n",
      "+----------------------------------+-------------------------------------------+----------------+-----------+-----------+\n",
      "only showing top 10 rows\n",
      "\n"
     ]
    }
   ],
   "source": [
    "from pyspark.sql.functions import monotonically_increasing_id\n",
    "\n",
    "test_pred = spark.createDataFrame(pred)\n",
    "\n",
    "testData_pred = testData.withColumn('key', monotonically_increasing_id())\n",
    "test_pred = test_pred.withColumn('key', monotonically_increasing_id())\n",
    "\n",
    "test_pred = test_pred.withColumn(\"prediction\", test_pred[\"value\"])\n",
    "# Perform the join on the key column\n",
    "test_with_pred = testData_pred.join(test_pred, on='key')\n",
    "\n",
    "\n",
    "test_with_pred = test_with_pred.drop('key')\n",
    "\n",
    "test_with_pred.show(10, truncate=50)"
   ]
  },
  {
   "cell_type": "code",
   "execution_count": 25,
   "metadata": {},
   "outputs": [
    {
     "name": "stdout",
     "output_type": "stream",
     "text": [
      "Root Mean Square of XGBoost model is 0.275372\n"
     ]
    }
   ],
   "source": [
    "evaluator = RegressionEvaluator(labelCol='normalized_price', predictionCol='prediction', metricName='rmse')\n",
    "rmse = evaluator.evaluate(test_with_pred)\n",
    "print (\"Root Mean Square of XGBoost model is %g\"%rmse)"
   ]
  },
  {
   "cell_type": "markdown",
   "metadata": {
    "id": "HZCDrfRXzvgQ"
   },
   "source": [
    "<h5> Random Forest Regressor"
   ]
  },
  {
   "cell_type": "code",
   "execution_count": 26,
   "metadata": {},
   "outputs": [],
   "source": [
    "from pyspark.ml.regression import RandomForestRegressor\n",
    "\n",
    "rf = RandomForestRegressor(featuresCol='features',labelCol='normalized_price').fit(trainData)\n",
    "prediction = rf.transform(testData)"
   ]
  },
  {
   "cell_type": "code",
   "execution_count": 27,
   "metadata": {},
   "outputs": [
    {
     "name": "stdout",
     "output_type": "stream",
     "text": [
      "+----------------------------------+-------------------------------------------+----------------+-------------------+\n",
      "|                          features|                                pcafeatures|normalized_price|         prediction|\n",
      "+----------------------------------+-------------------------------------------+----------------+-------------------+\n",
      "|(9,[0,1,7,8],[1.0,2.0,25.83,32.0])|  [0.41392440114449125,-0.2835078796124625]|         0.05504| 0.1015390227579031|\n",
      "|  (9,[1,2,7,8],[2.0,4.0,4.83,8.0])|[-0.06280998827713538,-0.28395208578893105]|         0.24225|0.14803961312439845|\n",
      "| (9,[1,2,7,8],[2.0,4.0,4.83,20.0])| [-0.10377365454085037,-0.2761150616926321]|         0.13003|0.10153763330402718|\n",
      "| (9,[1,2,7,8],[2.0,4.0,4.83,23.0])|[-0.11401457110677912,-0.27415580566855735]|         0.10273|0.10153763330402718|\n",
      "| (9,[1,2,7,8],[2.0,4.0,4.83,26.0])|[-0.12425548767270786,-0.27219654964448264]|         0.10798|0.10153763330402718|\n",
      "| (9,[1,2,7,8],[2.0,4.0,4.83,29.0])|  [-0.1344964042386366,-0.2702372936204079]|         0.10273|0.10153763330402718|\n",
      "| (9,[1,2,7,8],[2.0,4.0,4.83,34.0])| [-0.15156459851518453,-0.2669718669136167]|         0.16888|0.10153763330402718|\n",
      "| (9,[1,2,7,8],[2.0,4.0,4.83,35.0])|  [-0.1549782373704941,-0.2663187815722584]|         0.12058|0.10153763330402718|\n",
      "| (9,[1,2,7,8],[2.0,4.0,4.83,39.0])|[-0.16863279279173243,-0.26370644020682543]|         0.09592|0.10153763330402718|\n",
      "| (9,[1,2,7,8],[2.0,4.0,4.83,46.0])|  [-0.1925282647788995,-0.2591348428173177]|         0.06507|0.10153763330402718|\n",
      "+----------------------------------+-------------------------------------------+----------------+-------------------+\n",
      "only showing top 10 rows\n",
      "\n"
     ]
    }
   ],
   "source": [
    "prediction.show(10, truncate=50)"
   ]
  },
  {
   "cell_type": "code",
   "execution_count": 28,
   "metadata": {},
   "outputs": [
    {
     "name": "stdout",
     "output_type": "stream",
     "text": [
      "Root Mean Square of Random Forest model is 0.0620803\n"
     ]
    }
   ],
   "source": [
    "evaluator = RegressionEvaluator(labelCol='normalized_price', predictionCol='prediction', metricName='rmse')\n",
    "rmse = evaluator.evaluate(prediction)\n",
    "print (\"Root Mean Square of Random Forest model is %g\"%rmse)"
   ]
  },
  {
   "cell_type": "markdown",
   "metadata": {},
   "source": [
    "With PCA ed Features"
   ]
  },
  {
   "cell_type": "code",
   "execution_count": 29,
   "metadata": {},
   "outputs": [],
   "source": [
    "rf = RandomForestRegressor(featuresCol='pcafeatures',labelCol='normalized_price').fit(trainData)\n",
    "prediction = rf.transform(testData)"
   ]
  },
  {
   "cell_type": "code",
   "execution_count": 30,
   "metadata": {},
   "outputs": [
    {
     "name": "stdout",
     "output_type": "stream",
     "text": [
      "+----------------------------------+-------------------------------------------+----------------+-------------------+\n",
      "|                          features|                                pcafeatures|normalized_price|         prediction|\n",
      "+----------------------------------+-------------------------------------------+----------------+-------------------+\n",
      "|(9,[0,1,7,8],[1.0,2.0,25.83,32.0])|  [0.41392440114449125,-0.2835078796124625]|         0.05504|0.12411490720503404|\n",
      "|  (9,[1,2,7,8],[2.0,4.0,4.83,8.0])|[-0.06280998827713538,-0.28395208578893105]|         0.24225|0.12331327429914984|\n",
      "| (9,[1,2,7,8],[2.0,4.0,4.83,20.0])| [-0.10377365454085037,-0.2761150616926321]|         0.13003|0.12331327429914984|\n",
      "| (9,[1,2,7,8],[2.0,4.0,4.83,23.0])|[-0.11401457110677912,-0.27415580566855735]|         0.10273|0.12331327429914984|\n",
      "| (9,[1,2,7,8],[2.0,4.0,4.83,26.0])|[-0.12425548767270786,-0.27219654964448264]|         0.10798|0.12331327429914984|\n",
      "| (9,[1,2,7,8],[2.0,4.0,4.83,29.0])|  [-0.1344964042386366,-0.2702372936204079]|         0.10273|0.12331327429914984|\n",
      "| (9,[1,2,7,8],[2.0,4.0,4.83,34.0])| [-0.15156459851518453,-0.2669718669136167]|         0.16888|0.12331327429914984|\n",
      "| (9,[1,2,7,8],[2.0,4.0,4.83,35.0])|  [-0.1549782373704941,-0.2663187815722584]|         0.12058|0.12331327429914984|\n",
      "| (9,[1,2,7,8],[2.0,4.0,4.83,39.0])|[-0.16863279279173243,-0.26370644020682543]|         0.09592|0.12331327429914984|\n",
      "| (9,[1,2,7,8],[2.0,4.0,4.83,46.0])|  [-0.1925282647788995,-0.2591348428173177]|         0.06507|0.12331327429914984|\n",
      "+----------------------------------+-------------------------------------------+----------------+-------------------+\n",
      "only showing top 10 rows\n",
      "\n"
     ]
    }
   ],
   "source": [
    "prediction.show(10, truncate=50)"
   ]
  },
  {
   "cell_type": "code",
   "execution_count": 31,
   "metadata": {},
   "outputs": [
    {
     "name": "stdout",
     "output_type": "stream",
     "text": [
      "Root Mean Square of Random Forest model is 0.134258\n"
     ]
    }
   ],
   "source": [
    "evaluator = RegressionEvaluator(labelCol='normalized_price', predictionCol='prediction', metricName='rmse')\n",
    "rmse = evaluator.evaluate(prediction)\n",
    "print (\"Root Mean Square of Random Forest model is %g\"%rmse)"
   ]
  },
  {
   "cell_type": "markdown",
   "metadata": {
    "id": "IshUUWfEzvgP"
   },
   "source": [
    "<h5> Support Vector Regressor"
   ]
  },
  {
   "cell_type": "code",
   "execution_count": 32,
   "metadata": {
    "id": "refwgalezvgQ"
   },
   "outputs": [],
   "source": [
    "from sklearn.svm import LinearSVR"
   ]
  },
  {
   "cell_type": "code",
   "execution_count": 33,
   "metadata": {},
   "outputs": [],
   "source": [
    "svr = LinearSVR(random_state=0,tol=1e-4,epsilon=0.1,dual=True)"
   ]
  },
  {
   "cell_type": "code",
   "execution_count": 44,
   "metadata": {},
   "outputs": [
    {
     "name": "stderr",
     "output_type": "stream",
     "text": [
      "c:\\Users\\Alfred\\anaconda3\\envs\\kuliah\\Lib\\site-packages\\sklearn\\utils\\validation.py:1300: DataConversionWarning: A column-vector y was passed when a 1d array was expected. Please change the shape of y to (n_samples, ), for example using ravel().\n",
      "  y = column_or_1d(y, warn=True)\n",
      "c:\\Users\\Alfred\\anaconda3\\envs\\kuliah\\Lib\\site-packages\\sklearn\\svm\\_base.py:1237: ConvergenceWarning: Liblinear failed to converge, increase the number of iterations.\n",
      "  warnings.warn(\n"
     ]
    }
   ],
   "source": [
    "svr_model = svr.fit(np.vstack(trainData.select(\"pcafeatures\").collect()),np.vstack(trainData.select(\"normalized_price\").collect()))"
   ]
  },
  {
   "cell_type": "code",
   "execution_count": 45,
   "metadata": {},
   "outputs": [],
   "source": [
    "y_pred = svr.predict(np.vstack(testData.select(\"pcafeatures\").collect()))"
   ]
  },
  {
   "cell_type": "code",
   "execution_count": 46,
   "metadata": {},
   "outputs": [
    {
     "name": "stdout",
     "output_type": "stream",
     "text": [
      "+----------------------------------+-------------------------------------------+----------------+-------------------+\n",
      "|                          features|                                pcafeatures|normalized_price|         prediction|\n",
      "+----------------------------------+-------------------------------------------+----------------+-------------------+\n",
      "|(9,[0,1,7,8],[1.0,2.0,25.83,32.0])|  [0.41392440114449125,-0.2835078796124625]|         0.05504| 0.2555560452891819|\n",
      "|  (9,[1,2,7,8],[2.0,4.0,4.83,8.0])|[-0.06280998827713538,-0.28395208578893105]|         0.24225|0.19807070181172298|\n",
      "| (9,[1,2,7,8],[2.0,4.0,4.83,20.0])| [-0.10377365454085037,-0.2761150616926321]|         0.13003|0.19304870063409196|\n",
      "| (9,[1,2,7,8],[2.0,4.0,4.83,23.0])|[-0.11401457110677912,-0.27415580566855735]|         0.10273| 0.1917932003396842|\n",
      "| (9,[1,2,7,8],[2.0,4.0,4.83,26.0])|[-0.12425548767270786,-0.27219654964448264]|         0.10798|0.19053770004527643|\n",
      "| (9,[1,2,7,8],[2.0,4.0,4.83,29.0])|  [-0.1344964042386366,-0.2702372936204079]|         0.10273|0.18928219975086868|\n",
      "| (9,[1,2,7,8],[2.0,4.0,4.83,34.0])| [-0.15156459851518453,-0.2669718669136167]|         0.16888|0.18718969926018908|\n",
      "| (9,[1,2,7,8],[2.0,4.0,4.83,35.0])|  [-0.1549782373704941,-0.2663187815722584]|         0.12058|0.18677119916205315|\n",
      "| (9,[1,2,7,8],[2.0,4.0,4.83,39.0])|[-0.16863279279173243,-0.26370644020682543]|         0.09592|0.18509719876950947|\n",
      "| (9,[1,2,7,8],[2.0,4.0,4.83,46.0])|  [-0.1925282647788995,-0.2591348428173177]|         0.06507|0.18216769808255803|\n",
      "+----------------------------------+-------------------------------------------+----------------+-------------------+\n",
      "only showing top 10 rows\n",
      "\n"
     ]
    }
   ],
   "source": [
    "from pyspark.sql.functions import monotonically_increasing_id\n",
    "\n",
    "test_pred = spark.createDataFrame(y_pred)\n",
    "\n",
    "testData_pred = testData.withColumn('key', monotonically_increasing_id())\n",
    "test_pred = test_pred.withColumn('key', monotonically_increasing_id())\n",
    "\n",
    "test_pred = test_pred.withColumn(\"prediction\", test_pred[\"value\"])\n",
    "# Perform the join on the key column\n",
    "test_with_pred = testData_pred.join(test_pred, on='key')\n",
    "\n",
    "\n",
    "test_with_pred = test_with_pred.drop('key')\n",
    "test_with_pred = test_with_pred.drop('value')\n",
    "\n",
    "test_with_pred.show(10, truncate=50)"
   ]
  },
  {
   "cell_type": "code",
   "execution_count": 47,
   "metadata": {},
   "outputs": [
    {
     "name": "stdout",
     "output_type": "stream",
     "text": [
      "Root Mean Square of SVR model is 0.264315\n"
     ]
    }
   ],
   "source": [
    "evaluator = RegressionEvaluator(labelCol='normalized_price', predictionCol='prediction', metricName='rmse')\n",
    "rmse = evaluator.evaluate(test_with_pred)\n",
    "print (\"Root Mean Square of SVR model is %g\"%rmse)"
   ]
  },
  {
   "cell_type": "code",
   "execution_count": 38,
   "metadata": {
    "id": "GjZ6P65KzvgR",
    "outputId": "3f57fca1-4a7e-483f-9e61-91d65cdd1fb2"
   },
   "outputs": [],
   "source": [
    "# spark.stop"
   ]
  }
 ],
 "metadata": {
  "colab": {
   "include_colab_link": true,
   "provenance": []
  },
  "kernelspec": {
   "display_name": "Dsci",
   "language": "python",
   "name": "kuliah"
  },
  "language_info": {
   "codemirror_mode": {
    "name": "ipython",
    "version": 3
   },
   "file_extension": ".py",
   "mimetype": "text/x-python",
   "name": "python",
   "nbconvert_exporter": "python",
   "pygments_lexer": "ipython3",
   "version": "3.11.8"
  }
 },
 "nbformat": 4,
 "nbformat_minor": 4
}
